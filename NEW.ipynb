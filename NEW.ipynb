{
 "cells": [
  {
   "cell_type": "code",
   "execution_count": null,
   "metadata": {
    "collapsed": true
   },
   "outputs": [],
   "source": [
    "import pandas as pd\n",
    "from ASSETS.CLASS.Viz import Viz"
   ]
  },
  {
   "cell_type": "code",
   "execution_count": null,
   "outputs": [],
   "source": [
    "df = pd.read_csv('DATA/PREPROCESSING/prepro_01c_geo_calcul.csv', nrows=10000)\n",
    "df.head()"
   ],
   "metadata": {
    "collapsed": false
   }
  },
  {
   "cell_type": "code",
   "execution_count": null,
   "outputs": [],
   "source": [
    "viz = Viz(df)"
   ],
   "metadata": {
    "collapsed": false
   }
  },
  {
   "cell_type": "code",
   "execution_count": null,
   "outputs": [],
   "source": [
    "viz.data_sample()"
   ],
   "metadata": {
    "collapsed": false
   }
  },
  {
   "cell_type": "code",
   "execution_count": null,
   "outputs": [],
   "source": [
    "# for column in df[df.columns.difference(['DT_NAISSANCE', 'DT_CREATION_CLIENT', 'DT_DERNIER_CLIC', 'DT_DERNIERE_OUVERTURE', 'DT_CREATION_WALLET', 'DT_DATE_PREMIER_ACHAT', 'DT_DATE_DERNIER_ACHAT', 'LB_MAIL_SHA256', 'ID_WALLET', 'ID_PREMIER_TICKET'])]:\n",
    "#     viz.look(column)"
   ],
   "metadata": {
    "collapsed": false
   }
  },
  {
   "cell_type": "code",
   "execution_count": null,
   "outputs": [],
   "source": [
    "from matplotlib import pyplot as plt\n",
    "import seaborn as sns\n",
    "sns.set_style(\"ticks\")\n",
    "\n",
    "df_serie = df['ACTIF_ACHAT'].value_counts()\n",
    "high = 20 // 4\n",
    "fig, ax = plt.subplots(figsize=(14, high))\n",
    "plot = sns.barplot(x=df_serie.values, y=df_serie.index, ax=ax)\n",
    "ax.set_title(f'Distribution de ACTIF_ACHAT', size=12, weight='bold')\n",
    "ax.bar_label(ax.containers[-1], padding=5)\n",
    "ax.tick_params(labelsize=8, color='r')\n",
    "plt.tight_layout()"
   ],
   "metadata": {
    "collapsed": false
   }
  },
  {
   "cell_type": "code",
   "execution_count": null,
   "outputs": [],
   "source": [
    "df['ACTIF_ACHAT'].value_counts()"
   ],
   "metadata": {
    "collapsed": false
   }
  },
  {
   "cell_type": "code",
   "execution_count": null,
   "outputs": [],
   "source": [
    "for column in df.columns:\n",
    "    viz.test(column)"
   ],
   "metadata": {
    "collapsed": false
   }
  },
  {
   "cell_type": "code",
   "execution_count": null,
   "outputs": [],
   "source": [
    "for column in df[df.columns.difference(['DT_NAISSANCE', 'DT_CREATION_CLIENT', 'DT_DERNIER_CLIC', 'DT_DERNIERE_OUVERTURE', 'DT_CREATION_WALLET', 'DT_DATE_PREMIER_ACHAT', 'DT_DATE_DERNIER_ACHAT', 'LB_MAIL_SHA256', 'ID_WALLET', 'ID_PREMIER_TICKET'])]:\n",
    "    viz.plotly(column)"
   ],
   "metadata": {
    "collapsed": false
   }
  }
 ],
 "metadata": {
  "kernelspec": {
   "display_name": "Python 3",
   "language": "python",
   "name": "python3"
  },
  "language_info": {
   "codemirror_mode": {
    "name": "ipython",
    "version": 2
   },
   "file_extension": ".py",
   "mimetype": "text/x-python",
   "name": "python",
   "nbconvert_exporter": "python",
   "pygments_lexer": "ipython2",
   "version": "2.7.6"
  }
 },
 "nbformat": 4,
 "nbformat_minor": 0
}
