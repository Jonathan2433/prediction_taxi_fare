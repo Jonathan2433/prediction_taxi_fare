{
 "cells": [
  {
   "cell_type": "markdown",
   "source": [
    "# GEOGRAPHIC PARTS\n",
    "# IMPORT LIBS"
   ],
   "metadata": {
    "collapsed": false
   }
  },
  {
   "cell_type": "code",
   "execution_count": null,
   "metadata": {
    "collapsed": true
   },
   "outputs": [],
   "source": [
    "import pandas as pd\n",
    "import plotly.express as px\n",
    "import math\n",
    "import numpy as np\n",
    "import geopy.distance"
   ]
  },
  {
   "cell_type": "markdown",
   "source": [
    "# OPEN DATASET"
   ],
   "metadata": {
    "collapsed": false
   }
  },
  {
   "cell_type": "code",
   "execution_count": null,
   "outputs": [],
   "source": [
    "df = pd.read_csv('../../DATA/PREPROCESSING/prepro_00_dropna.csv')\n",
    "df.head()"
   ],
   "metadata": {
    "collapsed": false
   }
  },
  {
   "cell_type": "markdown",
   "source": [
    "# DELETE ALL LATITUDE OUT OF RANGE"
   ],
   "metadata": {
    "collapsed": false
   }
  },
  {
   "cell_type": "code",
   "execution_count": null,
   "outputs": [],
   "source": [
    "df = df.loc[(df['pickup_latitude'] >= 40 ) & (df['pickup_latitude'] <= 42 ) & (df['dropoff_latitude'] >= 40 ) & (df['dropoff_latitude'] <= 42 ) & (df['pickup_longitude'] >= -76 ) & (df['pickup_longitude'] <= -72 ) & (df['dropoff_longitude'] >= -76 ) & (df['dropoff_longitude'] <= -72 )]\n",
    "df.head()"
   ],
   "metadata": {
    "collapsed": false
   }
  },
  {
   "cell_type": "markdown",
   "source": [
    "# CALCUL DISTANCE WITH GEOPY LIB"
   ],
   "metadata": {
    "collapsed": false
   }
  },
  {
   "cell_type": "code",
   "execution_count": null,
   "outputs": [],
   "source": [
    "df['Distance (miles)'] = df.apply(lambda row: geopy.distance.geodesic((row['pickup_latitude'], row['pickup_longitude']), (row['dropoff_latitude'], row['dropoff_longitude'])).miles, axis=1)\n",
    "\n",
    "df.head()"
   ],
   "metadata": {
    "collapsed": false
   }
  },
  {
   "cell_type": "markdown",
   "source": [
    "On this plot, we can see too many drive with high distance but cheap price AND too many drive with cheap distance but high price.\n",
    "So, we gonna limit this by adding a price by kmfeature and try to drpo rows with price by km useless"
   ],
   "metadata": {
    "collapsed": false
   }
  },
  {
   "cell_type": "markdown",
   "source": [
    "# VISUALISATION OF OUTLIERS\n",
    "## DISPLAY DISTANCE DISTRIBUTION"
   ],
   "metadata": {
    "collapsed": false
   }
  },
  {
   "cell_type": "code",
   "execution_count": null,
   "outputs": [],
   "source": [
    "# fig = px.violin(df, y=\"Distance (miles)\", box=True,\n",
    "#                 # points=\"all\",\n",
    "#                 # hover_data=df.columns,\n",
    "#                 title='Violin plot of Distance distribution'\n",
    "#                 )\n",
    "# fig.show()"
   ],
   "metadata": {
    "collapsed": false
   }
  },
  {
   "cell_type": "markdown",
   "source": [
    "# Calcul D’Outliers :\n",
    "X < q1 - 1.5 x iqr X > q3 - 1.5 x iqr"
   ],
   "metadata": {
    "collapsed": false
   }
  },
  {
   "cell_type": "code",
   "execution_count": null,
   "outputs": [],
   "source": [
    "q1 = df['Distance (miles)'].quantile([.25])\n",
    "q1 = q1[0.25]\n",
    "q3 = df['Distance (miles)'].quantile([.75])\n",
    "q3 = q3[0.75]\n",
    "\n",
    "iqr = q3 - q1"
   ],
   "metadata": {
    "collapsed": false
   }
  },
  {
   "cell_type": "code",
   "execution_count": null,
   "outputs": [],
   "source": [
    "print(f\" IQR = {iqr}, q1 = {q1}, q3 = {q3}\")"
   ],
   "metadata": {
    "collapsed": false
   }
  },
  {
   "cell_type": "code",
   "execution_count": null,
   "outputs": [],
   "source": [
    "outliers_superieur = q3 + (1.5 * iqr)\n",
    "outliers_inferieur = q1 - (1.5 * iqr)\n",
    "\n",
    "print(f'Outliers Inférieur = {outliers_inferieur}')\n",
    "print(f'Outliers Supérieur = {outliers_superieur}')"
   ],
   "metadata": {
    "collapsed": false
   }
  },
  {
   "cell_type": "markdown",
   "source": [
    "# DROP OUTLIERS"
   ],
   "metadata": {
    "collapsed": false
   }
  },
  {
   "cell_type": "code",
   "execution_count": null,
   "outputs": [],
   "source": [
    "df = df.loc[(df['Distance (miles)'] <= outliers_superieur) & (df['Distance (miles)'] >= outliers_inferieur)]\n",
    "df.shape"
   ],
   "metadata": {
    "collapsed": false
   }
  },
  {
   "cell_type": "markdown",
   "source": [
    "# DISPLAY NEW VIOLIN PLOT WITHOUT OUTLIERS"
   ],
   "metadata": {
    "collapsed": false
   }
  },
  {
   "cell_type": "code",
   "execution_count": null,
   "outputs": [],
   "source": [
    "# fig = px.violin(df, y=\"Distance (miles)\", box=True,\n",
    "#                 # points=\"all\",\n",
    "#                 # hover_data=df.columns,\n",
    "#                 title='Violin plot of Distance distribution'\n",
    "#                 )\n",
    "# fig.show()"
   ],
   "metadata": {
    "collapsed": false
   }
  },
  {
   "cell_type": "markdown",
   "source": [
    "# SCATTER PLOT OF FARE AMOUNT BY DISTANCE"
   ],
   "metadata": {
    "collapsed": false
   }
  },
  {
   "cell_type": "code",
   "execution_count": null,
   "outputs": [],
   "source": [
    "# fig = px.scatter(df, x='Distance (miles)', y='fare_amount', color='passenger_count')\n",
    "# fig.show()"
   ],
   "metadata": {
    "collapsed": false
   }
  },
  {
   "cell_type": "markdown",
   "source": [
    "# DISPLAY NUMBER OF ROWS AFTER PREPROCESSING"
   ],
   "metadata": {
    "collapsed": false
   }
  },
  {
   "cell_type": "code",
   "execution_count": null,
   "outputs": [],
   "source": [
    "df.shape"
   ],
   "metadata": {
    "collapsed": false
   }
  },
  {
   "cell_type": "markdown",
   "source": [
    "# EXPORT CSV"
   ],
   "metadata": {
    "collapsed": false
   }
  },
  {
   "cell_type": "code",
   "execution_count": null,
   "outputs": [],
   "source": [
    "df.to_csv('../../DATA/PREPROCESSING/prepro_01_geo.csv', index=False)"
   ],
   "metadata": {
    "collapsed": false
   }
  }
 ],
 "metadata": {
  "kernelspec": {
   "display_name": "Python 3",
   "language": "python",
   "name": "python3"
  },
  "language_info": {
   "codemirror_mode": {
    "name": "ipython",
    "version": 2
   },
   "file_extension": ".py",
   "mimetype": "text/x-python",
   "name": "python",
   "nbconvert_exporter": "python",
   "pygments_lexer": "ipython2",
   "version": "2.7.6"
  }
 },
 "nbformat": 4,
 "nbformat_minor": 0
}
