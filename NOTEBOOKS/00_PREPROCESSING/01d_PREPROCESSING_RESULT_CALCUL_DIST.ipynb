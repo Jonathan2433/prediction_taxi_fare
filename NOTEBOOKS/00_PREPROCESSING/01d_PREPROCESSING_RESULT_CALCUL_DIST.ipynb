{
 "cells": [
  {
   "cell_type": "markdown",
   "source": [
    "# PREPROCESSING OF RESULTS DRIVING DISTANCE AND DURATION FROM CALCUL\n",
    "\n",
    "# IMPORT LIBS"
   ],
   "metadata": {
    "collapsed": false
   }
  },
  {
   "cell_type": "code",
   "execution_count": null,
   "metadata": {
    "collapsed": true
   },
   "outputs": [],
   "source": [
    "import pandas as pd\n",
    "import plotly.express as px"
   ]
  },
  {
   "cell_type": "markdown",
   "source": [
    "# OPEN DATASET"
   ],
   "metadata": {
    "collapsed": false
   }
  },
  {
   "cell_type": "code",
   "execution_count": null,
   "outputs": [],
   "source": [
    "df = pd.read_csv('../../DATA/PREPROCESSING/prepro_01c_geo_calcul.csv')\n",
    "df.head()"
   ],
   "metadata": {
    "collapsed": false
   }
  },
  {
   "cell_type": "markdown",
   "source": [
    "# SCATTER PLOT OF DISTANCE AND DRIVING DISTANCE"
   ],
   "metadata": {
    "collapsed": false
   }
  },
  {
   "cell_type": "code",
   "execution_count": null,
   "outputs": [],
   "source": [
    "# fig = px.violin(df, y=\"Driving distance (miles)\", box=True,\n",
    "#                 # points=\"all\",\n",
    "#                 # hover_data=df.columns,\n",
    "#                 title='Violin plot of Driving distance distribution'\n",
    "#                 )\n",
    "# fig.show()"
   ],
   "metadata": {
    "collapsed": false
   }
  },
  {
   "cell_type": "markdown",
   "source": [
    "# DELETE ALL RACE UNDER 0.5 MILES"
   ],
   "metadata": {
    "collapsed": false
   }
  },
  {
   "cell_type": "code",
   "execution_count": null,
   "outputs": [],
   "source": [
    "df = df.loc[(df['Driving distance (miles)'] > 0.5)]"
   ],
   "metadata": {
    "collapsed": false
   }
  },
  {
   "cell_type": "markdown",
   "source": [
    "# DISPLAY NUMBER OF ROWS AFTER PREPROCESSING"
   ],
   "metadata": {
    "collapsed": false
   }
  },
  {
   "cell_type": "code",
   "execution_count": null,
   "outputs": [],
   "source": [
    "df.shape"
   ],
   "metadata": {
    "collapsed": false
   }
  },
  {
   "cell_type": "markdown",
   "source": [
    "# EXPORT CSV"
   ],
   "metadata": {
    "collapsed": false
   }
  },
  {
   "cell_type": "code",
   "execution_count": null,
   "outputs": [],
   "source": [
    "df.to_csv('../../DATA/PREPROCESSING/prepro_01d_geo_result_calcul.csv', index=False)"
   ],
   "metadata": {
    "collapsed": false
   }
  }
 ],
 "metadata": {
  "kernelspec": {
   "display_name": "Python 3",
   "language": "python",
   "name": "python3"
  },
  "language_info": {
   "codemirror_mode": {
    "name": "ipython",
    "version": 2
   },
   "file_extension": ".py",
   "mimetype": "text/x-python",
   "name": "python",
   "nbconvert_exporter": "python",
   "pygments_lexer": "ipython2",
   "version": "2.7.6"
  }
 },
 "nbformat": 4,
 "nbformat_minor": 0
}
