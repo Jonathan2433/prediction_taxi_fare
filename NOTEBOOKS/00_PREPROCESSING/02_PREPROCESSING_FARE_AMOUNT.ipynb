{
 "cells": [
  {
   "cell_type": "markdown",
   "source": [
    "# PREPROCESSING OF FARE AMOUNT\n",
    "\n",
    "# IMPORT LIBS"
   ],
   "metadata": {
    "collapsed": false
   }
  },
  {
   "cell_type": "code",
   "execution_count": null,
   "metadata": {
    "collapsed": true
   },
   "outputs": [],
   "source": [
    "import pandas as pd\n",
    "import plotly.express as px\n",
    "import numpy as np"
   ]
  },
  {
   "cell_type": "markdown",
   "source": [
    "# OPEN DATASET"
   ],
   "metadata": {
    "collapsed": false
   }
  },
  {
   "cell_type": "code",
   "execution_count": null,
   "outputs": [],
   "source": [
    "df = pd.read_csv('../../DATA/PREPROCESSING/prepro_01d_geo_result_calcul.csv')\n",
    "df.head()"
   ],
   "metadata": {
    "collapsed": false
   }
  },
  {
   "cell_type": "markdown",
   "source": [
    "# VISUALISATION OF OUTLIERS"
   ],
   "metadata": {
    "collapsed": false
   }
  },
  {
   "cell_type": "markdown",
   "source": [
    "## DISPLAY FARE AMOUNT DISTRIBUTION"
   ],
   "metadata": {
    "collapsed": false
   }
  },
  {
   "cell_type": "code",
   "execution_count": null,
   "outputs": [],
   "source": [
    "# fig = px.box(df, y=\"fare_amount\", title='Box plot of fare amount distribution')\n",
    "# fig.show()"
   ],
   "metadata": {
    "collapsed": false
   }
  },
  {
   "cell_type": "markdown",
   "source": [
    "We can saw the box plot is crushed, we gonna try to display a violin plot to saw the density of outliers"
   ],
   "metadata": {
    "collapsed": false
   }
  },
  {
   "cell_type": "code",
   "execution_count": null,
   "outputs": [],
   "source": [
    "# fig = px.violin(df, y=\"fare_amount\", box=True, # draw box plot inside the violin\n",
    "#                 # points='all',# can be 'outliers', or False\n",
    "#                 title='Violin plot of fare amount distribution'\n",
    "#                 )\n",
    "# fig.show()"
   ],
   "metadata": {
    "collapsed": false
   }
  },
  {
   "cell_type": "markdown",
   "source": [
    "### Calcul D’Outliers :\n",
    "X < q1 - 1.5 x iqr X > q3 - 1.5 x iqr"
   ],
   "metadata": {
    "collapsed": false
   }
  },
  {
   "cell_type": "code",
   "execution_count": null,
   "outputs": [],
   "source": [
    "q1 = df['fare_amount'].quantile([.25])\n",
    "q1 = q1[0.25]\n",
    "q3 = df['fare_amount'].quantile([.75])\n",
    "q3 = q3[0.75]\n",
    "\n",
    "iqr = q3 - q1"
   ],
   "metadata": {
    "collapsed": false
   }
  },
  {
   "cell_type": "code",
   "execution_count": null,
   "outputs": [],
   "source": [
    "print(f\" IQR = {iqr}, q1 = {q1}, q3 = {q3}\")"
   ],
   "metadata": {
    "collapsed": false
   }
  },
  {
   "cell_type": "code",
   "execution_count": null,
   "outputs": [],
   "source": [
    "outliers_superieur = q3 + (1.5 * iqr)\n",
    "outliers_inferieur = q1 - (1.5 * iqr)\n",
    "\n",
    "print(f'Outliers Inférieur = {outliers_inferieur}')\n",
    "print(f'Outliers Supérieur = {outliers_superieur}')"
   ],
   "metadata": {
    "collapsed": false
   }
  },
  {
   "cell_type": "markdown",
   "source": [
    "## DELETE OUTLIERS"
   ],
   "metadata": {
    "collapsed": false
   }
  },
  {
   "cell_type": "code",
   "execution_count": null,
   "outputs": [],
   "source": [
    "df = df.loc[(df['fare_amount'] <= outliers_superieur) & (df['fare_amount'] >= outliers_inferieur)]\n",
    "df.shape"
   ],
   "metadata": {
    "collapsed": false
   }
  },
  {
   "cell_type": "markdown",
   "source": [
    "# DISPLAY A NEW VIOLIN PLOT OF DISTRIBUTION OF FARE AMOUNT WITHOUT OUTLIERS"
   ],
   "metadata": {
    "collapsed": false
   }
  },
  {
   "cell_type": "code",
   "execution_count": null,
   "outputs": [],
   "source": [
    "# fig = px.violin(df, y=\"fare_amount\", box=True, # draw box plot inside the violin\n",
    "#                 # points='all',# can be 'outliers', or False\n",
    "#                 title='Violin plot of fare amount distribution'\n",
    "#                 )\n",
    "# fig.show()"
   ],
   "metadata": {
    "collapsed": false
   }
  },
  {
   "cell_type": "markdown",
   "source": [
    "## DISPLAY PASSENGERS DISTRIBUTION"
   ],
   "metadata": {
    "collapsed": false
   }
  },
  {
   "cell_type": "code",
   "execution_count": null,
   "outputs": [],
   "source": [
    "# fig = px.violin(df, y=\"fare_amount\", x=\"passenger_count\", box=True,\n",
    "#                 # points=\"all\",\n",
    "#                 # hover_data=df.columns,\n",
    "#                 title='Violin plot of numbers of passengers count distribution'\n",
    "#                 )\n",
    "# fig.show()"
   ],
   "metadata": {
    "collapsed": false
   }
  },
  {
   "cell_type": "markdown",
   "source": [
    "With this plot, we saw the passengers count didn't impact us fare amount, so we don't gonnawork with this feature"
   ],
   "metadata": {
    "collapsed": false
   }
  },
  {
   "cell_type": "markdown",
   "source": [
    "# DISPLAY ROWS NUMBERS AFTER PREPROCESSING"
   ],
   "metadata": {
    "collapsed": false
   }
  },
  {
   "cell_type": "code",
   "execution_count": null,
   "outputs": [],
   "source": [
    "df.shape"
   ],
   "metadata": {
    "collapsed": false
   }
  },
  {
   "cell_type": "markdown",
   "source": [
    "# EXPORT CSV"
   ],
   "metadata": {
    "collapsed": false
   }
  },
  {
   "cell_type": "code",
   "execution_count": null,
   "outputs": [],
   "source": [
    "df.to_csv('../../DATA/PREPROCESSING/prepro_02_fare_amount.csv', index=False)"
   ],
   "metadata": {
    "collapsed": false
   }
  },
  {
   "cell_type": "code",
   "execution_count": null,
   "outputs": [],
   "source": [],
   "metadata": {
    "collapsed": false
   }
  }
 ],
 "metadata": {
  "kernelspec": {
   "display_name": "Python 3",
   "language": "python",
   "name": "python3"
  },
  "language_info": {
   "codemirror_mode": {
    "name": "ipython",
    "version": 2
   },
   "file_extension": ".py",
   "mimetype": "text/x-python",
   "name": "python",
   "nbconvert_exporter": "python",
   "pygments_lexer": "ipython2",
   "version": "2.7.6"
  }
 },
 "nbformat": 4,
 "nbformat_minor": 0
}
