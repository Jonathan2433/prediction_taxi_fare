{
 "cells": [
  {
   "cell_type": "markdown",
   "source": [
    "# GOOGLE MAP API\n",
    "\n",
    "# IMPORT LIBS"
   ],
   "metadata": {
    "collapsed": false
   }
  },
  {
   "cell_type": "code",
   "execution_count": null,
   "metadata": {
    "collapsed": true
   },
   "outputs": [],
   "source": [
    "import pandas as pd\n",
    "import json\n",
    "import requests\n",
    "import time"
   ]
  },
  {
   "cell_type": "markdown",
   "source": [
    "# OPEN DATASET"
   ],
   "metadata": {
    "collapsed": false
   }
  },
  {
   "cell_type": "code",
   "execution_count": null,
   "outputs": [],
   "source": [
    "df = pd.read_csv('../../DATA/PREPROCESSING/prepro_01_geo.csv')\n",
    "df"
   ],
   "metadata": {
    "collapsed": false
   }
  },
  {
   "cell_type": "markdown",
   "source": [
    "# GET MY API KEY"
   ],
   "metadata": {
    "collapsed": false
   }
  },
  {
   "cell_type": "code",
   "execution_count": null,
   "outputs": [],
   "source": [
    "def get_keys(path):\n",
    "    with open(path) as f:\n",
    "        return json.load(f)\n",
    "API_key = get_keys(\"../../ASSETS/GMAP/api_key.json\")\n",
    "google_key = list(API_key.values())[0]"
   ],
   "metadata": {
    "collapsed": false
   }
  },
  {
   "cell_type": "markdown",
   "source": [
    "# GET THE DRIVING AN DURATION DISTANCE AND INSERT INTO LIST"
   ],
   "metadata": {
    "collapsed": false
   }
  },
  {
   "cell_type": "code",
   "execution_count": null,
   "outputs": [],
   "source": [
    "lat_origin = df['pickup_latitude'].tolist()\n",
    "long_origin = df['pickup_longitude'].tolist()\n",
    "lat_destination = df['dropoff_latitude'].tolist()\n",
    "long_destination = df['dropoff_longitude'].tolist()\n",
    "\n",
    "distance = []\n",
    "duration = []\n",
    "drop = []\n",
    "for i in range(len(long_destination)):\n",
    "    url = f\"https://maps.googleapis.com/maps/api/distancematrix/json?units=imperial&origins={lat_origin[i]},{long_origin[i]}&destinations={lat_destination[i]}%2C{long_destination[i]}&key={google_key}\"\n",
    "    print(url)\n",
    "    r=requests.get(url)\n",
    "    print(r)\n",
    "    data = r.json()\n",
    "    print(data)\n",
    "    try:\n",
    "        print(data['rows'][0]['elements'][0]['distance']['text'])\n",
    "        distance.append(data['rows'][0]['elements'][0]['distance']['text'])\n",
    "        print(data['rows'][0]['elements'][0]['duration']['text'])\n",
    "        duration.append(data['rows'][0]['elements'][0]['duration']['text'])\n",
    "    except:\n",
    "        drop.append([lat_origin[i], long_origin[i], lat_destination[i], long_destination[i]])\n",
    "        pass\n",
    "    time.sleep(0.5)"
   ],
   "metadata": {
    "collapsed": false
   }
  },
  {
   "cell_type": "markdown",
   "source": [
    "# CLEAN THE RESULT AND INSERT INTO DF"
   ],
   "metadata": {
    "collapsed": false
   }
  },
  {
   "cell_type": "code",
   "execution_count": null,
   "outputs": [],
   "source": [
    "distance_cleaned = []\n",
    "duration_cleaned = []\n",
    "for i in range(len(distance)):\n",
    "    distance_clean = distance[i].replace(' mi', '').replace(' ft', '')\n",
    "    float_distance_clean = float(distance_clean)\n",
    "    distance_cleaned.append(float_distance_clean)\n",
    "    duration_clean = duration[i].replace(' mins', '').replace(' min', '')\n",
    "    float_duration_clean = float(duration_clean)\n",
    "    duration_cleaned.append(float_duration_clean)\n",
    "\n",
    "\n",
    "df['Driving distance (miles)'] = distance_cleaned\n",
    "df['Driving duration'] = duration_cleaned\n",
    "df.head()"
   ],
   "metadata": {
    "collapsed": false
   }
  },
  {
   "cell_type": "markdown",
   "source": [
    "# EXPORT DF"
   ],
   "metadata": {
    "collapsed": false
   }
  },
  {
   "cell_type": "code",
   "execution_count": null,
   "outputs": [],
   "source": [
    "df.to_csv('../../DATA/PREPROCESSING/prepro_01a_geo_gmap.csv', index=False)"
   ],
   "metadata": {
    "collapsed": false
   }
  }
 ],
 "metadata": {
  "kernelspec": {
   "display_name": "Python 3",
   "language": "python",
   "name": "python3"
  },
  "language_info": {
   "codemirror_mode": {
    "name": "ipython",
    "version": 2
   },
   "file_extension": ".py",
   "mimetype": "text/x-python",
   "name": "python",
   "nbconvert_exporter": "python",
   "pygments_lexer": "ipython2",
   "version": "2.7.6"
  }
 },
 "nbformat": 4,
 "nbformat_minor": 0
}
