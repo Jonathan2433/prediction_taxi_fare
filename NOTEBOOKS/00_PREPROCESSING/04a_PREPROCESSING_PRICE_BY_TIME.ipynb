{
 "cells": [
  {
   "cell_type": "markdown",
   "source": [
    "# PREPROCESSING OF PRICE BY TIME\n",
    "\n",
    "# IMPORT LIBS"
   ],
   "metadata": {
    "collapsed": false
   }
  },
  {
   "cell_type": "code",
   "execution_count": null,
   "metadata": {
    "collapsed": true
   },
   "outputs": [],
   "source": [
    "import pandas as pd\n",
    "import plotly.express as px"
   ]
  },
  {
   "cell_type": "markdown",
   "source": [
    "# OPEN DATASET"
   ],
   "metadata": {
    "collapsed": false
   }
  },
  {
   "cell_type": "code",
   "execution_count": null,
   "outputs": [],
   "source": [
    "df = pd.read_csv('../../DATA/PREPROCESSING/prepro_04_price_by_miles.csv')\n",
    "df.head()"
   ],
   "metadata": {
    "collapsed": false
   }
  },
  {
   "cell_type": "markdown",
   "source": [
    "# CREATE NEW FEATURE PRICE BY TIME"
   ],
   "metadata": {
    "collapsed": false
   }
  },
  {
   "cell_type": "code",
   "execution_count": null,
   "outputs": [],
   "source": [
    "df['price_by_time'] = df['fare_amount'] / df['Driving duration (min)']\n",
    "df.head()"
   ],
   "metadata": {
    "collapsed": false
   }
  },
  {
   "cell_type": "markdown",
   "source": [
    "# DISPLAY A NEW VIOLIN PLOT OF DISTRIBUTION OF PRICE BY TIME"
   ],
   "metadata": {
    "collapsed": false
   }
  },
  {
   "cell_type": "code",
   "execution_count": null,
   "outputs": [],
   "source": [
    "# fig = px.violin(df, y=\"price_by_miles\", box=True, # draw box plot inside the violin\n",
    "#                       # points='all',# can be 'outliers', or False\n",
    "#                       title='Violin plot of price_by_km distribution'\n",
    "#                       )\n",
    "# fig.show()"
   ],
   "metadata": {
    "collapsed": false
   }
  },
  {
   "cell_type": "markdown",
   "source": [
    "# OUTLIERS\n",
    "\n",
    "### Calcul D’Outliers :\n",
    "X < q1 - 1.5 x iqr X > q3 - 1.5 x iqr"
   ],
   "metadata": {
    "collapsed": false
   }
  },
  {
   "cell_type": "code",
   "execution_count": null,
   "outputs": [],
   "source": [
    "q1 = df['price_by_time'].quantile([.25])\n",
    "q1 = q1[0.25]\n",
    "q3 = df['price_by_time'].quantile([.75])\n",
    "q3 = q3[0.75]\n",
    "\n",
    "iqr = q3 - q1"
   ],
   "metadata": {
    "collapsed": false
   }
  },
  {
   "cell_type": "code",
   "execution_count": null,
   "outputs": [],
   "source": [
    "print(f\" IQR = {iqr}, q1 = {q1}, q3 = {q3}\")"
   ],
   "metadata": {
    "collapsed": false
   }
  },
  {
   "cell_type": "code",
   "execution_count": null,
   "outputs": [],
   "source": [
    "outliers_superieur = q3 + (1.5 * iqr)\n",
    "outliers_inferieur = q1 - (1.5 * iqr)\n",
    "\n",
    "print(f'Outliers Inférieur = {outliers_inferieur}')\n",
    "print(f'Outliers Supérieur = {outliers_superieur}')"
   ],
   "metadata": {
    "collapsed": false
   }
  },
  {
   "cell_type": "markdown",
   "source": [
    "## DELETE OUTLIERS"
   ],
   "metadata": {
    "collapsed": false
   }
  },
  {
   "cell_type": "code",
   "execution_count": null,
   "outputs": [],
   "source": [
    "df = df.loc[(df['price_by_time'] <= outliers_superieur) & (df['price_by_time'] >= outliers_inferieur)]\n",
    "df.shape"
   ],
   "metadata": {
    "collapsed": false
   }
  },
  {
   "cell_type": "markdown",
   "source": [
    "# DISPLAY A NEW VIOLIN PLOT OF DISTRIBUTION OF PRICE BY TIME WITHOUT OUTLIERS"
   ],
   "metadata": {
    "collapsed": false
   }
  },
  {
   "cell_type": "code",
   "execution_count": null,
   "outputs": [],
   "source": [
    "fig = px.violin(df, y=\"price_by_time\", box=True, # draw box plot inside the violin\n",
    "                # points='all',# can be 'outliers', or False\n",
    "                title='Violin plot of price by time distribution'\n",
    "                )\n",
    "fig.show()"
   ],
   "metadata": {
    "collapsed": false
   }
  },
  {
   "cell_type": "markdown",
   "source": [
    "# EXPORT CSV"
   ],
   "metadata": {
    "collapsed": false
   }
  },
  {
   "cell_type": "code",
   "execution_count": null,
   "outputs": [],
   "source": [
    "df.to_csv('../../DATA/PREPROCESSING/prepro_04a_price_by_time.csv', index=False)"
   ],
   "metadata": {
    "collapsed": false
   }
  }
 ],
 "metadata": {
  "kernelspec": {
   "display_name": "Python 3",
   "language": "python",
   "name": "python3"
  },
  "language_info": {
   "codemirror_mode": {
    "name": "ipython",
    "version": 2
   },
   "file_extension": ".py",
   "mimetype": "text/x-python",
   "name": "python",
   "nbconvert_exporter": "python",
   "pygments_lexer": "ipython2",
   "version": "2.7.6"
  }
 },
 "nbformat": 4,
 "nbformat_minor": 0
}
