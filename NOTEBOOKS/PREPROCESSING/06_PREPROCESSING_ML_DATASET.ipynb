{
 "cells": [
  {
   "cell_type": "markdown",
   "source": [
    "# PREPROCESSING TO PREPARE THE DATASET FOR MODELS\n",
    "\n",
    "# IMPORT LIBS"
   ],
   "metadata": {
    "collapsed": false
   }
  },
  {
   "cell_type": "code",
   "execution_count": 4,
   "metadata": {
    "collapsed": true
   },
   "outputs": [],
   "source": [
    "import pandas as pd"
   ]
  },
  {
   "cell_type": "markdown",
   "source": [
    "# OPEN DATASET"
   ],
   "metadata": {
    "collapsed": false
   }
  },
  {
   "cell_type": "code",
   "execution_count": 16,
   "outputs": [
    {
     "data": {
      "text/plain": "   fare_amount  pickup_longitude  pickup_latitude  dropoff_longitude  \\\n0          4.5        -73.844311        40.721319         -73.841610   \n1          5.7        -73.982738        40.761270         -73.991242   \n2          7.7        -73.987130        40.733143         -73.991567   \n3          5.3        -73.968095        40.768008         -73.956655   \n4         12.1        -74.000964        40.731630         -73.972892   \n\n   dropoff_latitude  passenger_count  Distance (miles)  \\\n0         40.712278                1          0.639764   \n1         40.750562                2          0.863167   \n2         40.758092                1          1.737223   \n3         40.783762                1          1.241710   \n4         40.758233                1          2.353742   \n\n   Driving distance (miles)  Driving duration (min) day_of_the_week  \\\n0                  0.703741                2.111222          Monday   \n1                  0.949483                2.848450        Thursday   \n2                  1.910945                5.732836        Saturday   \n3                  1.365881                4.097642         Tuesday   \n4                  2.589116                7.767348        Thursday   \n\n         date                 time  public_holiday  price_by_miles  \\\n0  2009-06-15  1900-01-01 17:26:21           False        6.394401   \n1  2011-08-18  1900-01-01 00:35:00           False        6.003265   \n2  2012-04-21  1900-01-01 04:30:42           False        4.029419   \n3  2010-03-09  1900-01-01 07:51:00           False        3.880281   \n4  2011-01-06  1900-01-01 09:50:45           False        4.673410   \n\n   price_by_time  daytime  \n0       2.131467     True  \n1       2.001088    False  \n2       1.343140    False  \n3       1.293427     True  \n4       1.557803     True  ",
      "text/html": "<div>\n<style scoped>\n    .dataframe tbody tr th:only-of-type {\n        vertical-align: middle;\n    }\n\n    .dataframe tbody tr th {\n        vertical-align: top;\n    }\n\n    .dataframe thead th {\n        text-align: right;\n    }\n</style>\n<table border=\"1\" class=\"dataframe\">\n  <thead>\n    <tr style=\"text-align: right;\">\n      <th></th>\n      <th>fare_amount</th>\n      <th>pickup_longitude</th>\n      <th>pickup_latitude</th>\n      <th>dropoff_longitude</th>\n      <th>dropoff_latitude</th>\n      <th>passenger_count</th>\n      <th>Distance (miles)</th>\n      <th>Driving distance (miles)</th>\n      <th>Driving duration (min)</th>\n      <th>day_of_the_week</th>\n      <th>date</th>\n      <th>time</th>\n      <th>public_holiday</th>\n      <th>price_by_miles</th>\n      <th>price_by_time</th>\n      <th>daytime</th>\n    </tr>\n  </thead>\n  <tbody>\n    <tr>\n      <th>0</th>\n      <td>4.5</td>\n      <td>-73.844311</td>\n      <td>40.721319</td>\n      <td>-73.841610</td>\n      <td>40.712278</td>\n      <td>1</td>\n      <td>0.639764</td>\n      <td>0.703741</td>\n      <td>2.111222</td>\n      <td>Monday</td>\n      <td>2009-06-15</td>\n      <td>1900-01-01 17:26:21</td>\n      <td>False</td>\n      <td>6.394401</td>\n      <td>2.131467</td>\n      <td>True</td>\n    </tr>\n    <tr>\n      <th>1</th>\n      <td>5.7</td>\n      <td>-73.982738</td>\n      <td>40.761270</td>\n      <td>-73.991242</td>\n      <td>40.750562</td>\n      <td>2</td>\n      <td>0.863167</td>\n      <td>0.949483</td>\n      <td>2.848450</td>\n      <td>Thursday</td>\n      <td>2011-08-18</td>\n      <td>1900-01-01 00:35:00</td>\n      <td>False</td>\n      <td>6.003265</td>\n      <td>2.001088</td>\n      <td>False</td>\n    </tr>\n    <tr>\n      <th>2</th>\n      <td>7.7</td>\n      <td>-73.987130</td>\n      <td>40.733143</td>\n      <td>-73.991567</td>\n      <td>40.758092</td>\n      <td>1</td>\n      <td>1.737223</td>\n      <td>1.910945</td>\n      <td>5.732836</td>\n      <td>Saturday</td>\n      <td>2012-04-21</td>\n      <td>1900-01-01 04:30:42</td>\n      <td>False</td>\n      <td>4.029419</td>\n      <td>1.343140</td>\n      <td>False</td>\n    </tr>\n    <tr>\n      <th>3</th>\n      <td>5.3</td>\n      <td>-73.968095</td>\n      <td>40.768008</td>\n      <td>-73.956655</td>\n      <td>40.783762</td>\n      <td>1</td>\n      <td>1.241710</td>\n      <td>1.365881</td>\n      <td>4.097642</td>\n      <td>Tuesday</td>\n      <td>2010-03-09</td>\n      <td>1900-01-01 07:51:00</td>\n      <td>False</td>\n      <td>3.880281</td>\n      <td>1.293427</td>\n      <td>True</td>\n    </tr>\n    <tr>\n      <th>4</th>\n      <td>12.1</td>\n      <td>-74.000964</td>\n      <td>40.731630</td>\n      <td>-73.972892</td>\n      <td>40.758233</td>\n      <td>1</td>\n      <td>2.353742</td>\n      <td>2.589116</td>\n      <td>7.767348</td>\n      <td>Thursday</td>\n      <td>2011-01-06</td>\n      <td>1900-01-01 09:50:45</td>\n      <td>False</td>\n      <td>4.673410</td>\n      <td>1.557803</td>\n      <td>True</td>\n    </tr>\n  </tbody>\n</table>\n</div>"
     },
     "execution_count": 16,
     "metadata": {},
     "output_type": "execute_result"
    }
   ],
   "source": [
    "df = pd.read_csv('../../DATA/PREPROCESSING/prepro_05_DAY_OR_NIGHT.csv')\n",
    "df.head()"
   ],
   "metadata": {
    "collapsed": false
   }
  },
  {
   "cell_type": "markdown",
   "source": [
    "# DROP USELESS COLUMN"
   ],
   "metadata": {
    "collapsed": false
   }
  },
  {
   "cell_type": "code",
   "execution_count": 17,
   "outputs": [
    {
     "data": {
      "text/plain": "   fare_amount  passenger_count  Distance (miles)  Driving distance (miles)  \\\n0          4.5                1          0.639764                  0.703741   \n1          5.7                2          0.863167                  0.949483   \n2          7.7                1          1.737223                  1.910945   \n3          5.3                1          1.241710                  1.365881   \n4         12.1                1          2.353742                  2.589116   \n\n   Driving duration (min) day_of_the_week  public_holiday  daytime  \n0                2.111222          Monday           False     True  \n1                2.848450        Thursday           False    False  \n2                5.732836        Saturday           False    False  \n3                4.097642         Tuesday           False     True  \n4                7.767348        Thursday           False     True  ",
      "text/html": "<div>\n<style scoped>\n    .dataframe tbody tr th:only-of-type {\n        vertical-align: middle;\n    }\n\n    .dataframe tbody tr th {\n        vertical-align: top;\n    }\n\n    .dataframe thead th {\n        text-align: right;\n    }\n</style>\n<table border=\"1\" class=\"dataframe\">\n  <thead>\n    <tr style=\"text-align: right;\">\n      <th></th>\n      <th>fare_amount</th>\n      <th>passenger_count</th>\n      <th>Distance (miles)</th>\n      <th>Driving distance (miles)</th>\n      <th>Driving duration (min)</th>\n      <th>day_of_the_week</th>\n      <th>public_holiday</th>\n      <th>daytime</th>\n    </tr>\n  </thead>\n  <tbody>\n    <tr>\n      <th>0</th>\n      <td>4.5</td>\n      <td>1</td>\n      <td>0.639764</td>\n      <td>0.703741</td>\n      <td>2.111222</td>\n      <td>Monday</td>\n      <td>False</td>\n      <td>True</td>\n    </tr>\n    <tr>\n      <th>1</th>\n      <td>5.7</td>\n      <td>2</td>\n      <td>0.863167</td>\n      <td>0.949483</td>\n      <td>2.848450</td>\n      <td>Thursday</td>\n      <td>False</td>\n      <td>False</td>\n    </tr>\n    <tr>\n      <th>2</th>\n      <td>7.7</td>\n      <td>1</td>\n      <td>1.737223</td>\n      <td>1.910945</td>\n      <td>5.732836</td>\n      <td>Saturday</td>\n      <td>False</td>\n      <td>False</td>\n    </tr>\n    <tr>\n      <th>3</th>\n      <td>5.3</td>\n      <td>1</td>\n      <td>1.241710</td>\n      <td>1.365881</td>\n      <td>4.097642</td>\n      <td>Tuesday</td>\n      <td>False</td>\n      <td>True</td>\n    </tr>\n    <tr>\n      <th>4</th>\n      <td>12.1</td>\n      <td>1</td>\n      <td>2.353742</td>\n      <td>2.589116</td>\n      <td>7.767348</td>\n      <td>Thursday</td>\n      <td>False</td>\n      <td>True</td>\n    </tr>\n  </tbody>\n</table>\n</div>"
     },
     "execution_count": 17,
     "metadata": {},
     "output_type": "execute_result"
    }
   ],
   "source": [
    "df = df.drop(columns=['pickup_longitude', 'pickup_latitude', 'dropoff_longitude', 'dropoff_latitude', 'date', 'time', 'price_by_miles', 'price_by_time'], axis=1)\n",
    "df.head()"
   ],
   "metadata": {
    "collapsed": false
   }
  },
  {
   "cell_type": "markdown",
   "source": [
    "# GET DUMMIES DATASET"
   ],
   "metadata": {
    "collapsed": false
   }
  },
  {
   "cell_type": "code",
   "execution_count": 18,
   "outputs": [
    {
     "data": {
      "text/plain": "   fare_amount  passenger_count  Distance (miles)  Driving distance (miles)  \\\n0          4.5                1          0.639764                  0.703741   \n1          5.7                2          0.863167                  0.949483   \n2          7.7                1          1.737223                  1.910945   \n3          5.3                1          1.241710                  1.365881   \n4         12.1                1          2.353742                  2.589116   \n\n   Driving duration (min)  public_holiday  daytime  day_of_the_week_Friday  \\\n0                2.111222           False     True                       0   \n1                2.848450           False    False                       0   \n2                5.732836           False    False                       0   \n3                4.097642           False     True                       0   \n4                7.767348           False     True                       0   \n\n   day_of_the_week_Monday  day_of_the_week_Saturday  day_of_the_week_Sunday  \\\n0                       1                         0                       0   \n1                       0                         0                       0   \n2                       0                         1                       0   \n3                       0                         0                       0   \n4                       0                         0                       0   \n\n   day_of_the_week_Thursday  day_of_the_week_Tuesday  \\\n0                         0                        0   \n1                         1                        0   \n2                         0                        0   \n3                         0                        1   \n4                         1                        0   \n\n   day_of_the_week_Wednesday  \n0                          0  \n1                          0  \n2                          0  \n3                          0  \n4                          0  ",
      "text/html": "<div>\n<style scoped>\n    .dataframe tbody tr th:only-of-type {\n        vertical-align: middle;\n    }\n\n    .dataframe tbody tr th {\n        vertical-align: top;\n    }\n\n    .dataframe thead th {\n        text-align: right;\n    }\n</style>\n<table border=\"1\" class=\"dataframe\">\n  <thead>\n    <tr style=\"text-align: right;\">\n      <th></th>\n      <th>fare_amount</th>\n      <th>passenger_count</th>\n      <th>Distance (miles)</th>\n      <th>Driving distance (miles)</th>\n      <th>Driving duration (min)</th>\n      <th>public_holiday</th>\n      <th>daytime</th>\n      <th>day_of_the_week_Friday</th>\n      <th>day_of_the_week_Monday</th>\n      <th>day_of_the_week_Saturday</th>\n      <th>day_of_the_week_Sunday</th>\n      <th>day_of_the_week_Thursday</th>\n      <th>day_of_the_week_Tuesday</th>\n      <th>day_of_the_week_Wednesday</th>\n    </tr>\n  </thead>\n  <tbody>\n    <tr>\n      <th>0</th>\n      <td>4.5</td>\n      <td>1</td>\n      <td>0.639764</td>\n      <td>0.703741</td>\n      <td>2.111222</td>\n      <td>False</td>\n      <td>True</td>\n      <td>0</td>\n      <td>1</td>\n      <td>0</td>\n      <td>0</td>\n      <td>0</td>\n      <td>0</td>\n      <td>0</td>\n    </tr>\n    <tr>\n      <th>1</th>\n      <td>5.7</td>\n      <td>2</td>\n      <td>0.863167</td>\n      <td>0.949483</td>\n      <td>2.848450</td>\n      <td>False</td>\n      <td>False</td>\n      <td>0</td>\n      <td>0</td>\n      <td>0</td>\n      <td>0</td>\n      <td>1</td>\n      <td>0</td>\n      <td>0</td>\n    </tr>\n    <tr>\n      <th>2</th>\n      <td>7.7</td>\n      <td>1</td>\n      <td>1.737223</td>\n      <td>1.910945</td>\n      <td>5.732836</td>\n      <td>False</td>\n      <td>False</td>\n      <td>0</td>\n      <td>0</td>\n      <td>1</td>\n      <td>0</td>\n      <td>0</td>\n      <td>0</td>\n      <td>0</td>\n    </tr>\n    <tr>\n      <th>3</th>\n      <td>5.3</td>\n      <td>1</td>\n      <td>1.241710</td>\n      <td>1.365881</td>\n      <td>4.097642</td>\n      <td>False</td>\n      <td>True</td>\n      <td>0</td>\n      <td>0</td>\n      <td>0</td>\n      <td>0</td>\n      <td>0</td>\n      <td>1</td>\n      <td>0</td>\n    </tr>\n    <tr>\n      <th>4</th>\n      <td>12.1</td>\n      <td>1</td>\n      <td>2.353742</td>\n      <td>2.589116</td>\n      <td>7.767348</td>\n      <td>False</td>\n      <td>True</td>\n      <td>0</td>\n      <td>0</td>\n      <td>0</td>\n      <td>0</td>\n      <td>1</td>\n      <td>0</td>\n      <td>0</td>\n    </tr>\n  </tbody>\n</table>\n</div>"
     },
     "execution_count": 18,
     "metadata": {},
     "output_type": "execute_result"
    }
   ],
   "source": [
    "df = pd.get_dummies(df)\n",
    "df.head()"
   ],
   "metadata": {
    "collapsed": false
   }
  },
  {
   "cell_type": "markdown",
   "source": [
    "# EXPORT CSV"
   ],
   "metadata": {
    "collapsed": false
   }
  },
  {
   "cell_type": "code",
   "execution_count": 19,
   "outputs": [],
   "source": [
    "df.to_csv('../../DATA/PREPROCESSING/prepro_06_ML_DATASET.csv', index=False)"
   ],
   "metadata": {
    "collapsed": false
   }
  },
  {
   "cell_type": "code",
   "execution_count": null,
   "outputs": [],
   "source": [],
   "metadata": {
    "collapsed": false
   }
  }
 ],
 "metadata": {
  "kernelspec": {
   "display_name": "Python 3",
   "language": "python",
   "name": "python3"
  },
  "language_info": {
   "codemirror_mode": {
    "name": "ipython",
    "version": 2
   },
   "file_extension": ".py",
   "mimetype": "text/x-python",
   "name": "python",
   "nbconvert_exporter": "python",
   "pygments_lexer": "ipython2",
   "version": "2.7.6"
  }
 },
 "nbformat": 4,
 "nbformat_minor": 0
}
