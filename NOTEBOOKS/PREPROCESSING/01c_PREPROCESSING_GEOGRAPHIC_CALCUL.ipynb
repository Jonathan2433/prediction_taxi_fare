{
 "cells": [
  {
   "cell_type": "markdown",
   "source": [
    "# DRIVING DISTANCE AND DURATION CALCUL\n",
    "\n",
    "# IMPORT LIBS"
   ],
   "metadata": {
    "collapsed": false
   }
  },
  {
   "cell_type": "code",
   "execution_count": null,
   "metadata": {
    "collapsed": true
   },
   "outputs": [],
   "source": [
    "import pandas as pd\n",
    "import plotly.express as px"
   ]
  },
  {
   "cell_type": "markdown",
   "source": [
    "# OPEN DATASET"
   ],
   "metadata": {
    "collapsed": false
   }
  },
  {
   "cell_type": "code",
   "execution_count": null,
   "outputs": [],
   "source": [
    "df = pd.read_csv('../../DATA/PREPROCESSING/prepro_01_geo.csv')\n",
    "df"
   ],
   "metadata": {
    "collapsed": false
   }
  },
  {
   "cell_type": "markdown",
   "source": [
    "# CALCUL OF DISTANCE WITH CAR"
   ],
   "metadata": {
    "collapsed": false
   }
  },
  {
   "cell_type": "code",
   "execution_count": null,
   "outputs": [],
   "source": [
    "# Calculer la distance en voiture en utilisant une approximation\n",
    "df['Driving distance (miles)'] = df['Distance (miles)'] * 1.5  # Facteur de vitesse moyen pour les routes urbaines\n",
    "\n",
    "# Combinaison pondérée de la distance à vol d'oiseau et de la distance en voiture\n",
    "df['Driving distance (miles)'] = 0.8 * df['Distance (miles)'] + 0.2 * df['Driving distance (miles)']\n",
    "\n",
    "df.head()"
   ],
   "metadata": {
    "collapsed": false
   }
  },
  {
   "cell_type": "markdown",
   "source": [
    "# CALCUL OF DURATION TIME"
   ],
   "metadata": {
    "collapsed": false
   }
  },
  {
   "cell_type": "code",
   "execution_count": null,
   "outputs": [],
   "source": [
    "#  la vitesse moyenne des voitures dans les rues de New York varie de 15 à 25 km/h en heure de pointe. on choisie une valeur moyenne, par exemple 20 km/h\n",
    "\n",
    "speed = 20  # Vitesse moyenne dans New York km/h\n",
    "df['Driving duration (min)'] = df['Driving distance (miles)'] / (speed / 60)\n",
    "\n",
    "# Afficher le DataFrame avec les temps de trajet calculés\n",
    "df"
   ],
   "metadata": {
    "collapsed": false
   }
  },
  {
   "cell_type": "markdown",
   "source": [
    "# EXPORT DF"
   ],
   "metadata": {
    "collapsed": false
   }
  },
  {
   "cell_type": "code",
   "execution_count": null,
   "outputs": [],
   "source": [
    "df.to_csv('../../DATA/PREPROCESSING/prepro_01c_geo_calcul.csv', index=False)"
   ],
   "metadata": {
    "collapsed": false
   }
  },
  {
   "cell_type": "code",
   "execution_count": null,
   "outputs": [],
   "source": [],
   "metadata": {
    "collapsed": false
   }
  }
 ],
 "metadata": {
  "kernelspec": {
   "display_name": "Python 3",
   "language": "python",
   "name": "python3"
  },
  "language_info": {
   "codemirror_mode": {
    "name": "ipython",
    "version": 2
   },
   "file_extension": ".py",
   "mimetype": "text/x-python",
   "name": "python",
   "nbconvert_exporter": "python",
   "pygments_lexer": "ipython2",
   "version": "2.7.6"
  }
 },
 "nbformat": 4,
 "nbformat_minor": 0
}
