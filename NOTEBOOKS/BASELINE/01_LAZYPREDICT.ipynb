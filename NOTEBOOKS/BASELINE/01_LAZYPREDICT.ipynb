{
 "cells": [
  {
   "cell_type": "code",
   "execution_count": 1,
   "metadata": {
    "collapsed": true
   },
   "outputs": [],
   "source": [
    "import pandas as pd\n",
    "from sklearn.model_selection import train_test_split\n",
    "from lazypredict.Supervised import LazyRegressor\n",
    "from sklearn import datasets\n",
    "from sklearn.utils import shuffle"
   ]
  },
  {
   "cell_type": "code",
   "execution_count": 2,
   "outputs": [
    {
     "data": {
      "text/plain": "   fare_amount  pickup_longitude  pickup_latitude  dropoff_longitude  \\\n0         4.50            -73.84            40.72             -73.84   \n1         5.70            -73.98            40.76             -73.99   \n2         7.70            -73.99            40.73             -73.99   \n3         5.30            -73.97            40.77             -73.96   \n4        12.10            -74.00            40.73             -73.97   \n\n   dropoff_latitude  passenger_count  Distance (miles)  \\\n0             40.71                1              0.64   \n1             40.75                2              0.86   \n2             40.76                1              1.74   \n3             40.78                1              1.24   \n4             40.76                1              2.35   \n\n   Driving distance (miles)  Driving duration (min) day_of_the_week  \\\n0                      0.70                    2.11          Monday   \n1                      0.95                    2.85        Thursday   \n2                      1.91                    5.73        Saturday   \n3                      1.37                    4.10         Tuesday   \n4                      2.59                    7.77        Thursday   \n\n         date      time  public_holiday  price_by_miles  price_by_time  \n0  2009-06-15  17:26:21           False            6.39           2.13  \n1  2011-08-18  00:35:00           False            6.00           2.00  \n2  2012-04-21  04:30:42           False            4.03           1.34  \n3  2010-03-09  07:51:00           False            3.88           1.29  \n4  2011-01-06  09:50:45           False            4.67           1.56  ",
      "text/html": "<div>\n<style scoped>\n    .dataframe tbody tr th:only-of-type {\n        vertical-align: middle;\n    }\n\n    .dataframe tbody tr th {\n        vertical-align: top;\n    }\n\n    .dataframe thead th {\n        text-align: right;\n    }\n</style>\n<table border=\"1\" class=\"dataframe\">\n  <thead>\n    <tr style=\"text-align: right;\">\n      <th></th>\n      <th>fare_amount</th>\n      <th>pickup_longitude</th>\n      <th>pickup_latitude</th>\n      <th>dropoff_longitude</th>\n      <th>dropoff_latitude</th>\n      <th>passenger_count</th>\n      <th>Distance (miles)</th>\n      <th>Driving distance (miles)</th>\n      <th>Driving duration (min)</th>\n      <th>day_of_the_week</th>\n      <th>date</th>\n      <th>time</th>\n      <th>public_holiday</th>\n      <th>price_by_miles</th>\n      <th>price_by_time</th>\n    </tr>\n  </thead>\n  <tbody>\n    <tr>\n      <th>0</th>\n      <td>4.50</td>\n      <td>-73.84</td>\n      <td>40.72</td>\n      <td>-73.84</td>\n      <td>40.71</td>\n      <td>1</td>\n      <td>0.64</td>\n      <td>0.70</td>\n      <td>2.11</td>\n      <td>Monday</td>\n      <td>2009-06-15</td>\n      <td>17:26:21</td>\n      <td>False</td>\n      <td>6.39</td>\n      <td>2.13</td>\n    </tr>\n    <tr>\n      <th>1</th>\n      <td>5.70</td>\n      <td>-73.98</td>\n      <td>40.76</td>\n      <td>-73.99</td>\n      <td>40.75</td>\n      <td>2</td>\n      <td>0.86</td>\n      <td>0.95</td>\n      <td>2.85</td>\n      <td>Thursday</td>\n      <td>2011-08-18</td>\n      <td>00:35:00</td>\n      <td>False</td>\n      <td>6.00</td>\n      <td>2.00</td>\n    </tr>\n    <tr>\n      <th>2</th>\n      <td>7.70</td>\n      <td>-73.99</td>\n      <td>40.73</td>\n      <td>-73.99</td>\n      <td>40.76</td>\n      <td>1</td>\n      <td>1.74</td>\n      <td>1.91</td>\n      <td>5.73</td>\n      <td>Saturday</td>\n      <td>2012-04-21</td>\n      <td>04:30:42</td>\n      <td>False</td>\n      <td>4.03</td>\n      <td>1.34</td>\n    </tr>\n    <tr>\n      <th>3</th>\n      <td>5.30</td>\n      <td>-73.97</td>\n      <td>40.77</td>\n      <td>-73.96</td>\n      <td>40.78</td>\n      <td>1</td>\n      <td>1.24</td>\n      <td>1.37</td>\n      <td>4.10</td>\n      <td>Tuesday</td>\n      <td>2010-03-09</td>\n      <td>07:51:00</td>\n      <td>False</td>\n      <td>3.88</td>\n      <td>1.29</td>\n    </tr>\n    <tr>\n      <th>4</th>\n      <td>12.10</td>\n      <td>-74.00</td>\n      <td>40.73</td>\n      <td>-73.97</td>\n      <td>40.76</td>\n      <td>1</td>\n      <td>2.35</td>\n      <td>2.59</td>\n      <td>7.77</td>\n      <td>Thursday</td>\n      <td>2011-01-06</td>\n      <td>09:50:45</td>\n      <td>False</td>\n      <td>4.67</td>\n      <td>1.56</td>\n    </tr>\n  </tbody>\n</table>\n</div>"
     },
     "execution_count": 2,
     "metadata": {},
     "output_type": "execute_result"
    }
   ],
   "source": [
    "df = pd.read_csv('../../DATA/PREPROCESSING/prepro_04a_price_by_time.csv', nrows=5000)\n",
    "df.head()"
   ],
   "metadata": {
    "collapsed": false
   }
  },
  {
   "cell_type": "code",
   "execution_count": 3,
   "outputs": [
    {
     "data": {
      "text/plain": "   fare_amount  Distance (miles)  Driving distance (miles)  \\\n0         4.50              0.64                      0.70   \n1         5.70              0.86                      0.95   \n2         7.70              1.74                      1.91   \n3         5.30              1.24                      1.37   \n4        12.10              2.35                      2.59   \n\n   Driving duration (min) day_of_the_week  public_holiday  \n0                    2.11          Monday           False  \n1                    2.85        Thursday           False  \n2                    5.73        Saturday           False  \n3                    4.10         Tuesday           False  \n4                    7.77        Thursday           False  ",
      "text/html": "<div>\n<style scoped>\n    .dataframe tbody tr th:only-of-type {\n        vertical-align: middle;\n    }\n\n    .dataframe tbody tr th {\n        vertical-align: top;\n    }\n\n    .dataframe thead th {\n        text-align: right;\n    }\n</style>\n<table border=\"1\" class=\"dataframe\">\n  <thead>\n    <tr style=\"text-align: right;\">\n      <th></th>\n      <th>fare_amount</th>\n      <th>Distance (miles)</th>\n      <th>Driving distance (miles)</th>\n      <th>Driving duration (min)</th>\n      <th>day_of_the_week</th>\n      <th>public_holiday</th>\n    </tr>\n  </thead>\n  <tbody>\n    <tr>\n      <th>0</th>\n      <td>4.50</td>\n      <td>0.64</td>\n      <td>0.70</td>\n      <td>2.11</td>\n      <td>Monday</td>\n      <td>False</td>\n    </tr>\n    <tr>\n      <th>1</th>\n      <td>5.70</td>\n      <td>0.86</td>\n      <td>0.95</td>\n      <td>2.85</td>\n      <td>Thursday</td>\n      <td>False</td>\n    </tr>\n    <tr>\n      <th>2</th>\n      <td>7.70</td>\n      <td>1.74</td>\n      <td>1.91</td>\n      <td>5.73</td>\n      <td>Saturday</td>\n      <td>False</td>\n    </tr>\n    <tr>\n      <th>3</th>\n      <td>5.30</td>\n      <td>1.24</td>\n      <td>1.37</td>\n      <td>4.10</td>\n      <td>Tuesday</td>\n      <td>False</td>\n    </tr>\n    <tr>\n      <th>4</th>\n      <td>12.10</td>\n      <td>2.35</td>\n      <td>2.59</td>\n      <td>7.77</td>\n      <td>Thursday</td>\n      <td>False</td>\n    </tr>\n  </tbody>\n</table>\n</div>"
     },
     "execution_count": 3,
     "metadata": {},
     "output_type": "execute_result"
    }
   ],
   "source": [
    "df = df.drop(columns=['pickup_longitude', 'pickup_latitude', 'dropoff_longitude', 'dropoff_latitude', 'passenger_count', 'date', 'time', 'price_by_miles', 'price_by_time'], axis=1)\n",
    "df.head()"
   ],
   "metadata": {
    "collapsed": false
   }
  },
  {
   "cell_type": "code",
   "execution_count": 4,
   "outputs": [
    {
     "data": {
      "text/plain": "   fare_amount  Distance (miles)  Driving distance (miles)  \\\n0         4.50              0.64                      0.70   \n1         5.70              0.86                      0.95   \n2         7.70              1.74                      1.91   \n3         5.30              1.24                      1.37   \n4        12.10              2.35                      2.59   \n\n   Driving duration (min)  public_holiday  day_of_the_week_Friday  \\\n0                    2.11           False                       0   \n1                    2.85           False                       0   \n2                    5.73           False                       0   \n3                    4.10           False                       0   \n4                    7.77           False                       0   \n\n   day_of_the_week_Monday  day_of_the_week_Saturday  day_of_the_week_Sunday  \\\n0                       1                         0                       0   \n1                       0                         0                       0   \n2                       0                         1                       0   \n3                       0                         0                       0   \n4                       0                         0                       0   \n\n   day_of_the_week_Thursday  day_of_the_week_Tuesday  \\\n0                         0                        0   \n1                         1                        0   \n2                         0                        0   \n3                         0                        1   \n4                         1                        0   \n\n   day_of_the_week_Wednesday  \n0                          0  \n1                          0  \n2                          0  \n3                          0  \n4                          0  ",
      "text/html": "<div>\n<style scoped>\n    .dataframe tbody tr th:only-of-type {\n        vertical-align: middle;\n    }\n\n    .dataframe tbody tr th {\n        vertical-align: top;\n    }\n\n    .dataframe thead th {\n        text-align: right;\n    }\n</style>\n<table border=\"1\" class=\"dataframe\">\n  <thead>\n    <tr style=\"text-align: right;\">\n      <th></th>\n      <th>fare_amount</th>\n      <th>Distance (miles)</th>\n      <th>Driving distance (miles)</th>\n      <th>Driving duration (min)</th>\n      <th>public_holiday</th>\n      <th>day_of_the_week_Friday</th>\n      <th>day_of_the_week_Monday</th>\n      <th>day_of_the_week_Saturday</th>\n      <th>day_of_the_week_Sunday</th>\n      <th>day_of_the_week_Thursday</th>\n      <th>day_of_the_week_Tuesday</th>\n      <th>day_of_the_week_Wednesday</th>\n    </tr>\n  </thead>\n  <tbody>\n    <tr>\n      <th>0</th>\n      <td>4.50</td>\n      <td>0.64</td>\n      <td>0.70</td>\n      <td>2.11</td>\n      <td>False</td>\n      <td>0</td>\n      <td>1</td>\n      <td>0</td>\n      <td>0</td>\n      <td>0</td>\n      <td>0</td>\n      <td>0</td>\n    </tr>\n    <tr>\n      <th>1</th>\n      <td>5.70</td>\n      <td>0.86</td>\n      <td>0.95</td>\n      <td>2.85</td>\n      <td>False</td>\n      <td>0</td>\n      <td>0</td>\n      <td>0</td>\n      <td>0</td>\n      <td>1</td>\n      <td>0</td>\n      <td>0</td>\n    </tr>\n    <tr>\n      <th>2</th>\n      <td>7.70</td>\n      <td>1.74</td>\n      <td>1.91</td>\n      <td>5.73</td>\n      <td>False</td>\n      <td>0</td>\n      <td>0</td>\n      <td>1</td>\n      <td>0</td>\n      <td>0</td>\n      <td>0</td>\n      <td>0</td>\n    </tr>\n    <tr>\n      <th>3</th>\n      <td>5.30</td>\n      <td>1.24</td>\n      <td>1.37</td>\n      <td>4.10</td>\n      <td>False</td>\n      <td>0</td>\n      <td>0</td>\n      <td>0</td>\n      <td>0</td>\n      <td>0</td>\n      <td>1</td>\n      <td>0</td>\n    </tr>\n    <tr>\n      <th>4</th>\n      <td>12.10</td>\n      <td>2.35</td>\n      <td>2.59</td>\n      <td>7.77</td>\n      <td>False</td>\n      <td>0</td>\n      <td>0</td>\n      <td>0</td>\n      <td>0</td>\n      <td>1</td>\n      <td>0</td>\n      <td>0</td>\n    </tr>\n  </tbody>\n</table>\n</div>"
     },
     "execution_count": 4,
     "metadata": {},
     "output_type": "execute_result"
    }
   ],
   "source": [
    "df = pd.get_dummies(df)\n",
    "df.head()"
   ],
   "metadata": {
    "collapsed": false
   }
  },
  {
   "cell_type": "code",
   "execution_count": 5,
   "outputs": [],
   "source": [
    "X, y = df.drop(columns=[\"fare_amount\"]), df[\"fare_amount\"]\n",
    "X_train, X_test, y_train, y_test = train_test_split(X, y, test_size=0.33, random_state=42)"
   ],
   "metadata": {
    "collapsed": false
   }
  },
  {
   "cell_type": "code",
   "execution_count": 6,
   "outputs": [
    {
     "name": "stderr",
     "output_type": "stream",
     "text": [
      "100%|██████████| 42/42 [07:09<00:00, 10.22s/it]"
     ]
    },
    {
     "name": "stdout",
     "output_type": "stream",
     "text": [
      "                               Adjusted R-Squared  R-Squared  RMSE  Time Taken\n",
      "Model                                                                         \n",
      "MLPRegressor                                 0.70       0.70  1.95        1.07\n",
      "NuSVR                                        0.69       0.69  1.97        0.38\n",
      "SVR                                          0.69       0.69  1.98        0.65\n",
      "GradientBoostingRegressor                    0.69       0.69  1.98        0.43\n",
      "SGDRegressor                                 0.68       0.68  2.00        0.01\n",
      "LassoCV                                      0.68       0.68  2.00        0.03\n",
      "ElasticNetCV                                 0.68       0.68  2.00        0.05\n",
      "RidgeCV                                      0.68       0.68  2.00        0.01\n",
      "BayesianRidge                                0.68       0.68  2.00        0.01\n",
      "Ridge                                        0.68       0.68  2.00        0.01\n",
      "OrthogonalMatchingPursuitCV                  0.68       0.68  2.00        0.02\n",
      "TransformedTargetRegressor                   0.68       0.68  2.00        0.01\n",
      "LinearRegression                             0.68       0.68  2.00        0.01\n",
      "OrthogonalMatchingPursuit                    0.68       0.68  2.00        0.01\n",
      "LGBMRegressor                                0.68       0.68  2.01        0.13\n",
      "HistGradientBoostingRegressor                0.68       0.68  2.01        0.44\n",
      "HuberRegressor                               0.68       0.68  2.02        0.02\n",
      "LassoLarsIC                                  0.68       0.68  2.02        0.01\n",
      "LassoLarsCV                                  0.68       0.68  2.02        0.01\n",
      "Lars                                         0.68       0.68  2.02        0.01\n",
      "LinearSVR                                    0.67       0.68  2.03        0.02\n",
      "LarsCV                                       0.67       0.67  2.03        0.02\n",
      "AdaBoostRegressor                            0.66       0.67  2.06        0.05\n",
      "RANSACRegressor                              0.66       0.67  2.06        0.05\n",
      "TweedieRegressor                             0.65       0.65  2.11        0.01\n",
      "XGBRegressor                                 0.64       0.64  2.13        0.20\n",
      "KNeighborsRegressor                          0.64       0.64  2.13        0.07\n",
      "ElasticNet                                   0.63       0.64  2.15        0.01\n",
      "PoissonRegressor                             0.63       0.63  2.16        0.01\n",
      "GammaRegressor                               0.62       0.62  2.18        0.01\n",
      "LassoLars                                    0.62       0.62  2.20        0.01\n",
      "Lasso                                        0.62       0.62  2.20        0.01\n",
      "RandomForestRegressor                        0.61       0.61  2.22        1.43\n",
      "BaggingRegressor                             0.59       0.59  2.28        0.16\n",
      "ExtraTreesRegressor                          0.52       0.52  2.46        0.65\n",
      "ExtraTreeRegressor                           0.37       0.37  2.83        0.01\n",
      "DecisionTreeRegressor                        0.35       0.36  2.86        0.02\n",
      "DummyRegressor                              -0.01      -0.00  3.56        0.01\n",
      "QuantileRegressor                           -0.07      -0.06  3.66      421.84\n",
      "PassiveAggressiveRegressor                  -0.12      -0.11  3.76        0.01\n",
      "GaussianProcessRegressor                    -1.00      -0.98  5.02        0.87\n",
      "KernelRidge                                 -5.69      -5.65  9.19        0.35\n"
     ]
    },
    {
     "name": "stderr",
     "output_type": "stream",
     "text": [
      "\n"
     ]
    }
   ],
   "source": [
    "regr = LazyRegressor(verbose=0, ignore_warnings=True, custom_metric=None)\n",
    "models, predictions = regr.fit(X_train, X_test, y_train, y_test)\n",
    "\n",
    "print(models)"
   ],
   "metadata": {
    "collapsed": false
   }
  }
 ],
 "metadata": {
  "kernelspec": {
   "display_name": "Python 3",
   "language": "python",
   "name": "python3"
  },
  "language_info": {
   "codemirror_mode": {
    "name": "ipython",
    "version": 2
   },
   "file_extension": ".py",
   "mimetype": "text/x-python",
   "name": "python",
   "nbconvert_exporter": "python",
   "pygments_lexer": "ipython2",
   "version": "2.7.6"
  }
 },
 "nbformat": 4,
 "nbformat_minor": 0
}
