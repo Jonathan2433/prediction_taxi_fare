{
 "cells": [
  {
   "cell_type": "code",
   "execution_count": 1,
   "metadata": {
    "collapsed": true
   },
   "outputs": [],
   "source": [
    "import numpy as np\n",
    "import pandas as pd"
   ]
  },
  {
   "cell_type": "code",
   "execution_count": 2,
   "outputs": [],
   "source": [
    "# Reading Data\n",
    "train_df =  pd.read_csv('../DATA/train.csv', nrows = 2000000)\n",
    "#Drop rows with null values\n",
    "train_df = train_df.dropna(how = 'any', axis = 'rows')"
   ],
   "metadata": {
    "collapsed": false
   }
  },
  {
   "cell_type": "code",
   "execution_count": 4,
   "outputs": [],
   "source": [
    "def clean_df(df):\n",
    "    return df[(df.fare_amount > 0)  & (df.fare_amount <= 500) &\n",
    "              # (df.passenger_count >= 0) & (df.passenger_count <= 8)  &\n",
    "              ((df.pickup_longitude != 0) & (df.pickup_latitude != 0) & (df.dropoff_longitude != 0) & (df.dropoff_latitude != 0) )]\n",
    "\n",
    "# To Compute Haversine distance\n",
    "def sphere_dist(pickup_lat, pickup_lon, dropoff_lat, dropoff_lon):\n",
    "    \"\"\"\n",
    "    Return distance along great radius between pickup and dropoff coordinates.\n",
    "    \"\"\"\n",
    "    #Define earth radius (km)\n",
    "    R_earth = 6371\n",
    "    #Convert degrees to radians\n",
    "    pickup_lat, pickup_lon, dropoff_lat, dropoff_lon = map(np.radians,\n",
    "                                                           [pickup_lat, pickup_lon,\n",
    "                                                            dropoff_lat, dropoff_lon])\n",
    "    #Compute distances along lat, lon dimensions\n",
    "    dlat = dropoff_lat - pickup_lat\n",
    "    dlon = dropoff_lon - pickup_lon\n",
    "\n",
    "    #Compute haversine distance\n",
    "    a = np.sin(dlat/2.0)**2 + np.cos(pickup_lat) * np.cos(dropoff_lat) * np.sin(dlon/2.0)**2\n",
    "    return 2 * R_earth * np.arcsin(np.sqrt(a))\n",
    "\n",
    "\n",
    "def sphere_dist_bear(pickup_lat, pickup_lon, dropoff_lat, dropoff_lon):\n",
    "    \"\"\"\n",
    "    Return distance along great radius between pickup and dropoff coordinates.\n",
    "    \"\"\"\n",
    "    #Define earth radius (km)\n",
    "    R_earth = 6371\n",
    "    #Convert degrees to radians\n",
    "    pickup_lat, pickup_lon, dropoff_lat, dropoff_lon = map(np.radians,\n",
    "                                                           [pickup_lat, pickup_lon,\n",
    "                                                            dropoff_lat, dropoff_lon])\n",
    "    #Compute distances along lat, lon dimensions\n",
    "    dlat = dropoff_lat - pickup_lat\n",
    "    dlon = pickup_lon - dropoff_lon\n",
    "\n",
    "    #Compute bearing distance\n",
    "    a = np.arctan2(np.sin(dlon * np.cos(dropoff_lat)),np.cos(pickup_lat) * np.sin(dropoff_lat) - np.sin(pickup_lat) * np.cos(dropoff_lat) * np.cos(dlon))\n",
    "    return a\n",
    "\n",
    "def radian_conv(degree):\n",
    "    \"\"\"\n",
    "    Return radian.\n",
    "    \"\"\"\n",
    "    return  np.radians(degree)\n",
    "\n",
    "def add_airport_dist(dataset):\n",
    "    \"\"\"\n",
    "    Return minumum distance from pickup or dropoff coordinates to each airport.\n",
    "    JFK: John F. Kennedy International Airport\n",
    "    EWR: Newark Liberty International Airport\n",
    "    LGA: LaGuardia Airport\n",
    "    SOL: Statue of Liberty\n",
    "    NYC: Newyork Central\n",
    "    \"\"\"\n",
    "    jfk_coord = (40.639722, -73.778889)\n",
    "    ewr_coord = (40.6925, -74.168611)\n",
    "    lga_coord = (40.77725, -73.872611)\n",
    "    sol_coord = (40.6892,-74.0445) # Statue of Liberty\n",
    "    nyc_coord = (40.7141667,-74.0063889)\n",
    "\n",
    "\n",
    "    pickup_lat = dataset['pickup_latitude']\n",
    "    dropoff_lat = dataset['dropoff_latitude']\n",
    "    pickup_lon = dataset['pickup_longitude']\n",
    "    dropoff_lon = dataset['dropoff_longitude']\n",
    "\n",
    "    pickup_jfk = sphere_dist(pickup_lat, pickup_lon, jfk_coord[0], jfk_coord[1])\n",
    "    dropoff_jfk = sphere_dist(jfk_coord[0], jfk_coord[1], dropoff_lat, dropoff_lon)\n",
    "    pickup_ewr = sphere_dist(pickup_lat, pickup_lon, ewr_coord[0], ewr_coord[1])\n",
    "    dropoff_ewr = sphere_dist(ewr_coord[0], ewr_coord[1], dropoff_lat, dropoff_lon)\n",
    "    pickup_lga = sphere_dist(pickup_lat, pickup_lon, lga_coord[0], lga_coord[1])\n",
    "    dropoff_lga = sphere_dist(lga_coord[0], lga_coord[1], dropoff_lat, dropoff_lon)\n",
    "    pickup_sol = sphere_dist(pickup_lat, pickup_lon, sol_coord[0], sol_coord[1])\n",
    "    dropoff_sol = sphere_dist(sol_coord[0], sol_coord[1], dropoff_lat, dropoff_lon)\n",
    "    pickup_nyc = sphere_dist(pickup_lat, pickup_lon, nyc_coord[0], nyc_coord[1])\n",
    "    dropoff_nyc = sphere_dist(nyc_coord[0], nyc_coord[1], dropoff_lat, dropoff_lon)\n",
    "\n",
    "\n",
    "\n",
    "    dataset['jfk_dist'] = pickup_jfk + dropoff_jfk\n",
    "    dataset['ewr_dist'] = pickup_ewr + dropoff_ewr\n",
    "    dataset['lga_dist'] = pickup_lga + dropoff_lga\n",
    "    dataset['sol_dist'] = pickup_sol + dropoff_sol\n",
    "    dataset['nyc_dist'] = pickup_nyc + dropoff_nyc\n",
    "\n",
    "    return dataset\n",
    "\n",
    "def add_datetime_info(dataset):\n",
    "    #Convert to datetime format\n",
    "    dataset['pickup_datetime'] = pd.to_datetime(dataset['pickup_datetime'],format=\"%Y-%m-%d %H:%M:%S UTC\")\n",
    "\n",
    "    dataset['hour'] = dataset.pickup_datetime.dt.hour\n",
    "    dataset['day'] = dataset.pickup_datetime.dt.day\n",
    "    dataset['month'] = dataset.pickup_datetime.dt.month\n",
    "    dataset['weekday'] = dataset.pickup_datetime.dt.weekday\n",
    "    dataset['year'] = dataset.pickup_datetime.dt.year\n",
    "\n",
    "    return dataset"
   ],
   "metadata": {
    "collapsed": false
   }
  },
  {
   "cell_type": "code",
   "execution_count": 5,
   "outputs": [
    {
     "name": "stdout",
     "output_type": "stream",
     "text": [
      "(1960430, 8)\n"
     ]
    },
    {
     "data": {
      "text/plain": "                             key  fare_amount          pickup_datetime  \\\n0    2009-06-15 17:26:21.0000001          4.5  2009-06-15 17:26:21 UTC   \n1    2010-01-05 16:52:16.0000002         16.9  2010-01-05 16:52:16 UTC   \n2   2011-08-18 00:35:00.00000049          5.7  2011-08-18 00:35:00 UTC   \n3    2012-04-21 04:30:42.0000001          7.7  2012-04-21 04:30:42 UTC   \n4  2010-03-09 07:51:00.000000135          5.3  2010-03-09 07:51:00 UTC   \n\n   pickup_longitude  pickup_latitude  dropoff_longitude  dropoff_latitude  \\\n0        -73.844311        40.721319         -73.841610         40.712278   \n1        -74.016048        40.711303         -73.979268         40.782004   \n2        -73.982738        40.761270         -73.991242         40.750562   \n3        -73.987130        40.733143         -73.991567         40.758092   \n4        -73.968095        40.768008         -73.956655         40.783762   \n\n   passenger_count  \n0                1  \n1                1  \n2                2  \n3                1  \n4                1  ",
      "text/html": "<div>\n<style scoped>\n    .dataframe tbody tr th:only-of-type {\n        vertical-align: middle;\n    }\n\n    .dataframe tbody tr th {\n        vertical-align: top;\n    }\n\n    .dataframe thead th {\n        text-align: right;\n    }\n</style>\n<table border=\"1\" class=\"dataframe\">\n  <thead>\n    <tr style=\"text-align: right;\">\n      <th></th>\n      <th>key</th>\n      <th>fare_amount</th>\n      <th>pickup_datetime</th>\n      <th>pickup_longitude</th>\n      <th>pickup_latitude</th>\n      <th>dropoff_longitude</th>\n      <th>dropoff_latitude</th>\n      <th>passenger_count</th>\n    </tr>\n  </thead>\n  <tbody>\n    <tr>\n      <th>0</th>\n      <td>2009-06-15 17:26:21.0000001</td>\n      <td>4.5</td>\n      <td>2009-06-15 17:26:21 UTC</td>\n      <td>-73.844311</td>\n      <td>40.721319</td>\n      <td>-73.841610</td>\n      <td>40.712278</td>\n      <td>1</td>\n    </tr>\n    <tr>\n      <th>1</th>\n      <td>2010-01-05 16:52:16.0000002</td>\n      <td>16.9</td>\n      <td>2010-01-05 16:52:16 UTC</td>\n      <td>-74.016048</td>\n      <td>40.711303</td>\n      <td>-73.979268</td>\n      <td>40.782004</td>\n      <td>1</td>\n    </tr>\n    <tr>\n      <th>2</th>\n      <td>2011-08-18 00:35:00.00000049</td>\n      <td>5.7</td>\n      <td>2011-08-18 00:35:00 UTC</td>\n      <td>-73.982738</td>\n      <td>40.761270</td>\n      <td>-73.991242</td>\n      <td>40.750562</td>\n      <td>2</td>\n    </tr>\n    <tr>\n      <th>3</th>\n      <td>2012-04-21 04:30:42.0000001</td>\n      <td>7.7</td>\n      <td>2012-04-21 04:30:42 UTC</td>\n      <td>-73.987130</td>\n      <td>40.733143</td>\n      <td>-73.991567</td>\n      <td>40.758092</td>\n      <td>1</td>\n    </tr>\n    <tr>\n      <th>4</th>\n      <td>2010-03-09 07:51:00.000000135</td>\n      <td>5.3</td>\n      <td>2010-03-09 07:51:00 UTC</td>\n      <td>-73.968095</td>\n      <td>40.768008</td>\n      <td>-73.956655</td>\n      <td>40.783762</td>\n      <td>1</td>\n    </tr>\n  </tbody>\n</table>\n</div>"
     },
     "execution_count": 5,
     "metadata": {},
     "output_type": "execute_result"
    }
   ],
   "source": [
    "train_df = clean_df(train_df)\n",
    "print(train_df.shape)\n",
    "train_df.head()"
   ],
   "metadata": {
    "collapsed": false
   }
  },
  {
   "cell_type": "code",
   "execution_count": 6,
   "outputs": [
    {
     "name": "stderr",
     "output_type": "stream",
     "text": [
      "C:\\Users\\Utilisateur\\AppData\\Local\\Temp\\ipykernel_31700\\1340691616.py:94: SettingWithCopyWarning: \n",
      "A value is trying to be set on a copy of a slice from a DataFrame.\n",
      "Try using .loc[row_indexer,col_indexer] = value instead\n",
      "\n",
      "See the caveats in the documentation: https://pandas.pydata.org/pandas-docs/stable/user_guide/indexing.html#returning-a-view-versus-a-copy\n",
      "  dataset['pickup_datetime'] = pd.to_datetime(dataset['pickup_datetime'],format=\"%Y-%m-%d %H:%M:%S UTC\")\n",
      "C:\\Users\\Utilisateur\\AppData\\Local\\Temp\\ipykernel_31700\\1340691616.py:96: SettingWithCopyWarning: \n",
      "A value is trying to be set on a copy of a slice from a DataFrame.\n",
      "Try using .loc[row_indexer,col_indexer] = value instead\n",
      "\n",
      "See the caveats in the documentation: https://pandas.pydata.org/pandas-docs/stable/user_guide/indexing.html#returning-a-view-versus-a-copy\n",
      "  dataset['hour'] = dataset.pickup_datetime.dt.hour\n",
      "C:\\Users\\Utilisateur\\AppData\\Local\\Temp\\ipykernel_31700\\1340691616.py:97: SettingWithCopyWarning: \n",
      "A value is trying to be set on a copy of a slice from a DataFrame.\n",
      "Try using .loc[row_indexer,col_indexer] = value instead\n",
      "\n",
      "See the caveats in the documentation: https://pandas.pydata.org/pandas-docs/stable/user_guide/indexing.html#returning-a-view-versus-a-copy\n",
      "  dataset['day'] = dataset.pickup_datetime.dt.day\n"
     ]
    },
    {
     "name": "stdout",
     "output_type": "stream",
     "text": [
      "(1960430, 13)\n"
     ]
    },
    {
     "name": "stderr",
     "output_type": "stream",
     "text": [
      "C:\\Users\\Utilisateur\\AppData\\Local\\Temp\\ipykernel_31700\\1340691616.py:98: SettingWithCopyWarning: \n",
      "A value is trying to be set on a copy of a slice from a DataFrame.\n",
      "Try using .loc[row_indexer,col_indexer] = value instead\n",
      "\n",
      "See the caveats in the documentation: https://pandas.pydata.org/pandas-docs/stable/user_guide/indexing.html#returning-a-view-versus-a-copy\n",
      "  dataset['month'] = dataset.pickup_datetime.dt.month\n",
      "C:\\Users\\Utilisateur\\AppData\\Local\\Temp\\ipykernel_31700\\1340691616.py:99: SettingWithCopyWarning: \n",
      "A value is trying to be set on a copy of a slice from a DataFrame.\n",
      "Try using .loc[row_indexer,col_indexer] = value instead\n",
      "\n",
      "See the caveats in the documentation: https://pandas.pydata.org/pandas-docs/stable/user_guide/indexing.html#returning-a-view-versus-a-copy\n",
      "  dataset['weekday'] = dataset.pickup_datetime.dt.weekday\n",
      "C:\\Users\\Utilisateur\\AppData\\Local\\Temp\\ipykernel_31700\\1340691616.py:100: SettingWithCopyWarning: \n",
      "A value is trying to be set on a copy of a slice from a DataFrame.\n",
      "Try using .loc[row_indexer,col_indexer] = value instead\n",
      "\n",
      "See the caveats in the documentation: https://pandas.pydata.org/pandas-docs/stable/user_guide/indexing.html#returning-a-view-versus-a-copy\n",
      "  dataset['year'] = dataset.pickup_datetime.dt.year\n"
     ]
    },
    {
     "data": {
      "text/plain": "                             key  fare_amount     pickup_datetime  \\\n0    2009-06-15 17:26:21.0000001          4.5 2009-06-15 17:26:21   \n1    2010-01-05 16:52:16.0000002         16.9 2010-01-05 16:52:16   \n2   2011-08-18 00:35:00.00000049          5.7 2011-08-18 00:35:00   \n3    2012-04-21 04:30:42.0000001          7.7 2012-04-21 04:30:42   \n4  2010-03-09 07:51:00.000000135          5.3 2010-03-09 07:51:00   \n\n   pickup_longitude  pickup_latitude  dropoff_longitude  dropoff_latitude  \\\n0        -73.844311        40.721319         -73.841610         40.712278   \n1        -74.016048        40.711303         -73.979268         40.782004   \n2        -73.982738        40.761270         -73.991242         40.750562   \n3        -73.987130        40.733143         -73.991567         40.758092   \n4        -73.968095        40.768008         -73.956655         40.783762   \n\n   passenger_count  hour  day  month  weekday  year  \n0                1    17   15      6        0  2009  \n1                1    16    5      1        1  2010  \n2                2     0   18      8        3  2011  \n3                1     4   21      4        5  2012  \n4                1     7    9      3        1  2010  ",
      "text/html": "<div>\n<style scoped>\n    .dataframe tbody tr th:only-of-type {\n        vertical-align: middle;\n    }\n\n    .dataframe tbody tr th {\n        vertical-align: top;\n    }\n\n    .dataframe thead th {\n        text-align: right;\n    }\n</style>\n<table border=\"1\" class=\"dataframe\">\n  <thead>\n    <tr style=\"text-align: right;\">\n      <th></th>\n      <th>key</th>\n      <th>fare_amount</th>\n      <th>pickup_datetime</th>\n      <th>pickup_longitude</th>\n      <th>pickup_latitude</th>\n      <th>dropoff_longitude</th>\n      <th>dropoff_latitude</th>\n      <th>passenger_count</th>\n      <th>hour</th>\n      <th>day</th>\n      <th>month</th>\n      <th>weekday</th>\n      <th>year</th>\n    </tr>\n  </thead>\n  <tbody>\n    <tr>\n      <th>0</th>\n      <td>2009-06-15 17:26:21.0000001</td>\n      <td>4.5</td>\n      <td>2009-06-15 17:26:21</td>\n      <td>-73.844311</td>\n      <td>40.721319</td>\n      <td>-73.841610</td>\n      <td>40.712278</td>\n      <td>1</td>\n      <td>17</td>\n      <td>15</td>\n      <td>6</td>\n      <td>0</td>\n      <td>2009</td>\n    </tr>\n    <tr>\n      <th>1</th>\n      <td>2010-01-05 16:52:16.0000002</td>\n      <td>16.9</td>\n      <td>2010-01-05 16:52:16</td>\n      <td>-74.016048</td>\n      <td>40.711303</td>\n      <td>-73.979268</td>\n      <td>40.782004</td>\n      <td>1</td>\n      <td>16</td>\n      <td>5</td>\n      <td>1</td>\n      <td>1</td>\n      <td>2010</td>\n    </tr>\n    <tr>\n      <th>2</th>\n      <td>2011-08-18 00:35:00.00000049</td>\n      <td>5.7</td>\n      <td>2011-08-18 00:35:00</td>\n      <td>-73.982738</td>\n      <td>40.761270</td>\n      <td>-73.991242</td>\n      <td>40.750562</td>\n      <td>2</td>\n      <td>0</td>\n      <td>18</td>\n      <td>8</td>\n      <td>3</td>\n      <td>2011</td>\n    </tr>\n    <tr>\n      <th>3</th>\n      <td>2012-04-21 04:30:42.0000001</td>\n      <td>7.7</td>\n      <td>2012-04-21 04:30:42</td>\n      <td>-73.987130</td>\n      <td>40.733143</td>\n      <td>-73.991567</td>\n      <td>40.758092</td>\n      <td>1</td>\n      <td>4</td>\n      <td>21</td>\n      <td>4</td>\n      <td>5</td>\n      <td>2012</td>\n    </tr>\n    <tr>\n      <th>4</th>\n      <td>2010-03-09 07:51:00.000000135</td>\n      <td>5.3</td>\n      <td>2010-03-09 07:51:00</td>\n      <td>-73.968095</td>\n      <td>40.768008</td>\n      <td>-73.956655</td>\n      <td>40.783762</td>\n      <td>1</td>\n      <td>7</td>\n      <td>9</td>\n      <td>3</td>\n      <td>1</td>\n      <td>2010</td>\n    </tr>\n  </tbody>\n</table>\n</div>"
     },
     "execution_count": 6,
     "metadata": {},
     "output_type": "execute_result"
    }
   ],
   "source": [
    "train_df = add_datetime_info(train_df)\n",
    "print(train_df.shape)\n",
    "train_df.head()"
   ],
   "metadata": {
    "collapsed": false
   }
  },
  {
   "cell_type": "code",
   "execution_count": 7,
   "outputs": [
    {
     "name": "stdout",
     "output_type": "stream",
     "text": [
      "(1960430, 18)\n"
     ]
    },
    {
     "name": "stderr",
     "output_type": "stream",
     "text": [
      "C:\\Users\\Utilisateur\\AppData\\Local\\Temp\\ipykernel_31700\\1340691616.py:84: SettingWithCopyWarning: \n",
      "A value is trying to be set on a copy of a slice from a DataFrame.\n",
      "Try using .loc[row_indexer,col_indexer] = value instead\n",
      "\n",
      "See the caveats in the documentation: https://pandas.pydata.org/pandas-docs/stable/user_guide/indexing.html#returning-a-view-versus-a-copy\n",
      "  dataset['jfk_dist'] = pickup_jfk + dropoff_jfk\n",
      "C:\\Users\\Utilisateur\\AppData\\Local\\Temp\\ipykernel_31700\\1340691616.py:85: SettingWithCopyWarning: \n",
      "A value is trying to be set on a copy of a slice from a DataFrame.\n",
      "Try using .loc[row_indexer,col_indexer] = value instead\n",
      "\n",
      "See the caveats in the documentation: https://pandas.pydata.org/pandas-docs/stable/user_guide/indexing.html#returning-a-view-versus-a-copy\n",
      "  dataset['ewr_dist'] = pickup_ewr + dropoff_ewr\n",
      "C:\\Users\\Utilisateur\\AppData\\Local\\Temp\\ipykernel_31700\\1340691616.py:86: SettingWithCopyWarning: \n",
      "A value is trying to be set on a copy of a slice from a DataFrame.\n",
      "Try using .loc[row_indexer,col_indexer] = value instead\n",
      "\n",
      "See the caveats in the documentation: https://pandas.pydata.org/pandas-docs/stable/user_guide/indexing.html#returning-a-view-versus-a-copy\n",
      "  dataset['lga_dist'] = pickup_lga + dropoff_lga\n",
      "C:\\Users\\Utilisateur\\AppData\\Local\\Temp\\ipykernel_31700\\1340691616.py:87: SettingWithCopyWarning: \n",
      "A value is trying to be set on a copy of a slice from a DataFrame.\n",
      "Try using .loc[row_indexer,col_indexer] = value instead\n",
      "\n",
      "See the caveats in the documentation: https://pandas.pydata.org/pandas-docs/stable/user_guide/indexing.html#returning-a-view-versus-a-copy\n",
      "  dataset['sol_dist'] = pickup_sol + dropoff_sol\n",
      "C:\\Users\\Utilisateur\\AppData\\Local\\Temp\\ipykernel_31700\\1340691616.py:88: SettingWithCopyWarning: \n",
      "A value is trying to be set on a copy of a slice from a DataFrame.\n",
      "Try using .loc[row_indexer,col_indexer] = value instead\n",
      "\n",
      "See the caveats in the documentation: https://pandas.pydata.org/pandas-docs/stable/user_guide/indexing.html#returning-a-view-versus-a-copy\n",
      "  dataset['nyc_dist'] = pickup_nyc + dropoff_nyc\n"
     ]
    },
    {
     "data": {
      "text/plain": "                             key  fare_amount     pickup_datetime  \\\n0    2009-06-15 17:26:21.0000001          4.5 2009-06-15 17:26:21   \n1    2010-01-05 16:52:16.0000002         16.9 2010-01-05 16:52:16   \n2   2011-08-18 00:35:00.00000049          5.7 2011-08-18 00:35:00   \n3    2012-04-21 04:30:42.0000001          7.7 2012-04-21 04:30:42   \n4  2010-03-09 07:51:00.000000135          5.3 2010-03-09 07:51:00   \n\n   pickup_longitude  pickup_latitude  dropoff_longitude  dropoff_latitude  \\\n0        -73.844311        40.721319         -73.841610         40.712278   \n1        -74.016048        40.711303         -73.979268         40.782004   \n2        -73.982738        40.761270         -73.991242         40.750562   \n3        -73.987130        40.733143         -73.991567         40.758092   \n4        -73.968095        40.768008         -73.956655         40.783762   \n\n   passenger_count  hour  day  month  weekday  year   jfk_dist   ewr_dist  \\\n0                1    17   15      6        0  2009  20.265840  55.176046   \n1                1    16    5      1        1  2010  44.667679  31.832358   \n2                2     0   18      8        3  2011  43.597686  33.712082   \n3                1     4   21      4        5  2012  42.642965  32.556289   \n4                1     7    9      3        1  2010  43.329953  39.406828   \n\n    lga_dist   sol_dist   nyc_dist  \n0  14.342611  34.543548  27.572573  \n1  23.130775  15.125872   8.755732  \n2  19.865289  17.722624   9.847344  \n3  21.063132  15.738963   7.703421  \n4  15.219339  23.732406  15.600745  ",
      "text/html": "<div>\n<style scoped>\n    .dataframe tbody tr th:only-of-type {\n        vertical-align: middle;\n    }\n\n    .dataframe tbody tr th {\n        vertical-align: top;\n    }\n\n    .dataframe thead th {\n        text-align: right;\n    }\n</style>\n<table border=\"1\" class=\"dataframe\">\n  <thead>\n    <tr style=\"text-align: right;\">\n      <th></th>\n      <th>key</th>\n      <th>fare_amount</th>\n      <th>pickup_datetime</th>\n      <th>pickup_longitude</th>\n      <th>pickup_latitude</th>\n      <th>dropoff_longitude</th>\n      <th>dropoff_latitude</th>\n      <th>passenger_count</th>\n      <th>hour</th>\n      <th>day</th>\n      <th>month</th>\n      <th>weekday</th>\n      <th>year</th>\n      <th>jfk_dist</th>\n      <th>ewr_dist</th>\n      <th>lga_dist</th>\n      <th>sol_dist</th>\n      <th>nyc_dist</th>\n    </tr>\n  </thead>\n  <tbody>\n    <tr>\n      <th>0</th>\n      <td>2009-06-15 17:26:21.0000001</td>\n      <td>4.5</td>\n      <td>2009-06-15 17:26:21</td>\n      <td>-73.844311</td>\n      <td>40.721319</td>\n      <td>-73.841610</td>\n      <td>40.712278</td>\n      <td>1</td>\n      <td>17</td>\n      <td>15</td>\n      <td>6</td>\n      <td>0</td>\n      <td>2009</td>\n      <td>20.265840</td>\n      <td>55.176046</td>\n      <td>14.342611</td>\n      <td>34.543548</td>\n      <td>27.572573</td>\n    </tr>\n    <tr>\n      <th>1</th>\n      <td>2010-01-05 16:52:16.0000002</td>\n      <td>16.9</td>\n      <td>2010-01-05 16:52:16</td>\n      <td>-74.016048</td>\n      <td>40.711303</td>\n      <td>-73.979268</td>\n      <td>40.782004</td>\n      <td>1</td>\n      <td>16</td>\n      <td>5</td>\n      <td>1</td>\n      <td>1</td>\n      <td>2010</td>\n      <td>44.667679</td>\n      <td>31.832358</td>\n      <td>23.130775</td>\n      <td>15.125872</td>\n      <td>8.755732</td>\n    </tr>\n    <tr>\n      <th>2</th>\n      <td>2011-08-18 00:35:00.00000049</td>\n      <td>5.7</td>\n      <td>2011-08-18 00:35:00</td>\n      <td>-73.982738</td>\n      <td>40.761270</td>\n      <td>-73.991242</td>\n      <td>40.750562</td>\n      <td>2</td>\n      <td>0</td>\n      <td>18</td>\n      <td>8</td>\n      <td>3</td>\n      <td>2011</td>\n      <td>43.597686</td>\n      <td>33.712082</td>\n      <td>19.865289</td>\n      <td>17.722624</td>\n      <td>9.847344</td>\n    </tr>\n    <tr>\n      <th>3</th>\n      <td>2012-04-21 04:30:42.0000001</td>\n      <td>7.7</td>\n      <td>2012-04-21 04:30:42</td>\n      <td>-73.987130</td>\n      <td>40.733143</td>\n      <td>-73.991567</td>\n      <td>40.758092</td>\n      <td>1</td>\n      <td>4</td>\n      <td>21</td>\n      <td>4</td>\n      <td>5</td>\n      <td>2012</td>\n      <td>42.642965</td>\n      <td>32.556289</td>\n      <td>21.063132</td>\n      <td>15.738963</td>\n      <td>7.703421</td>\n    </tr>\n    <tr>\n      <th>4</th>\n      <td>2010-03-09 07:51:00.000000135</td>\n      <td>5.3</td>\n      <td>2010-03-09 07:51:00</td>\n      <td>-73.968095</td>\n      <td>40.768008</td>\n      <td>-73.956655</td>\n      <td>40.783762</td>\n      <td>1</td>\n      <td>7</td>\n      <td>9</td>\n      <td>3</td>\n      <td>1</td>\n      <td>2010</td>\n      <td>43.329953</td>\n      <td>39.406828</td>\n      <td>15.219339</td>\n      <td>23.732406</td>\n      <td>15.600745</td>\n    </tr>\n  </tbody>\n</table>\n</div>"
     },
     "execution_count": 7,
     "metadata": {},
     "output_type": "execute_result"
    }
   ],
   "source": [
    "train_df = add_airport_dist(train_df)\n",
    "print(train_df.shape)\n",
    "train_df.head()"
   ],
   "metadata": {
    "collapsed": false
   }
  },
  {
   "cell_type": "code",
   "execution_count": 8,
   "outputs": [
    {
     "name": "stdout",
     "output_type": "stream",
     "text": [
      "(1960430, 19)\n"
     ]
    },
    {
     "name": "stderr",
     "output_type": "stream",
     "text": [
      "C:\\Users\\Utilisateur\\AppData\\Local\\Temp\\ipykernel_31700\\3394566825.py:1: SettingWithCopyWarning: \n",
      "A value is trying to be set on a copy of a slice from a DataFrame.\n",
      "Try using .loc[row_indexer,col_indexer] = value instead\n",
      "\n",
      "See the caveats in the documentation: https://pandas.pydata.org/pandas-docs/stable/user_guide/indexing.html#returning-a-view-versus-a-copy\n",
      "  train_df['distance'] = sphere_dist(train_df['pickup_latitude'], train_df['pickup_longitude'],\n"
     ]
    },
    {
     "data": {
      "text/plain": "                             key  fare_amount     pickup_datetime  \\\n0    2009-06-15 17:26:21.0000001          4.5 2009-06-15 17:26:21   \n1    2010-01-05 16:52:16.0000002         16.9 2010-01-05 16:52:16   \n2   2011-08-18 00:35:00.00000049          5.7 2011-08-18 00:35:00   \n3    2012-04-21 04:30:42.0000001          7.7 2012-04-21 04:30:42   \n4  2010-03-09 07:51:00.000000135          5.3 2010-03-09 07:51:00   \n\n   pickup_longitude  pickup_latitude  dropoff_longitude  dropoff_latitude  \\\n0        -73.844311        40.721319         -73.841610         40.712278   \n1        -74.016048        40.711303         -73.979268         40.782004   \n2        -73.982738        40.761270         -73.991242         40.750562   \n3        -73.987130        40.733143         -73.991567         40.758092   \n4        -73.968095        40.768008         -73.956655         40.783762   \n\n   passenger_count  hour  day  month  weekday  year   jfk_dist   ewr_dist  \\\n0                1    17   15      6        0  2009  20.265840  55.176046   \n1                1    16    5      1        1  2010  44.667679  31.832358   \n2                2     0   18      8        3  2011  43.597686  33.712082   \n3                1     4   21      4        5  2012  42.642965  32.556289   \n4                1     7    9      3        1  2010  43.329953  39.406828   \n\n    lga_dist   sol_dist   nyc_dist  distance  \n0  14.342611  34.543548  27.572573  1.030764  \n1  23.130775  15.125872   8.755732  8.450134  \n2  19.865289  17.722624   9.847344  1.389525  \n3  21.063132  15.738963   7.703421  2.799270  \n4  15.219339  23.732406  15.600745  1.999157  ",
      "text/html": "<div>\n<style scoped>\n    .dataframe tbody tr th:only-of-type {\n        vertical-align: middle;\n    }\n\n    .dataframe tbody tr th {\n        vertical-align: top;\n    }\n\n    .dataframe thead th {\n        text-align: right;\n    }\n</style>\n<table border=\"1\" class=\"dataframe\">\n  <thead>\n    <tr style=\"text-align: right;\">\n      <th></th>\n      <th>key</th>\n      <th>fare_amount</th>\n      <th>pickup_datetime</th>\n      <th>pickup_longitude</th>\n      <th>pickup_latitude</th>\n      <th>dropoff_longitude</th>\n      <th>dropoff_latitude</th>\n      <th>passenger_count</th>\n      <th>hour</th>\n      <th>day</th>\n      <th>month</th>\n      <th>weekday</th>\n      <th>year</th>\n      <th>jfk_dist</th>\n      <th>ewr_dist</th>\n      <th>lga_dist</th>\n      <th>sol_dist</th>\n      <th>nyc_dist</th>\n      <th>distance</th>\n    </tr>\n  </thead>\n  <tbody>\n    <tr>\n      <th>0</th>\n      <td>2009-06-15 17:26:21.0000001</td>\n      <td>4.5</td>\n      <td>2009-06-15 17:26:21</td>\n      <td>-73.844311</td>\n      <td>40.721319</td>\n      <td>-73.841610</td>\n      <td>40.712278</td>\n      <td>1</td>\n      <td>17</td>\n      <td>15</td>\n      <td>6</td>\n      <td>0</td>\n      <td>2009</td>\n      <td>20.265840</td>\n      <td>55.176046</td>\n      <td>14.342611</td>\n      <td>34.543548</td>\n      <td>27.572573</td>\n      <td>1.030764</td>\n    </tr>\n    <tr>\n      <th>1</th>\n      <td>2010-01-05 16:52:16.0000002</td>\n      <td>16.9</td>\n      <td>2010-01-05 16:52:16</td>\n      <td>-74.016048</td>\n      <td>40.711303</td>\n      <td>-73.979268</td>\n      <td>40.782004</td>\n      <td>1</td>\n      <td>16</td>\n      <td>5</td>\n      <td>1</td>\n      <td>1</td>\n      <td>2010</td>\n      <td>44.667679</td>\n      <td>31.832358</td>\n      <td>23.130775</td>\n      <td>15.125872</td>\n      <td>8.755732</td>\n      <td>8.450134</td>\n    </tr>\n    <tr>\n      <th>2</th>\n      <td>2011-08-18 00:35:00.00000049</td>\n      <td>5.7</td>\n      <td>2011-08-18 00:35:00</td>\n      <td>-73.982738</td>\n      <td>40.761270</td>\n      <td>-73.991242</td>\n      <td>40.750562</td>\n      <td>2</td>\n      <td>0</td>\n      <td>18</td>\n      <td>8</td>\n      <td>3</td>\n      <td>2011</td>\n      <td>43.597686</td>\n      <td>33.712082</td>\n      <td>19.865289</td>\n      <td>17.722624</td>\n      <td>9.847344</td>\n      <td>1.389525</td>\n    </tr>\n    <tr>\n      <th>3</th>\n      <td>2012-04-21 04:30:42.0000001</td>\n      <td>7.7</td>\n      <td>2012-04-21 04:30:42</td>\n      <td>-73.987130</td>\n      <td>40.733143</td>\n      <td>-73.991567</td>\n      <td>40.758092</td>\n      <td>1</td>\n      <td>4</td>\n      <td>21</td>\n      <td>4</td>\n      <td>5</td>\n      <td>2012</td>\n      <td>42.642965</td>\n      <td>32.556289</td>\n      <td>21.063132</td>\n      <td>15.738963</td>\n      <td>7.703421</td>\n      <td>2.799270</td>\n    </tr>\n    <tr>\n      <th>4</th>\n      <td>2010-03-09 07:51:00.000000135</td>\n      <td>5.3</td>\n      <td>2010-03-09 07:51:00</td>\n      <td>-73.968095</td>\n      <td>40.768008</td>\n      <td>-73.956655</td>\n      <td>40.783762</td>\n      <td>1</td>\n      <td>7</td>\n      <td>9</td>\n      <td>3</td>\n      <td>1</td>\n      <td>2010</td>\n      <td>43.329953</td>\n      <td>39.406828</td>\n      <td>15.219339</td>\n      <td>23.732406</td>\n      <td>15.600745</td>\n      <td>1.999157</td>\n    </tr>\n  </tbody>\n</table>\n</div>"
     },
     "execution_count": 8,
     "metadata": {},
     "output_type": "execute_result"
    }
   ],
   "source": [
    "train_df['distance'] = sphere_dist(train_df['pickup_latitude'], train_df['pickup_longitude'],\n",
    "                                   train_df['dropoff_latitude'] , train_df['dropoff_longitude'])\n",
    "print(train_df.shape)\n",
    "train_df.head()"
   ],
   "metadata": {
    "collapsed": false
   }
  },
  {
   "cell_type": "code",
   "execution_count": 10,
   "outputs": [
    {
     "name": "stdout",
     "output_type": "stream",
     "text": [
      "(1960430, 20)\n"
     ]
    },
    {
     "name": "stderr",
     "output_type": "stream",
     "text": [
      "C:\\Users\\Utilisateur\\AppData\\Local\\Temp\\ipykernel_31700\\687824068.py:1: SettingWithCopyWarning: \n",
      "A value is trying to be set on a copy of a slice from a DataFrame.\n",
      "Try using .loc[row_indexer,col_indexer] = value instead\n",
      "\n",
      "See the caveats in the documentation: https://pandas.pydata.org/pandas-docs/stable/user_guide/indexing.html#returning-a-view-versus-a-copy\n",
      "  train_df['bearing'] = sphere_dist_bear(train_df['pickup_latitude'], train_df['pickup_longitude'],\n"
     ]
    },
    {
     "data": {
      "text/plain": "                             key  fare_amount     pickup_datetime  \\\n0    2009-06-15 17:26:21.0000001          4.5 2009-06-15 17:26:21   \n1    2010-01-05 16:52:16.0000002         16.9 2010-01-05 16:52:16   \n2   2011-08-18 00:35:00.00000049          5.7 2011-08-18 00:35:00   \n3    2012-04-21 04:30:42.0000001          7.7 2012-04-21 04:30:42   \n4  2010-03-09 07:51:00.000000135          5.3 2010-03-09 07:51:00   \n\n   pickup_longitude  pickup_latitude  dropoff_longitude  dropoff_latitude  \\\n0        -73.844311        40.721319         -73.841610         40.712278   \n1        -74.016048        40.711303         -73.979268         40.782004   \n2        -73.982738        40.761270         -73.991242         40.750562   \n3        -73.987130        40.733143         -73.991567         40.758092   \n4        -73.968095        40.768008         -73.956655         40.783762   \n\n   passenger_count  hour  day  month  weekday  year   jfk_dist   ewr_dist  \\\n0                1    17   15      6        0  2009  20.265840  55.176046   \n1                1    16    5      1        1  2010  44.667679  31.832358   \n2                2     0   18      8        3  2011  43.597686  33.712082   \n3                1     4   21      4        5  2012  42.642965  32.556289   \n4                1     7    9      3        1  2010  43.329953  39.406828   \n\n    lga_dist   sol_dist   nyc_dist  distance   bearing  \n0  14.342611  34.543548  27.572573  1.030764 -2.918897  \n1  23.130775  15.125872   8.755732  8.450134 -0.375217  \n2  19.865289  17.722624   9.847344  1.389525  2.599961  \n3  21.063132  15.738963   7.703421  2.799270  0.133905  \n4  15.219339  23.732406  15.600745  1.999157 -0.502703  ",
      "text/html": "<div>\n<style scoped>\n    .dataframe tbody tr th:only-of-type {\n        vertical-align: middle;\n    }\n\n    .dataframe tbody tr th {\n        vertical-align: top;\n    }\n\n    .dataframe thead th {\n        text-align: right;\n    }\n</style>\n<table border=\"1\" class=\"dataframe\">\n  <thead>\n    <tr style=\"text-align: right;\">\n      <th></th>\n      <th>key</th>\n      <th>fare_amount</th>\n      <th>pickup_datetime</th>\n      <th>pickup_longitude</th>\n      <th>pickup_latitude</th>\n      <th>dropoff_longitude</th>\n      <th>dropoff_latitude</th>\n      <th>passenger_count</th>\n      <th>hour</th>\n      <th>day</th>\n      <th>month</th>\n      <th>weekday</th>\n      <th>year</th>\n      <th>jfk_dist</th>\n      <th>ewr_dist</th>\n      <th>lga_dist</th>\n      <th>sol_dist</th>\n      <th>nyc_dist</th>\n      <th>distance</th>\n      <th>bearing</th>\n    </tr>\n  </thead>\n  <tbody>\n    <tr>\n      <th>0</th>\n      <td>2009-06-15 17:26:21.0000001</td>\n      <td>4.5</td>\n      <td>2009-06-15 17:26:21</td>\n      <td>-73.844311</td>\n      <td>40.721319</td>\n      <td>-73.841610</td>\n      <td>40.712278</td>\n      <td>1</td>\n      <td>17</td>\n      <td>15</td>\n      <td>6</td>\n      <td>0</td>\n      <td>2009</td>\n      <td>20.265840</td>\n      <td>55.176046</td>\n      <td>14.342611</td>\n      <td>34.543548</td>\n      <td>27.572573</td>\n      <td>1.030764</td>\n      <td>-2.918897</td>\n    </tr>\n    <tr>\n      <th>1</th>\n      <td>2010-01-05 16:52:16.0000002</td>\n      <td>16.9</td>\n      <td>2010-01-05 16:52:16</td>\n      <td>-74.016048</td>\n      <td>40.711303</td>\n      <td>-73.979268</td>\n      <td>40.782004</td>\n      <td>1</td>\n      <td>16</td>\n      <td>5</td>\n      <td>1</td>\n      <td>1</td>\n      <td>2010</td>\n      <td>44.667679</td>\n      <td>31.832358</td>\n      <td>23.130775</td>\n      <td>15.125872</td>\n      <td>8.755732</td>\n      <td>8.450134</td>\n      <td>-0.375217</td>\n    </tr>\n    <tr>\n      <th>2</th>\n      <td>2011-08-18 00:35:00.00000049</td>\n      <td>5.7</td>\n      <td>2011-08-18 00:35:00</td>\n      <td>-73.982738</td>\n      <td>40.761270</td>\n      <td>-73.991242</td>\n      <td>40.750562</td>\n      <td>2</td>\n      <td>0</td>\n      <td>18</td>\n      <td>8</td>\n      <td>3</td>\n      <td>2011</td>\n      <td>43.597686</td>\n      <td>33.712082</td>\n      <td>19.865289</td>\n      <td>17.722624</td>\n      <td>9.847344</td>\n      <td>1.389525</td>\n      <td>2.599961</td>\n    </tr>\n    <tr>\n      <th>3</th>\n      <td>2012-04-21 04:30:42.0000001</td>\n      <td>7.7</td>\n      <td>2012-04-21 04:30:42</td>\n      <td>-73.987130</td>\n      <td>40.733143</td>\n      <td>-73.991567</td>\n      <td>40.758092</td>\n      <td>1</td>\n      <td>4</td>\n      <td>21</td>\n      <td>4</td>\n      <td>5</td>\n      <td>2012</td>\n      <td>42.642965</td>\n      <td>32.556289</td>\n      <td>21.063132</td>\n      <td>15.738963</td>\n      <td>7.703421</td>\n      <td>2.799270</td>\n      <td>0.133905</td>\n    </tr>\n    <tr>\n      <th>4</th>\n      <td>2010-03-09 07:51:00.000000135</td>\n      <td>5.3</td>\n      <td>2010-03-09 07:51:00</td>\n      <td>-73.968095</td>\n      <td>40.768008</td>\n      <td>-73.956655</td>\n      <td>40.783762</td>\n      <td>1</td>\n      <td>7</td>\n      <td>9</td>\n      <td>3</td>\n      <td>1</td>\n      <td>2010</td>\n      <td>43.329953</td>\n      <td>39.406828</td>\n      <td>15.219339</td>\n      <td>23.732406</td>\n      <td>15.600745</td>\n      <td>1.999157</td>\n      <td>-0.502703</td>\n    </tr>\n  </tbody>\n</table>\n</div>"
     },
     "execution_count": 10,
     "metadata": {},
     "output_type": "execute_result"
    }
   ],
   "source": [
    "train_df['bearing'] = sphere_dist_bear(train_df['pickup_latitude'], train_df['pickup_longitude'],\n",
    "                                       train_df['dropoff_latitude'] , train_df['dropoff_longitude'])\n",
    "print(train_df.shape)\n",
    "train_df.head()"
   ],
   "metadata": {
    "collapsed": false
   }
  },
  {
   "cell_type": "code",
   "execution_count": 11,
   "outputs": [
    {
     "name": "stdout",
     "output_type": "stream",
     "text": [
      "(1960430, 20)\n"
     ]
    },
    {
     "name": "stderr",
     "output_type": "stream",
     "text": [
      "C:\\Users\\Utilisateur\\AppData\\Local\\Temp\\ipykernel_31700\\575969882.py:1: SettingWithCopyWarning: \n",
      "A value is trying to be set on a copy of a slice from a DataFrame.\n",
      "Try using .loc[row_indexer,col_indexer] = value instead\n",
      "\n",
      "See the caveats in the documentation: https://pandas.pydata.org/pandas-docs/stable/user_guide/indexing.html#returning-a-view-versus-a-copy\n",
      "  train_df['pickup_latitude'] = radian_conv(train_df['pickup_latitude'])\n",
      "C:\\Users\\Utilisateur\\AppData\\Local\\Temp\\ipykernel_31700\\575969882.py:2: SettingWithCopyWarning: \n",
      "A value is trying to be set on a copy of a slice from a DataFrame.\n",
      "Try using .loc[row_indexer,col_indexer] = value instead\n",
      "\n",
      "See the caveats in the documentation: https://pandas.pydata.org/pandas-docs/stable/user_guide/indexing.html#returning-a-view-versus-a-copy\n",
      "  train_df['pickup_longitude'] = radian_conv(train_df['pickup_longitude'])\n",
      "C:\\Users\\Utilisateur\\AppData\\Local\\Temp\\ipykernel_31700\\575969882.py:3: SettingWithCopyWarning: \n",
      "A value is trying to be set on a copy of a slice from a DataFrame.\n",
      "Try using .loc[row_indexer,col_indexer] = value instead\n",
      "\n",
      "See the caveats in the documentation: https://pandas.pydata.org/pandas-docs/stable/user_guide/indexing.html#returning-a-view-versus-a-copy\n",
      "  train_df['dropoff_latitude'] = radian_conv(train_df['dropoff_latitude'])\n",
      "C:\\Users\\Utilisateur\\AppData\\Local\\Temp\\ipykernel_31700\\575969882.py:4: SettingWithCopyWarning: \n",
      "A value is trying to be set on a copy of a slice from a DataFrame.\n",
      "Try using .loc[row_indexer,col_indexer] = value instead\n",
      "\n",
      "See the caveats in the documentation: https://pandas.pydata.org/pandas-docs/stable/user_guide/indexing.html#returning-a-view-versus-a-copy\n",
      "  train_df['dropoff_longitude'] = radian_conv(train_df['dropoff_longitude'])\n"
     ]
    },
    {
     "data": {
      "text/plain": "                             key  fare_amount     pickup_datetime  \\\n0    2009-06-15 17:26:21.0000001          4.5 2009-06-15 17:26:21   \n1    2010-01-05 16:52:16.0000002         16.9 2010-01-05 16:52:16   \n2   2011-08-18 00:35:00.00000049          5.7 2011-08-18 00:35:00   \n3    2012-04-21 04:30:42.0000001          7.7 2012-04-21 04:30:42   \n4  2010-03-09 07:51:00.000000135          5.3 2010-03-09 07:51:00   \n\n   pickup_longitude  pickup_latitude  dropoff_longitude  dropoff_latitude  \\\n0         -1.288826         0.710721          -1.288779          0.710563   \n1         -1.291824         0.710546          -1.291182          0.711780   \n2         -1.291242         0.711418          -1.291391          0.711231   \n3         -1.291319         0.710927          -1.291396          0.711363   \n4         -1.290987         0.711536          -1.290787          0.711811   \n\n   passenger_count  hour  day  month  weekday  year   jfk_dist   ewr_dist  \\\n0                1    17   15      6        0  2009  20.265840  55.176046   \n1                1    16    5      1        1  2010  44.667679  31.832358   \n2                2     0   18      8        3  2011  43.597686  33.712082   \n3                1     4   21      4        5  2012  42.642965  32.556289   \n4                1     7    9      3        1  2010  43.329953  39.406828   \n\n    lga_dist   sol_dist   nyc_dist  distance   bearing  \n0  14.342611  34.543548  27.572573  1.030764 -2.918897  \n1  23.130775  15.125872   8.755732  8.450134 -0.375217  \n2  19.865289  17.722624   9.847344  1.389525  2.599961  \n3  21.063132  15.738963   7.703421  2.799270  0.133905  \n4  15.219339  23.732406  15.600745  1.999157 -0.502703  ",
      "text/html": "<div>\n<style scoped>\n    .dataframe tbody tr th:only-of-type {\n        vertical-align: middle;\n    }\n\n    .dataframe tbody tr th {\n        vertical-align: top;\n    }\n\n    .dataframe thead th {\n        text-align: right;\n    }\n</style>\n<table border=\"1\" class=\"dataframe\">\n  <thead>\n    <tr style=\"text-align: right;\">\n      <th></th>\n      <th>key</th>\n      <th>fare_amount</th>\n      <th>pickup_datetime</th>\n      <th>pickup_longitude</th>\n      <th>pickup_latitude</th>\n      <th>dropoff_longitude</th>\n      <th>dropoff_latitude</th>\n      <th>passenger_count</th>\n      <th>hour</th>\n      <th>day</th>\n      <th>month</th>\n      <th>weekday</th>\n      <th>year</th>\n      <th>jfk_dist</th>\n      <th>ewr_dist</th>\n      <th>lga_dist</th>\n      <th>sol_dist</th>\n      <th>nyc_dist</th>\n      <th>distance</th>\n      <th>bearing</th>\n    </tr>\n  </thead>\n  <tbody>\n    <tr>\n      <th>0</th>\n      <td>2009-06-15 17:26:21.0000001</td>\n      <td>4.5</td>\n      <td>2009-06-15 17:26:21</td>\n      <td>-1.288826</td>\n      <td>0.710721</td>\n      <td>-1.288779</td>\n      <td>0.710563</td>\n      <td>1</td>\n      <td>17</td>\n      <td>15</td>\n      <td>6</td>\n      <td>0</td>\n      <td>2009</td>\n      <td>20.265840</td>\n      <td>55.176046</td>\n      <td>14.342611</td>\n      <td>34.543548</td>\n      <td>27.572573</td>\n      <td>1.030764</td>\n      <td>-2.918897</td>\n    </tr>\n    <tr>\n      <th>1</th>\n      <td>2010-01-05 16:52:16.0000002</td>\n      <td>16.9</td>\n      <td>2010-01-05 16:52:16</td>\n      <td>-1.291824</td>\n      <td>0.710546</td>\n      <td>-1.291182</td>\n      <td>0.711780</td>\n      <td>1</td>\n      <td>16</td>\n      <td>5</td>\n      <td>1</td>\n      <td>1</td>\n      <td>2010</td>\n      <td>44.667679</td>\n      <td>31.832358</td>\n      <td>23.130775</td>\n      <td>15.125872</td>\n      <td>8.755732</td>\n      <td>8.450134</td>\n      <td>-0.375217</td>\n    </tr>\n    <tr>\n      <th>2</th>\n      <td>2011-08-18 00:35:00.00000049</td>\n      <td>5.7</td>\n      <td>2011-08-18 00:35:00</td>\n      <td>-1.291242</td>\n      <td>0.711418</td>\n      <td>-1.291391</td>\n      <td>0.711231</td>\n      <td>2</td>\n      <td>0</td>\n      <td>18</td>\n      <td>8</td>\n      <td>3</td>\n      <td>2011</td>\n      <td>43.597686</td>\n      <td>33.712082</td>\n      <td>19.865289</td>\n      <td>17.722624</td>\n      <td>9.847344</td>\n      <td>1.389525</td>\n      <td>2.599961</td>\n    </tr>\n    <tr>\n      <th>3</th>\n      <td>2012-04-21 04:30:42.0000001</td>\n      <td>7.7</td>\n      <td>2012-04-21 04:30:42</td>\n      <td>-1.291319</td>\n      <td>0.710927</td>\n      <td>-1.291396</td>\n      <td>0.711363</td>\n      <td>1</td>\n      <td>4</td>\n      <td>21</td>\n      <td>4</td>\n      <td>5</td>\n      <td>2012</td>\n      <td>42.642965</td>\n      <td>32.556289</td>\n      <td>21.063132</td>\n      <td>15.738963</td>\n      <td>7.703421</td>\n      <td>2.799270</td>\n      <td>0.133905</td>\n    </tr>\n    <tr>\n      <th>4</th>\n      <td>2010-03-09 07:51:00.000000135</td>\n      <td>5.3</td>\n      <td>2010-03-09 07:51:00</td>\n      <td>-1.290987</td>\n      <td>0.711536</td>\n      <td>-1.290787</td>\n      <td>0.711811</td>\n      <td>1</td>\n      <td>7</td>\n      <td>9</td>\n      <td>3</td>\n      <td>1</td>\n      <td>2010</td>\n      <td>43.329953</td>\n      <td>39.406828</td>\n      <td>15.219339</td>\n      <td>23.732406</td>\n      <td>15.600745</td>\n      <td>1.999157</td>\n      <td>-0.502703</td>\n    </tr>\n  </tbody>\n</table>\n</div>"
     },
     "execution_count": 11,
     "metadata": {},
     "output_type": "execute_result"
    }
   ],
   "source": [
    "train_df['pickup_latitude'] = radian_conv(train_df['pickup_latitude'])\n",
    "train_df['pickup_longitude'] = radian_conv(train_df['pickup_longitude'])\n",
    "train_df['dropoff_latitude'] = radian_conv(train_df['dropoff_latitude'])\n",
    "train_df['dropoff_longitude'] = radian_conv(train_df['dropoff_longitude'])\n",
    "\n",
    "print(train_df.shape)\n",
    "train_df.head()"
   ],
   "metadata": {
    "collapsed": false
   }
  },
  {
   "cell_type": "code",
   "execution_count": 12,
   "outputs": [
    {
     "name": "stdout",
     "output_type": "stream",
     "text": [
      "   pickup_longitude  pickup_latitude  dropoff_longitude  dropoff_latitude  \\\n",
      "0         -1.288826         0.710721          -1.288779          0.710563   \n",
      "1         -1.291824         0.710546          -1.291182          0.711780   \n",
      "2         -1.291242         0.711418          -1.291391          0.711231   \n",
      "3         -1.291319         0.710927          -1.291396          0.711363   \n",
      "4         -1.290987         0.711536          -1.290787          0.711811   \n",
      "\n",
      "   passenger_count  hour  day  month  weekday  year   jfk_dist   ewr_dist  \\\n",
      "0                1    17   15      6        0  2009  20.265840  55.176046   \n",
      "1                1    16    5      1        1  2010  44.667679  31.832358   \n",
      "2                2     0   18      8        3  2011  43.597686  33.712082   \n",
      "3                1     4   21      4        5  2012  42.642965  32.556289   \n",
      "4                1     7    9      3        1  2010  43.329953  39.406828   \n",
      "\n",
      "    lga_dist   sol_dist   nyc_dist  distance   bearing  \n",
      "0  14.342611  34.543548  27.572573  1.030764 -2.918897  \n",
      "1  23.130775  15.125872   8.755732  8.450134 -0.375217  \n",
      "2  19.865289  17.722624   9.847344  1.389525  2.599961  \n",
      "3  21.063132  15.738963   7.703421  2.799270  0.133905  \n",
      "4  15.219339  23.732406  15.600745  1.999157 -0.502703  \n"
     ]
    },
    {
     "name": "stderr",
     "output_type": "stream",
     "text": [
      "C:\\Users\\Utilisateur\\AppData\\Local\\Temp\\ipykernel_31700\\3543252545.py:1: SettingWithCopyWarning: \n",
      "A value is trying to be set on a copy of a slice from a DataFrame\n",
      "\n",
      "See the caveats in the documentation: https://pandas.pydata.org/pandas-docs/stable/user_guide/indexing.html#returning-a-view-versus-a-copy\n",
      "  train_df.drop(columns=['key', 'pickup_datetime'], inplace=True)\n"
     ]
    }
   ],
   "source": [
    "train_df.drop(columns=['key', 'pickup_datetime'], inplace=True)\n",
    "\n",
    "y = train_df['fare_amount']\n",
    "train_df = train_df.drop(columns=['fare_amount'])\n",
    "\n",
    "\n",
    "print(train_df.head())"
   ],
   "metadata": {
    "collapsed": false
   }
  },
  {
   "cell_type": "code",
   "execution_count": null,
   "outputs": [],
   "source": [],
   "metadata": {
    "collapsed": false
   }
  }
 ],
 "metadata": {
  "kernelspec": {
   "display_name": "Python 3",
   "language": "python",
   "name": "python3"
  },
  "language_info": {
   "codemirror_mode": {
    "name": "ipython",
    "version": 2
   },
   "file_extension": ".py",
   "mimetype": "text/x-python",
   "name": "python",
   "nbconvert_exporter": "python",
   "pygments_lexer": "ipython2",
   "version": "2.7.6"
  }
 },
 "nbformat": 4,
 "nbformat_minor": 0
}
