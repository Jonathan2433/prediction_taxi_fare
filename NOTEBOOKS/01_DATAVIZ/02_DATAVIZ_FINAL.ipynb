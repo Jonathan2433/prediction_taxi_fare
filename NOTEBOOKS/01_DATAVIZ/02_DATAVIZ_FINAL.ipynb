{
 "cells": [
  {
   "cell_type": "markdown",
   "source": [
    "# DATAVIZ FINAL BEFORE MODELS\n",
    "\n",
    "# IMPORT LIBS"
   ],
   "metadata": {
    "collapsed": false
   }
  },
  {
   "cell_type": "code",
   "execution_count": null,
   "metadata": {
    "collapsed": true
   },
   "outputs": [],
   "source": [
    "import pandas as pd\n",
    "import plotly.express as px"
   ]
  },
  {
   "cell_type": "markdown",
   "source": [
    "# OPEN DATASET"
   ],
   "metadata": {
    "collapsed": false
   }
  },
  {
   "cell_type": "code",
   "execution_count": null,
   "outputs": [],
   "source": [
    "df = pd.read_csv('../../DATA/PREPROCESSING/prepro_05_DAY_OR_NIGHT.csv', nrows=200000)\n",
    "df.head()"
   ],
   "metadata": {
    "collapsed": false
   }
  },
  {
   "cell_type": "markdown",
   "source": [
    "# BOX PLOT CHART OF FARE AMOUNT BY DAY OF THE WEEK"
   ],
   "metadata": {
    "collapsed": false
   }
  },
  {
   "cell_type": "code",
   "execution_count": null,
   "outputs": [],
   "source": [
    "fig = px.box(df, x=\"day_of_the_week\", y=\"fare_amount\", color=\"day_of_the_week\", title=\"Fare Amount par jour de la semaine\")\n",
    "fig.show()"
   ],
   "metadata": {
    "collapsed": false
   }
  },
  {
   "cell_type": "markdown",
   "source": [
    "# BOX PLOT CHART OF FARE AMOUNT BY DAY OR NIGHT"
   ],
   "metadata": {
    "collapsed": false
   }
  },
  {
   "cell_type": "code",
   "execution_count": null,
   "outputs": [],
   "source": [
    "fig = px.box(df, x=\"daytime\", y=\"fare_amount\", color=\"daytime\", title=\"Fare Amount par jour ou nuit\")\n",
    "fig.show()"
   ],
   "metadata": {
    "collapsed": false
   }
  },
  {
   "cell_type": "markdown",
   "source": [
    "# BOX PLOT CHART OF FARE AMOUNT BY PUBLIC HOLIDAYS"
   ],
   "metadata": {
    "collapsed": false
   }
  },
  {
   "cell_type": "code",
   "execution_count": null,
   "outputs": [],
   "source": [
    "fig = px.box(df, x=\"public_holiday\", y=\"fare_amount\", color=\"public_holiday\", title=\"Fare Amount par jour férié ou non\")\n",
    "fig.show()"
   ],
   "metadata": {
    "collapsed": false
   }
  },
  {
   "cell_type": "markdown",
   "source": [
    "# BOX PLOT CHART OF PASSENGER COUNT BY FARE AMOUNT"
   ],
   "metadata": {
    "collapsed": false
   }
  },
  {
   "cell_type": "code",
   "execution_count": null,
   "outputs": [],
   "source": [
    "fig = px.box(df, x=\"passenger_count\", y=\"fare_amount\", color=\"passenger_count\", title=\"Fare Amount par nombre de passager\")\n",
    "fig.show()"
   ],
   "metadata": {
    "collapsed": false
   }
  },
  {
   "cell_type": "markdown",
   "source": [
    "# CORR CHART"
   ],
   "metadata": {
    "collapsed": false
   }
  },
  {
   "cell_type": "code",
   "execution_count": null,
   "outputs": [],
   "source": [
    "corr = df.corr()\n",
    "fig = px.imshow(abs(corr))\n",
    "fig.show()"
   ],
   "metadata": {
    "collapsed": false
   }
  },
  {
   "cell_type": "markdown",
   "source": [
    "# SCATTER PLOT OF DRIVING DISTANCE"
   ],
   "metadata": {
    "collapsed": false
   }
  },
  {
   "cell_type": "code",
   "execution_count": null,
   "outputs": [],
   "source": [
    "px.scatter(df, x=df['Driving distance (miles)'], y=df['fare_amount'], color=df['passenger_count'], hover_data=['day_of_the_week', 'public_holiday', 'passenger_count']).show()"
   ],
   "metadata": {
    "collapsed": false
   }
  },
  {
   "cell_type": "markdown",
   "source": [
    "Nous remarquons ici, que le prix d'une course de X miles peut etre de 3$ Comme 20$"
   ],
   "metadata": {
    "collapsed": false
   }
  },
  {
   "cell_type": "code",
   "execution_count": null,
   "outputs": [],
   "source": [],
   "metadata": {
    "collapsed": false
   }
  }
 ],
 "metadata": {
  "kernelspec": {
   "display_name": "Python 3",
   "language": "python",
   "name": "python3"
  },
  "language_info": {
   "codemirror_mode": {
    "name": "ipython",
    "version": 2
   },
   "file_extension": ".py",
   "mimetype": "text/x-python",
   "name": "python",
   "nbconvert_exporter": "python",
   "pygments_lexer": "ipython2",
   "version": "2.7.6"
  }
 },
 "nbformat": 4,
 "nbformat_minor": 0
}
