{
 "cells": [
  {
   "cell_type": "markdown",
   "source": [
    "## PREPROCESSING OF NA AND 0 VALUES\n",
    "\n",
    "# Import Libs"
   ],
   "metadata": {
    "collapsed": false
   }
  },
  {
   "cell_type": "code",
   "execution_count": 1,
   "metadata": {
    "collapsed": true
   },
   "outputs": [],
   "source": [
    "import pandas as pd"
   ]
  },
  {
   "cell_type": "markdown",
   "source": [
    "# Open File"
   ],
   "metadata": {
    "collapsed": false
   }
  },
  {
   "cell_type": "code",
   "execution_count": 2,
   "outputs": [
    {
     "data": {
      "text/plain": "                             key  fare_amount          pickup_datetime  \\\n0    2009-06-15 17:26:21.0000001          4.5  2009-06-15 17:26:21 UTC   \n1    2010-01-05 16:52:16.0000002         16.9  2010-01-05 16:52:16 UTC   \n2   2011-08-18 00:35:00.00000049          5.7  2011-08-18 00:35:00 UTC   \n3    2012-04-21 04:30:42.0000001          7.7  2012-04-21 04:30:42 UTC   \n4  2010-03-09 07:51:00.000000135          5.3  2010-03-09 07:51:00 UTC   \n\n   pickup_longitude  pickup_latitude  dropoff_longitude  dropoff_latitude  \\\n0        -73.844311        40.721319         -73.841610         40.712278   \n1        -74.016048        40.711303         -73.979268         40.782004   \n2        -73.982738        40.761270         -73.991242         40.750562   \n3        -73.987130        40.733143         -73.991567         40.758092   \n4        -73.968095        40.768008         -73.956655         40.783762   \n\n   passenger_count  \n0                1  \n1                1  \n2                2  \n3                1  \n4                1  ",
      "text/html": "<div>\n<style scoped>\n    .dataframe tbody tr th:only-of-type {\n        vertical-align: middle;\n    }\n\n    .dataframe tbody tr th {\n        vertical-align: top;\n    }\n\n    .dataframe thead th {\n        text-align: right;\n    }\n</style>\n<table border=\"1\" class=\"dataframe\">\n  <thead>\n    <tr style=\"text-align: right;\">\n      <th></th>\n      <th>key</th>\n      <th>fare_amount</th>\n      <th>pickup_datetime</th>\n      <th>pickup_longitude</th>\n      <th>pickup_latitude</th>\n      <th>dropoff_longitude</th>\n      <th>dropoff_latitude</th>\n      <th>passenger_count</th>\n    </tr>\n  </thead>\n  <tbody>\n    <tr>\n      <th>0</th>\n      <td>2009-06-15 17:26:21.0000001</td>\n      <td>4.5</td>\n      <td>2009-06-15 17:26:21 UTC</td>\n      <td>-73.844311</td>\n      <td>40.721319</td>\n      <td>-73.841610</td>\n      <td>40.712278</td>\n      <td>1</td>\n    </tr>\n    <tr>\n      <th>1</th>\n      <td>2010-01-05 16:52:16.0000002</td>\n      <td>16.9</td>\n      <td>2010-01-05 16:52:16 UTC</td>\n      <td>-74.016048</td>\n      <td>40.711303</td>\n      <td>-73.979268</td>\n      <td>40.782004</td>\n      <td>1</td>\n    </tr>\n    <tr>\n      <th>2</th>\n      <td>2011-08-18 00:35:00.00000049</td>\n      <td>5.7</td>\n      <td>2011-08-18 00:35:00 UTC</td>\n      <td>-73.982738</td>\n      <td>40.761270</td>\n      <td>-73.991242</td>\n      <td>40.750562</td>\n      <td>2</td>\n    </tr>\n    <tr>\n      <th>3</th>\n      <td>2012-04-21 04:30:42.0000001</td>\n      <td>7.7</td>\n      <td>2012-04-21 04:30:42 UTC</td>\n      <td>-73.987130</td>\n      <td>40.733143</td>\n      <td>-73.991567</td>\n      <td>40.758092</td>\n      <td>1</td>\n    </tr>\n    <tr>\n      <th>4</th>\n      <td>2010-03-09 07:51:00.000000135</td>\n      <td>5.3</td>\n      <td>2010-03-09 07:51:00 UTC</td>\n      <td>-73.968095</td>\n      <td>40.768008</td>\n      <td>-73.956655</td>\n      <td>40.783762</td>\n      <td>1</td>\n    </tr>\n  </tbody>\n</table>\n</div>"
     },
     "execution_count": 2,
     "metadata": {},
     "output_type": "execute_result"
    }
   ],
   "source": [
    "df = pd.read_csv('../../DATA/train.csv', nrows=2000000)\n",
    "df.head()"
   ],
   "metadata": {
    "collapsed": false
   }
  },
  {
   "cell_type": "markdown",
   "source": [
    "## Size of the Dataset"
   ],
   "metadata": {
    "collapsed": false
   }
  },
  {
   "cell_type": "code",
   "execution_count": 3,
   "outputs": [
    {
     "data": {
      "text/plain": "(2000000, 8)"
     },
     "execution_count": 3,
     "metadata": {},
     "output_type": "execute_result"
    }
   ],
   "source": [
    "df.shape"
   ],
   "metadata": {
    "collapsed": false
   }
  },
  {
   "cell_type": "markdown",
   "source": [
    "## Data Type and Nan count by features"
   ],
   "metadata": {
    "collapsed": false
   }
  },
  {
   "cell_type": "code",
   "execution_count": 4,
   "outputs": [
    {
     "name": "stdout",
     "output_type": "stream",
     "text": [
      "<class 'pandas.core.frame.DataFrame'>\n",
      "RangeIndex: 2000000 entries, 0 to 1999999\n",
      "Data columns (total 8 columns):\n",
      " #   Column             Dtype  \n",
      "---  ------             -----  \n",
      " 0   key                object \n",
      " 1   fare_amount        float64\n",
      " 2   pickup_datetime    object \n",
      " 3   pickup_longitude   float64\n",
      " 4   pickup_latitude    float64\n",
      " 5   dropoff_longitude  float64\n",
      " 6   dropoff_latitude   float64\n",
      " 7   passenger_count    int64  \n",
      "dtypes: float64(5), int64(1), object(2)\n",
      "memory usage: 122.1+ MB\n"
     ]
    }
   ],
   "source": [
    "df.info()"
   ],
   "metadata": {
    "collapsed": false
   }
  },
  {
   "cell_type": "code",
   "execution_count": 5,
   "outputs": [
    {
     "data": {
      "text/plain": "key                   0\nfare_amount           0\npickup_datetime       0\npickup_longitude      0\npickup_latitude       0\ndropoff_longitude    14\ndropoff_latitude     14\npassenger_count       0\ndtype: int64"
     },
     "execution_count": 5,
     "metadata": {},
     "output_type": "execute_result"
    }
   ],
   "source": [
    "df.isna().sum()"
   ],
   "metadata": {
    "collapsed": false
   }
  },
  {
   "cell_type": "markdown",
   "source": [
    "# Drop the rows without data"
   ],
   "metadata": {
    "collapsed": false
   }
  },
  {
   "cell_type": "code",
   "execution_count": 6,
   "outputs": [
    {
     "data": {
      "text/plain": "(1999986, 8)"
     },
     "execution_count": 6,
     "metadata": {},
     "output_type": "execute_result"
    }
   ],
   "source": [
    "df = df.dropna()\n",
    "df.shape"
   ],
   "metadata": {
    "collapsed": false
   }
  },
  {
   "cell_type": "markdown",
   "source": [
    "## First Informations about Dataset"
   ],
   "metadata": {
    "collapsed": false
   }
  },
  {
   "cell_type": "code",
   "execution_count": 7,
   "outputs": [
    {
     "data": {
      "text/plain": "                                key   fare_amount          pickup_datetime  \\\ncount                       1999986  1.999986e+06                  1999986   \nunique                      1999986           NaN                  1638254   \ntop     2009-06-15 17:26:21.0000001           NaN  2012-08-24 20:39:00 UTC   \nfreq                              1           NaN                        9   \nmean                            NaN  1.134768e+01                      NaN   \nstd                             NaN  9.852609e+00                      NaN   \nmin                             NaN -6.200000e+01                      NaN   \n25%                             NaN  6.000000e+00                      NaN   \n50%                             NaN  8.500000e+00                      NaN   \n75%                             NaN  1.250000e+01                      NaN   \nmax                             NaN  1.273310e+03                      NaN   \n\n        pickup_longitude  pickup_latitude  dropoff_longitude  \\\ncount       1.999986e+06     1.999986e+06       1.999986e+06   \nunique               NaN              NaN                NaN   \ntop                  NaN              NaN                NaN   \nfreq                 NaN              NaN                NaN   \nmean       -7.252324e+01     3.992965e+01      -7.252395e+01   \nstd         1.286798e+01     7.983330e+00       1.277497e+01   \nmin        -3.377681e+03    -3.458665e+03      -3.383297e+03   \n25%        -7.399208e+01     4.073491e+01      -7.399141e+01   \n50%        -7.398181e+01     4.075263e+01      -7.398016e+01   \n75%        -7.396713e+01     4.076710e+01      -7.396369e+01   \nmax         2.856442e+03     2.621628e+03       3.414307e+03   \n\n        dropoff_latitude  passenger_count  \ncount       1.999986e+06     1.999986e+06  \nunique               NaN              NaN  \ntop                  NaN              NaN  \nfreq                 NaN              NaN  \nmean        3.992808e+01     1.684125e+00  \nstd         1.032382e+01     1.314979e+00  \nmin        -3.461541e+03     0.000000e+00  \n25%         4.073400e+01     1.000000e+00  \n50%         4.075312e+01     1.000000e+00  \n75%         4.076809e+01     2.000000e+00  \nmax         3.345917e+03     2.080000e+02  ",
      "text/html": "<div>\n<style scoped>\n    .dataframe tbody tr th:only-of-type {\n        vertical-align: middle;\n    }\n\n    .dataframe tbody tr th {\n        vertical-align: top;\n    }\n\n    .dataframe thead th {\n        text-align: right;\n    }\n</style>\n<table border=\"1\" class=\"dataframe\">\n  <thead>\n    <tr style=\"text-align: right;\">\n      <th></th>\n      <th>key</th>\n      <th>fare_amount</th>\n      <th>pickup_datetime</th>\n      <th>pickup_longitude</th>\n      <th>pickup_latitude</th>\n      <th>dropoff_longitude</th>\n      <th>dropoff_latitude</th>\n      <th>passenger_count</th>\n    </tr>\n  </thead>\n  <tbody>\n    <tr>\n      <th>count</th>\n      <td>1999986</td>\n      <td>1.999986e+06</td>\n      <td>1999986</td>\n      <td>1.999986e+06</td>\n      <td>1.999986e+06</td>\n      <td>1.999986e+06</td>\n      <td>1.999986e+06</td>\n      <td>1.999986e+06</td>\n    </tr>\n    <tr>\n      <th>unique</th>\n      <td>1999986</td>\n      <td>NaN</td>\n      <td>1638254</td>\n      <td>NaN</td>\n      <td>NaN</td>\n      <td>NaN</td>\n      <td>NaN</td>\n      <td>NaN</td>\n    </tr>\n    <tr>\n      <th>top</th>\n      <td>2009-06-15 17:26:21.0000001</td>\n      <td>NaN</td>\n      <td>2012-08-24 20:39:00 UTC</td>\n      <td>NaN</td>\n      <td>NaN</td>\n      <td>NaN</td>\n      <td>NaN</td>\n      <td>NaN</td>\n    </tr>\n    <tr>\n      <th>freq</th>\n      <td>1</td>\n      <td>NaN</td>\n      <td>9</td>\n      <td>NaN</td>\n      <td>NaN</td>\n      <td>NaN</td>\n      <td>NaN</td>\n      <td>NaN</td>\n    </tr>\n    <tr>\n      <th>mean</th>\n      <td>NaN</td>\n      <td>1.134768e+01</td>\n      <td>NaN</td>\n      <td>-7.252324e+01</td>\n      <td>3.992965e+01</td>\n      <td>-7.252395e+01</td>\n      <td>3.992808e+01</td>\n      <td>1.684125e+00</td>\n    </tr>\n    <tr>\n      <th>std</th>\n      <td>NaN</td>\n      <td>9.852609e+00</td>\n      <td>NaN</td>\n      <td>1.286798e+01</td>\n      <td>7.983330e+00</td>\n      <td>1.277497e+01</td>\n      <td>1.032382e+01</td>\n      <td>1.314979e+00</td>\n    </tr>\n    <tr>\n      <th>min</th>\n      <td>NaN</td>\n      <td>-6.200000e+01</td>\n      <td>NaN</td>\n      <td>-3.377681e+03</td>\n      <td>-3.458665e+03</td>\n      <td>-3.383297e+03</td>\n      <td>-3.461541e+03</td>\n      <td>0.000000e+00</td>\n    </tr>\n    <tr>\n      <th>25%</th>\n      <td>NaN</td>\n      <td>6.000000e+00</td>\n      <td>NaN</td>\n      <td>-7.399208e+01</td>\n      <td>4.073491e+01</td>\n      <td>-7.399141e+01</td>\n      <td>4.073400e+01</td>\n      <td>1.000000e+00</td>\n    </tr>\n    <tr>\n      <th>50%</th>\n      <td>NaN</td>\n      <td>8.500000e+00</td>\n      <td>NaN</td>\n      <td>-7.398181e+01</td>\n      <td>4.075263e+01</td>\n      <td>-7.398016e+01</td>\n      <td>4.075312e+01</td>\n      <td>1.000000e+00</td>\n    </tr>\n    <tr>\n      <th>75%</th>\n      <td>NaN</td>\n      <td>1.250000e+01</td>\n      <td>NaN</td>\n      <td>-7.396713e+01</td>\n      <td>4.076710e+01</td>\n      <td>-7.396369e+01</td>\n      <td>4.076809e+01</td>\n      <td>2.000000e+00</td>\n    </tr>\n    <tr>\n      <th>max</th>\n      <td>NaN</td>\n      <td>1.273310e+03</td>\n      <td>NaN</td>\n      <td>2.856442e+03</td>\n      <td>2.621628e+03</td>\n      <td>3.414307e+03</td>\n      <td>3.345917e+03</td>\n      <td>2.080000e+02</td>\n    </tr>\n  </tbody>\n</table>\n</div>"
     },
     "execution_count": 7,
     "metadata": {},
     "output_type": "execute_result"
    }
   ],
   "source": [
    "df.describe(include='all')"
   ],
   "metadata": {
    "collapsed": false
   }
  },
  {
   "cell_type": "markdown",
   "source": [
    "## check if we have values = 0"
   ],
   "metadata": {
    "collapsed": false
   }
  },
  {
   "cell_type": "code",
   "execution_count": 8,
   "outputs": [
    {
     "data": {
      "text/plain": "                                   key  fare_amount          pickup_datetime  \\\n11        2012-12-24 11:24:00.00000098          5.5  2012-12-24 11:24:00 UTC   \n15       2013-11-23 12:57:00.000000190          5.0  2013-11-23 12:57:00 UTC   \n26       2011-02-07 20:01:00.000000114          6.5  2011-02-07 20:01:00 UTC   \n124       2013-01-17 17:22:00.00000043          8.0  2013-01-17 17:22:00 UTC   \n192       2010-09-05 17:08:00.00000092          3.7  2010-09-05 17:08:00 UTC   \n...                                ...          ...                      ...   \n1999748   2012-07-30 23:55:00.00000073          5.7  2012-07-30 23:55:00 UTC   \n1999852  2012-09-05 11:58:00.000000171          7.0  2012-09-05 11:58:00 UTC   \n1999868    2010-11-13 21:40:22.0000001         10.1  2010-11-13 21:40:22 UTC   \n1999923    2015-03-05 18:19:46.0000006          2.5  2015-03-05 18:19:46 UTC   \n1999986    2012-04-20 15:37:56.0000003          5.7  2012-04-20 15:37:56 UTC   \n\n         pickup_longitude  pickup_latitude  dropoff_longitude  \\\n11               0.000000         0.000000           0.000000   \n15               0.000000         0.000000           0.000000   \n26               0.000000         0.000000           0.000000   \n124              0.000000         0.000000           0.000000   \n192              0.000000         0.000000           0.000000   \n...                   ...              ...                ...   \n1999748          0.000000         0.000000           0.000000   \n1999852          0.000000         0.000000           0.000000   \n1999868          0.000000         0.000000           0.000000   \n1999923        -73.990112        40.746502           0.000000   \n1999986        -73.978148        40.741777         -73.988282   \n\n         dropoff_latitude  passenger_count  \n11               0.000000                3  \n15               0.000000                1  \n26               0.000000                1  \n124              0.000000                2  \n192              0.000000                5  \n...                   ...              ...  \n1999748          0.000000                5  \n1999852          0.000000                2  \n1999868          0.000000                3  \n1999923          0.000000                1  \n1999986         40.749933                0  \n\n[46439 rows x 8 columns]",
      "text/html": "<div>\n<style scoped>\n    .dataframe tbody tr th:only-of-type {\n        vertical-align: middle;\n    }\n\n    .dataframe tbody tr th {\n        vertical-align: top;\n    }\n\n    .dataframe thead th {\n        text-align: right;\n    }\n</style>\n<table border=\"1\" class=\"dataframe\">\n  <thead>\n    <tr style=\"text-align: right;\">\n      <th></th>\n      <th>key</th>\n      <th>fare_amount</th>\n      <th>pickup_datetime</th>\n      <th>pickup_longitude</th>\n      <th>pickup_latitude</th>\n      <th>dropoff_longitude</th>\n      <th>dropoff_latitude</th>\n      <th>passenger_count</th>\n    </tr>\n  </thead>\n  <tbody>\n    <tr>\n      <th>11</th>\n      <td>2012-12-24 11:24:00.00000098</td>\n      <td>5.5</td>\n      <td>2012-12-24 11:24:00 UTC</td>\n      <td>0.000000</td>\n      <td>0.000000</td>\n      <td>0.000000</td>\n      <td>0.000000</td>\n      <td>3</td>\n    </tr>\n    <tr>\n      <th>15</th>\n      <td>2013-11-23 12:57:00.000000190</td>\n      <td>5.0</td>\n      <td>2013-11-23 12:57:00 UTC</td>\n      <td>0.000000</td>\n      <td>0.000000</td>\n      <td>0.000000</td>\n      <td>0.000000</td>\n      <td>1</td>\n    </tr>\n    <tr>\n      <th>26</th>\n      <td>2011-02-07 20:01:00.000000114</td>\n      <td>6.5</td>\n      <td>2011-02-07 20:01:00 UTC</td>\n      <td>0.000000</td>\n      <td>0.000000</td>\n      <td>0.000000</td>\n      <td>0.000000</td>\n      <td>1</td>\n    </tr>\n    <tr>\n      <th>124</th>\n      <td>2013-01-17 17:22:00.00000043</td>\n      <td>8.0</td>\n      <td>2013-01-17 17:22:00 UTC</td>\n      <td>0.000000</td>\n      <td>0.000000</td>\n      <td>0.000000</td>\n      <td>0.000000</td>\n      <td>2</td>\n    </tr>\n    <tr>\n      <th>192</th>\n      <td>2010-09-05 17:08:00.00000092</td>\n      <td>3.7</td>\n      <td>2010-09-05 17:08:00 UTC</td>\n      <td>0.000000</td>\n      <td>0.000000</td>\n      <td>0.000000</td>\n      <td>0.000000</td>\n      <td>5</td>\n    </tr>\n    <tr>\n      <th>...</th>\n      <td>...</td>\n      <td>...</td>\n      <td>...</td>\n      <td>...</td>\n      <td>...</td>\n      <td>...</td>\n      <td>...</td>\n      <td>...</td>\n    </tr>\n    <tr>\n      <th>1999748</th>\n      <td>2012-07-30 23:55:00.00000073</td>\n      <td>5.7</td>\n      <td>2012-07-30 23:55:00 UTC</td>\n      <td>0.000000</td>\n      <td>0.000000</td>\n      <td>0.000000</td>\n      <td>0.000000</td>\n      <td>5</td>\n    </tr>\n    <tr>\n      <th>1999852</th>\n      <td>2012-09-05 11:58:00.000000171</td>\n      <td>7.0</td>\n      <td>2012-09-05 11:58:00 UTC</td>\n      <td>0.000000</td>\n      <td>0.000000</td>\n      <td>0.000000</td>\n      <td>0.000000</td>\n      <td>2</td>\n    </tr>\n    <tr>\n      <th>1999868</th>\n      <td>2010-11-13 21:40:22.0000001</td>\n      <td>10.1</td>\n      <td>2010-11-13 21:40:22 UTC</td>\n      <td>0.000000</td>\n      <td>0.000000</td>\n      <td>0.000000</td>\n      <td>0.000000</td>\n      <td>3</td>\n    </tr>\n    <tr>\n      <th>1999923</th>\n      <td>2015-03-05 18:19:46.0000006</td>\n      <td>2.5</td>\n      <td>2015-03-05 18:19:46 UTC</td>\n      <td>-73.990112</td>\n      <td>40.746502</td>\n      <td>0.000000</td>\n      <td>0.000000</td>\n      <td>1</td>\n    </tr>\n    <tr>\n      <th>1999986</th>\n      <td>2012-04-20 15:37:56.0000003</td>\n      <td>5.7</td>\n      <td>2012-04-20 15:37:56 UTC</td>\n      <td>-73.978148</td>\n      <td>40.741777</td>\n      <td>-73.988282</td>\n      <td>40.749933</td>\n      <td>0</td>\n    </tr>\n  </tbody>\n</table>\n<p>46439 rows × 8 columns</p>\n</div>"
     },
     "execution_count": 8,
     "metadata": {},
     "output_type": "execute_result"
    }
   ],
   "source": [
    "df.loc[(df['pickup_longitude'] == 0.0) | (df['pickup_latitude'] == 0.0) | (df['dropoff_longitude'] == 0.000000)  | (df['dropoff_latitude'] == 0.000000) | (df['fare_amount'] == 0.0) | (df['passenger_count'] == 0)]"
   ],
   "metadata": {
    "collapsed": false
   }
  },
  {
   "cell_type": "markdown",
   "source": [
    "# DELETE ALL ROWS WITH 0 VALUES + DELETE ALL ROWS WITH FARE AMOUNT UNDER 0$\n"
   ],
   "metadata": {
    "collapsed": false
   }
  },
  {
   "cell_type": "code",
   "execution_count": 9,
   "outputs": [
    {
     "data": {
      "text/plain": "                                   key  fare_amount          pickup_datetime  \\\n0          2009-06-15 17:26:21.0000001          4.5  2009-06-15 17:26:21 UTC   \n1          2010-01-05 16:52:16.0000002         16.9  2010-01-05 16:52:16 UTC   \n2         2011-08-18 00:35:00.00000049          5.7  2011-08-18 00:35:00 UTC   \n3          2012-04-21 04:30:42.0000001          7.7  2012-04-21 04:30:42 UTC   \n4        2010-03-09 07:51:00.000000135          5.3  2010-03-09 07:51:00 UTC   \n...                                ...          ...                      ...   \n1999995    2014-11-17 13:51:02.0000002          4.0  2014-11-17 13:51:02 UTC   \n1999996    2013-02-25 17:51:28.0000004          7.0  2013-02-25 17:51:28 UTC   \n1999997    2013-07-12 22:03:41.0000006         10.5  2013-07-12 22:03:41 UTC   \n1999998    2009-01-17 09:35:37.0000002         10.9  2009-01-17 09:35:37 UTC   \n1999999  2010-01-16 15:46:00.000000153         12.9  2010-01-16 15:46:00 UTC   \n\n         pickup_longitude  pickup_latitude  dropoff_longitude  \\\n0              -73.844311        40.721319         -73.841610   \n1              -74.016048        40.711303         -73.979268   \n2              -73.982738        40.761270         -73.991242   \n3              -73.987130        40.733143         -73.991567   \n4              -73.968095        40.768008         -73.956655   \n...                   ...              ...                ...   \n1999995        -73.950787        40.770836         -73.951043   \n1999996        -73.983035        40.748276         -73.974725   \n1999997        -74.003482        40.743577         -73.976758   \n1999998        -73.971819        40.797243         -73.985921   \n1999999        -73.955140        40.779382         -73.914775   \n\n         dropoff_latitude  passenger_count  \n0               40.712278                1  \n1               40.782004                1  \n2               40.750562                2  \n3               40.758092                1  \n4               40.783762                1  \n...                   ...              ...  \n1999995         40.774543                1  \n1999996         40.741978                1  \n1999997         40.765265                1  \n1999998         40.752459                3  \n1999999         40.820602                2  \n\n[1953462 rows x 8 columns]",
      "text/html": "<div>\n<style scoped>\n    .dataframe tbody tr th:only-of-type {\n        vertical-align: middle;\n    }\n\n    .dataframe tbody tr th {\n        vertical-align: top;\n    }\n\n    .dataframe thead th {\n        text-align: right;\n    }\n</style>\n<table border=\"1\" class=\"dataframe\">\n  <thead>\n    <tr style=\"text-align: right;\">\n      <th></th>\n      <th>key</th>\n      <th>fare_amount</th>\n      <th>pickup_datetime</th>\n      <th>pickup_longitude</th>\n      <th>pickup_latitude</th>\n      <th>dropoff_longitude</th>\n      <th>dropoff_latitude</th>\n      <th>passenger_count</th>\n    </tr>\n  </thead>\n  <tbody>\n    <tr>\n      <th>0</th>\n      <td>2009-06-15 17:26:21.0000001</td>\n      <td>4.5</td>\n      <td>2009-06-15 17:26:21 UTC</td>\n      <td>-73.844311</td>\n      <td>40.721319</td>\n      <td>-73.841610</td>\n      <td>40.712278</td>\n      <td>1</td>\n    </tr>\n    <tr>\n      <th>1</th>\n      <td>2010-01-05 16:52:16.0000002</td>\n      <td>16.9</td>\n      <td>2010-01-05 16:52:16 UTC</td>\n      <td>-74.016048</td>\n      <td>40.711303</td>\n      <td>-73.979268</td>\n      <td>40.782004</td>\n      <td>1</td>\n    </tr>\n    <tr>\n      <th>2</th>\n      <td>2011-08-18 00:35:00.00000049</td>\n      <td>5.7</td>\n      <td>2011-08-18 00:35:00 UTC</td>\n      <td>-73.982738</td>\n      <td>40.761270</td>\n      <td>-73.991242</td>\n      <td>40.750562</td>\n      <td>2</td>\n    </tr>\n    <tr>\n      <th>3</th>\n      <td>2012-04-21 04:30:42.0000001</td>\n      <td>7.7</td>\n      <td>2012-04-21 04:30:42 UTC</td>\n      <td>-73.987130</td>\n      <td>40.733143</td>\n      <td>-73.991567</td>\n      <td>40.758092</td>\n      <td>1</td>\n    </tr>\n    <tr>\n      <th>4</th>\n      <td>2010-03-09 07:51:00.000000135</td>\n      <td>5.3</td>\n      <td>2010-03-09 07:51:00 UTC</td>\n      <td>-73.968095</td>\n      <td>40.768008</td>\n      <td>-73.956655</td>\n      <td>40.783762</td>\n      <td>1</td>\n    </tr>\n    <tr>\n      <th>...</th>\n      <td>...</td>\n      <td>...</td>\n      <td>...</td>\n      <td>...</td>\n      <td>...</td>\n      <td>...</td>\n      <td>...</td>\n      <td>...</td>\n    </tr>\n    <tr>\n      <th>1999995</th>\n      <td>2014-11-17 13:51:02.0000002</td>\n      <td>4.0</td>\n      <td>2014-11-17 13:51:02 UTC</td>\n      <td>-73.950787</td>\n      <td>40.770836</td>\n      <td>-73.951043</td>\n      <td>40.774543</td>\n      <td>1</td>\n    </tr>\n    <tr>\n      <th>1999996</th>\n      <td>2013-02-25 17:51:28.0000004</td>\n      <td>7.0</td>\n      <td>2013-02-25 17:51:28 UTC</td>\n      <td>-73.983035</td>\n      <td>40.748276</td>\n      <td>-73.974725</td>\n      <td>40.741978</td>\n      <td>1</td>\n    </tr>\n    <tr>\n      <th>1999997</th>\n      <td>2013-07-12 22:03:41.0000006</td>\n      <td>10.5</td>\n      <td>2013-07-12 22:03:41 UTC</td>\n      <td>-74.003482</td>\n      <td>40.743577</td>\n      <td>-73.976758</td>\n      <td>40.765265</td>\n      <td>1</td>\n    </tr>\n    <tr>\n      <th>1999998</th>\n      <td>2009-01-17 09:35:37.0000002</td>\n      <td>10.9</td>\n      <td>2009-01-17 09:35:37 UTC</td>\n      <td>-73.971819</td>\n      <td>40.797243</td>\n      <td>-73.985921</td>\n      <td>40.752459</td>\n      <td>3</td>\n    </tr>\n    <tr>\n      <th>1999999</th>\n      <td>2010-01-16 15:46:00.000000153</td>\n      <td>12.9</td>\n      <td>2010-01-16 15:46:00 UTC</td>\n      <td>-73.955140</td>\n      <td>40.779382</td>\n      <td>-73.914775</td>\n      <td>40.820602</td>\n      <td>2</td>\n    </tr>\n  </tbody>\n</table>\n<p>1953462 rows × 8 columns</p>\n</div>"
     },
     "execution_count": 9,
     "metadata": {},
     "output_type": "execute_result"
    }
   ],
   "source": [
    "df.drop(df.loc[(df['pickup_longitude'] == 0.0) | (df['pickup_latitude'] == 0.0) | (df['dropoff_longitude'] == 0.000000)  | (df['dropoff_latitude'] == 0.000000) | (df['fare_amount'] <= 1) | (df['passenger_count'] == 0)].index, inplace=True)\n",
    "df.head()"
   ],
   "metadata": {
    "collapsed": false
   }
  },
  {
   "cell_type": "markdown",
   "source": [
    "# EXPORT DATAFRAME TO CSV FOR DATA VIZUALISATION"
   ],
   "metadata": {
    "collapsed": false
   }
  },
  {
   "cell_type": "code",
   "execution_count": 10,
   "outputs": [],
   "source": [
    "df.to_csv('../../DATA/PREPROCESSING/prepro_00_dropna.csv', index=False)"
   ],
   "metadata": {
    "collapsed": false
   }
  }
 ],
 "metadata": {
  "kernelspec": {
   "display_name": "Python 3",
   "language": "python",
   "name": "python3"
  },
  "language_info": {
   "codemirror_mode": {
    "name": "ipython",
    "version": 2
   },
   "file_extension": ".py",
   "mimetype": "text/x-python",
   "name": "python",
   "nbconvert_exporter": "python",
   "pygments_lexer": "ipython2",
   "version": "2.7.6"
  }
 },
 "nbformat": 4,
 "nbformat_minor": 0
}
