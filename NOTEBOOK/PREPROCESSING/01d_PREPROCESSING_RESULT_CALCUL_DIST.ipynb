{
 "cells": [
  {
   "cell_type": "markdown",
   "source": [
    "# PREPROCESSING OF RESULTS DRIVING DISTANCE AND DURATION FROM CALCUL\n",
    "\n",
    "# IMPORT LIBS"
   ],
   "metadata": {
    "collapsed": false
   }
  },
  {
   "cell_type": "code",
   "execution_count": 7,
   "metadata": {
    "collapsed": true
   },
   "outputs": [],
   "source": [
    "import pandas as pd\n",
    "import plotly.express as px"
   ]
  },
  {
   "cell_type": "markdown",
   "source": [
    "# OPEN DATASET"
   ],
   "metadata": {
    "collapsed": false
   }
  },
  {
   "cell_type": "code",
   "execution_count": 8,
   "outputs": [
    {
     "data": {
      "text/plain": "                             key  fare_amount          pickup_datetime  \\\n0    2009-06-15 17:26:21.0000001          4.5  2009-06-15 17:26:21 UTC   \n1   2011-08-18 00:35:00.00000049          5.7  2011-08-18 00:35:00 UTC   \n2    2012-04-21 04:30:42.0000001          7.7  2012-04-21 04:30:42 UTC   \n3  2010-03-09 07:51:00.000000135          5.3  2010-03-09 07:51:00 UTC   \n4    2011-01-06 09:50:45.0000002         12.1  2011-01-06 09:50:45 UTC   \n\n   pickup_longitude  pickup_latitude  dropoff_longitude  dropoff_latitude  \\\n0        -73.844311        40.721319         -73.841610         40.712278   \n1        -73.982738        40.761270         -73.991242         40.750562   \n2        -73.987130        40.733143         -73.991567         40.758092   \n3        -73.968095        40.768008         -73.956655         40.783762   \n4        -74.000964        40.731630         -73.972892         40.758233   \n\n   passenger_count  Distance (miles)  Driving distance (miles)  \\\n0                1          0.639764                  0.703741   \n1                2          0.863167                  0.949483   \n2                1          1.737223                  1.910945   \n3                1          1.241710                  1.365881   \n4                1          2.353742                  2.589116   \n\n   Driving duration (min)  \n0                2.111222  \n1                2.848450  \n2                5.732836  \n3                4.097642  \n4                7.767348  ",
      "text/html": "<div>\n<style scoped>\n    .dataframe tbody tr th:only-of-type {\n        vertical-align: middle;\n    }\n\n    .dataframe tbody tr th {\n        vertical-align: top;\n    }\n\n    .dataframe thead th {\n        text-align: right;\n    }\n</style>\n<table border=\"1\" class=\"dataframe\">\n  <thead>\n    <tr style=\"text-align: right;\">\n      <th></th>\n      <th>key</th>\n      <th>fare_amount</th>\n      <th>pickup_datetime</th>\n      <th>pickup_longitude</th>\n      <th>pickup_latitude</th>\n      <th>dropoff_longitude</th>\n      <th>dropoff_latitude</th>\n      <th>passenger_count</th>\n      <th>Distance (miles)</th>\n      <th>Driving distance (miles)</th>\n      <th>Driving duration (min)</th>\n    </tr>\n  </thead>\n  <tbody>\n    <tr>\n      <th>0</th>\n      <td>2009-06-15 17:26:21.0000001</td>\n      <td>4.5</td>\n      <td>2009-06-15 17:26:21 UTC</td>\n      <td>-73.844311</td>\n      <td>40.721319</td>\n      <td>-73.841610</td>\n      <td>40.712278</td>\n      <td>1</td>\n      <td>0.639764</td>\n      <td>0.703741</td>\n      <td>2.111222</td>\n    </tr>\n    <tr>\n      <th>1</th>\n      <td>2011-08-18 00:35:00.00000049</td>\n      <td>5.7</td>\n      <td>2011-08-18 00:35:00 UTC</td>\n      <td>-73.982738</td>\n      <td>40.761270</td>\n      <td>-73.991242</td>\n      <td>40.750562</td>\n      <td>2</td>\n      <td>0.863167</td>\n      <td>0.949483</td>\n      <td>2.848450</td>\n    </tr>\n    <tr>\n      <th>2</th>\n      <td>2012-04-21 04:30:42.0000001</td>\n      <td>7.7</td>\n      <td>2012-04-21 04:30:42 UTC</td>\n      <td>-73.987130</td>\n      <td>40.733143</td>\n      <td>-73.991567</td>\n      <td>40.758092</td>\n      <td>1</td>\n      <td>1.737223</td>\n      <td>1.910945</td>\n      <td>5.732836</td>\n    </tr>\n    <tr>\n      <th>3</th>\n      <td>2010-03-09 07:51:00.000000135</td>\n      <td>5.3</td>\n      <td>2010-03-09 07:51:00 UTC</td>\n      <td>-73.968095</td>\n      <td>40.768008</td>\n      <td>-73.956655</td>\n      <td>40.783762</td>\n      <td>1</td>\n      <td>1.241710</td>\n      <td>1.365881</td>\n      <td>4.097642</td>\n    </tr>\n    <tr>\n      <th>4</th>\n      <td>2011-01-06 09:50:45.0000002</td>\n      <td>12.1</td>\n      <td>2011-01-06 09:50:45 UTC</td>\n      <td>-74.000964</td>\n      <td>40.731630</td>\n      <td>-73.972892</td>\n      <td>40.758233</td>\n      <td>1</td>\n      <td>2.353742</td>\n      <td>2.589116</td>\n      <td>7.767348</td>\n    </tr>\n  </tbody>\n</table>\n</div>"
     },
     "execution_count": 8,
     "metadata": {},
     "output_type": "execute_result"
    }
   ],
   "source": [
    "df = pd.read_csv('../../DATA/PREPROCESSING/prepro_01c_geo_calcul.csv')\n",
    "df.head()"
   ],
   "metadata": {
    "collapsed": false
   }
  },
  {
   "cell_type": "markdown",
   "source": [
    "# SCATTER PLOT OF DISTANCE AND DRIVING DISTANCE"
   ],
   "metadata": {
    "collapsed": false
   }
  },
  {
   "cell_type": "code",
   "execution_count": 9,
   "outputs": [],
   "source": [
    "# fig = px.scatter(df, x='Distance (miles)', y='fare_amount')\n",
    "# fig.show()"
   ],
   "metadata": {
    "collapsed": false
   }
  },
  {
   "cell_type": "code",
   "execution_count": 10,
   "outputs": [],
   "source": [
    "# fig = px.scatter(df, x='Driving distance (miles)', y='fare_amount')\n",
    "# fig.show()"
   ],
   "metadata": {
    "collapsed": false
   }
  },
  {
   "cell_type": "code",
   "execution_count": 10,
   "outputs": [],
   "source": [],
   "metadata": {
    "collapsed": false
   }
  }
 ],
 "metadata": {
  "kernelspec": {
   "display_name": "Python 3",
   "language": "python",
   "name": "python3"
  },
  "language_info": {
   "codemirror_mode": {
    "name": "ipython",
    "version": 2
   },
   "file_extension": ".py",
   "mimetype": "text/x-python",
   "name": "python",
   "nbconvert_exporter": "python",
   "pygments_lexer": "ipython2",
   "version": "2.7.6"
  }
 },
 "nbformat": 4,
 "nbformat_minor": 0
}
