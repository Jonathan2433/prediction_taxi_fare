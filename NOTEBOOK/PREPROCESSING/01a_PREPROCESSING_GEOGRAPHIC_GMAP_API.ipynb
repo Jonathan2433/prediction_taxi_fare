{
 "cells": [
  {
   "cell_type": "markdown",
   "source": [
    "# GOOGLE MAP API\n",
    "\n",
    "# IMPORT LIBS"
   ],
   "metadata": {
    "collapsed": false
   }
  },
  {
   "cell_type": "code",
   "execution_count": 9,
   "metadata": {
    "collapsed": true
   },
   "outputs": [],
   "source": [
    "import pandas as pd\n",
    "import json\n",
    "import requests"
   ]
  },
  {
   "cell_type": "markdown",
   "source": [
    "# OPEN DATASET"
   ],
   "metadata": {
    "collapsed": false
   }
  },
  {
   "cell_type": "code",
   "execution_count": 10,
   "outputs": [
    {
     "data": {
      "text/plain": "                                key  fare_amount          pickup_datetime  \\\n0       2009-06-15 17:26:21.0000001          4.5  2009-06-15 17:26:21 UTC   \n1      2011-08-18 00:35:00.00000049          5.7  2011-08-18 00:35:00 UTC   \n2       2012-04-21 04:30:42.0000001          7.7  2012-04-21 04:30:42 UTC   \n3     2010-03-09 07:51:00.000000135          5.3  2010-03-09 07:51:00 UTC   \n4       2011-01-06 09:50:45.0000002         12.1  2011-01-06 09:50:45 UTC   \n...                             ...          ...                      ...   \n9995   2009-11-17 09:01:00.00000093          6.1  2009-11-17 09:01:00 UTC   \n9996   2010-07-09 22:55:00.00000045         20.5  2010-07-09 22:55:00 UTC   \n9997  2014-12-22 17:46:00.000000151         12.0  2014-12-22 17:46:00 UTC   \n9998   2010-05-20 22:41:00.00000028          6.1  2010-05-20 22:41:00 UTC   \n9999    2012-12-07 20:22:18.0000007          8.0  2012-12-07 20:22:18 UTC   \n\n      pickup_longitude  pickup_latitude  dropoff_longitude  dropoff_latitude  \\\n0           -73.844311        40.721319         -73.841610         40.712278   \n1           -73.982738        40.761270         -73.991242         40.750562   \n2           -73.987130        40.733143         -73.991567         40.758092   \n3           -73.968095        40.768008         -73.956655         40.783762   \n4           -74.000964        40.731630         -73.972892         40.758233   \n...                ...              ...                ...               ...   \n9995        -73.963182        40.763158         -73.977597         40.753898   \n9996        -74.000030        40.730858         -73.989062         40.662120   \n9997        -73.998345        40.745617         -73.981033         40.767580   \n9998        -73.981652        40.756235         -73.967163         40.757127   \n9999        -74.003834        40.748264         -73.999191         40.734005   \n\n      passenger_count  Distance (miles)  \n0                   1          0.639764  \n1                   2          0.863167  \n2                   1          1.737223  \n3                   1          1.241710  \n4                   1          2.353742  \n...               ...               ...  \n9995                1          0.990121  \n9996                2          4.777913  \n9997                1          1.766894  \n9998                2          0.762739  \n9999                2          1.013634  \n\n[10000 rows x 9 columns]",
      "text/html": "<div>\n<style scoped>\n    .dataframe tbody tr th:only-of-type {\n        vertical-align: middle;\n    }\n\n    .dataframe tbody tr th {\n        vertical-align: top;\n    }\n\n    .dataframe thead th {\n        text-align: right;\n    }\n</style>\n<table border=\"1\" class=\"dataframe\">\n  <thead>\n    <tr style=\"text-align: right;\">\n      <th></th>\n      <th>key</th>\n      <th>fare_amount</th>\n      <th>pickup_datetime</th>\n      <th>pickup_longitude</th>\n      <th>pickup_latitude</th>\n      <th>dropoff_longitude</th>\n      <th>dropoff_latitude</th>\n      <th>passenger_count</th>\n      <th>Distance (miles)</th>\n    </tr>\n  </thead>\n  <tbody>\n    <tr>\n      <th>0</th>\n      <td>2009-06-15 17:26:21.0000001</td>\n      <td>4.5</td>\n      <td>2009-06-15 17:26:21 UTC</td>\n      <td>-73.844311</td>\n      <td>40.721319</td>\n      <td>-73.841610</td>\n      <td>40.712278</td>\n      <td>1</td>\n      <td>0.639764</td>\n    </tr>\n    <tr>\n      <th>1</th>\n      <td>2011-08-18 00:35:00.00000049</td>\n      <td>5.7</td>\n      <td>2011-08-18 00:35:00 UTC</td>\n      <td>-73.982738</td>\n      <td>40.761270</td>\n      <td>-73.991242</td>\n      <td>40.750562</td>\n      <td>2</td>\n      <td>0.863167</td>\n    </tr>\n    <tr>\n      <th>2</th>\n      <td>2012-04-21 04:30:42.0000001</td>\n      <td>7.7</td>\n      <td>2012-04-21 04:30:42 UTC</td>\n      <td>-73.987130</td>\n      <td>40.733143</td>\n      <td>-73.991567</td>\n      <td>40.758092</td>\n      <td>1</td>\n      <td>1.737223</td>\n    </tr>\n    <tr>\n      <th>3</th>\n      <td>2010-03-09 07:51:00.000000135</td>\n      <td>5.3</td>\n      <td>2010-03-09 07:51:00 UTC</td>\n      <td>-73.968095</td>\n      <td>40.768008</td>\n      <td>-73.956655</td>\n      <td>40.783762</td>\n      <td>1</td>\n      <td>1.241710</td>\n    </tr>\n    <tr>\n      <th>4</th>\n      <td>2011-01-06 09:50:45.0000002</td>\n      <td>12.1</td>\n      <td>2011-01-06 09:50:45 UTC</td>\n      <td>-74.000964</td>\n      <td>40.731630</td>\n      <td>-73.972892</td>\n      <td>40.758233</td>\n      <td>1</td>\n      <td>2.353742</td>\n    </tr>\n    <tr>\n      <th>...</th>\n      <td>...</td>\n      <td>...</td>\n      <td>...</td>\n      <td>...</td>\n      <td>...</td>\n      <td>...</td>\n      <td>...</td>\n      <td>...</td>\n      <td>...</td>\n    </tr>\n    <tr>\n      <th>9995</th>\n      <td>2009-11-17 09:01:00.00000093</td>\n      <td>6.1</td>\n      <td>2009-11-17 09:01:00 UTC</td>\n      <td>-73.963182</td>\n      <td>40.763158</td>\n      <td>-73.977597</td>\n      <td>40.753898</td>\n      <td>1</td>\n      <td>0.990121</td>\n    </tr>\n    <tr>\n      <th>9996</th>\n      <td>2010-07-09 22:55:00.00000045</td>\n      <td>20.5</td>\n      <td>2010-07-09 22:55:00 UTC</td>\n      <td>-74.000030</td>\n      <td>40.730858</td>\n      <td>-73.989062</td>\n      <td>40.662120</td>\n      <td>2</td>\n      <td>4.777913</td>\n    </tr>\n    <tr>\n      <th>9997</th>\n      <td>2014-12-22 17:46:00.000000151</td>\n      <td>12.0</td>\n      <td>2014-12-22 17:46:00 UTC</td>\n      <td>-73.998345</td>\n      <td>40.745617</td>\n      <td>-73.981033</td>\n      <td>40.767580</td>\n      <td>1</td>\n      <td>1.766894</td>\n    </tr>\n    <tr>\n      <th>9998</th>\n      <td>2010-05-20 22:41:00.00000028</td>\n      <td>6.1</td>\n      <td>2010-05-20 22:41:00 UTC</td>\n      <td>-73.981652</td>\n      <td>40.756235</td>\n      <td>-73.967163</td>\n      <td>40.757127</td>\n      <td>2</td>\n      <td>0.762739</td>\n    </tr>\n    <tr>\n      <th>9999</th>\n      <td>2012-12-07 20:22:18.0000007</td>\n      <td>8.0</td>\n      <td>2012-12-07 20:22:18 UTC</td>\n      <td>-74.003834</td>\n      <td>40.748264</td>\n      <td>-73.999191</td>\n      <td>40.734005</td>\n      <td>2</td>\n      <td>1.013634</td>\n    </tr>\n  </tbody>\n</table>\n<p>10000 rows × 9 columns</p>\n</div>"
     },
     "execution_count": 10,
     "metadata": {},
     "output_type": "execute_result"
    }
   ],
   "source": [
    "df = pd.read_csv('../../DATA/PREPROCESSING/prepro_01_geo.csv', nrows=10000)\n",
    "df"
   ],
   "metadata": {
    "collapsed": false
   }
  },
  {
   "cell_type": "code",
   "execution_count": 11,
   "outputs": [],
   "source": [
    "def get_keys(path):\n",
    "    with open(path) as f:\n",
    "        return json.load(f)\n",
    "API_key = get_keys(\"../../ASSETS/GMAP/api_key.json\")\n",
    "google_key = list(API_key.values())[0]"
   ],
   "metadata": {
    "collapsed": false
   }
  },
  {
   "cell_type": "code",
   "execution_count": 12,
   "outputs": [],
   "source": [
    "lat_origin = df['pickup_latitude'].tolist()\n",
    "long_origin = df['pickup_longitude'].tolist()\n",
    "lat_destination = df['dropoff_latitude'].tolist()\n",
    "long_destination = df['dropoff_longitude'].tolist()\n",
    "\n",
    "distance = []\n",
    "duration = []\n",
    "for i in range(len(long_destination)):\n",
    "    url = f\"https://maps.googleapis.com/maps/api/distancematrix/json?units=imperial&origins={lat_origin[i]},{long_origin[i]}&destinations={lat_destination[i]}%2C{long_destination[i]}&key={google_key}\"\n",
    "    r=requests.get(url)\n",
    "    data = r.json()\n",
    "    try:\n",
    "        distance.append(data['rows'][0]['elements'][0]['distance']['text'])\n",
    "        duration.append(data['rows'][0]['elements'][0]['duration']['text'])\n",
    "    except:\n",
    "        pass"
   ],
   "metadata": {
    "collapsed": false
   }
  },
  {
   "cell_type": "code",
   "execution_count": 15,
   "outputs": [
    {
     "name": "stdout",
     "output_type": "stream",
     "text": [
      "9999\n"
     ]
    }
   ],
   "source": [
    "print(len(distance))"
   ],
   "metadata": {
    "collapsed": false
   }
  },
  {
   "cell_type": "code",
   "execution_count": 16,
   "outputs": [
    {
     "data": {
      "text/plain": "['0.9 mi',\n '0.9 mi',\n '2.4 mi',\n '1.2 mi',\n '2.8 mi',\n '1.2 mi',\n '3.8 mi',\n '1.5 mi',\n '2.5 mi',\n '1.5 mi',\n '0.6 mi',\n '1.7 mi',\n '1.4 mi',\n '2.2 mi',\n '1.2 mi',\n '1.0 mi',\n '0.5 mi',\n '1.7 mi',\n '1.9 mi',\n '0.8 mi',\n '0.9 mi',\n '1.0 mi',\n '1.6 mi',\n '0.7 mi',\n '3.1 mi',\n '0.7 mi',\n '0.7 mi',\n '5.8 mi',\n '1.2 mi',\n '6.1 mi',\n '0.5 mi',\n '0.8 mi',\n '1.9 mi',\n '2.9 mi',\n '1.4 mi',\n '3.2 mi',\n '3.8 mi',\n '3.5 mi',\n '0.9 mi',\n '2.0 mi',\n '0.6 mi',\n '0.4 mi',\n '0.6 mi',\n '1.6 mi',\n '2.0 mi',\n '0.8 mi',\n '1.6 mi',\n '0.3 mi',\n '4.3 mi',\n '1.4 mi',\n '5.2 mi',\n '1.1 mi',\n '0.4 mi',\n '0.8 mi',\n '0.9 mi',\n '1.0 mi',\n '1.9 mi',\n '1.1 mi',\n '1.0 mi',\n '2.9 mi',\n '3.2 mi',\n '0.7 mi',\n '0.7 mi',\n '0.5 mi',\n '0.9 mi',\n '1.3 mi',\n '4.9 mi',\n '2.9 mi',\n '1.3 mi',\n '1.5 mi',\n '1.6 mi',\n '1.2 mi',\n '1.0 mi',\n '1.2 mi',\n '4.8 mi',\n '1.7 mi',\n '1.4 mi',\n '3.5 mi',\n '1.6 mi',\n '1.5 mi',\n '0.7 mi',\n '2.8 mi',\n '1.7 mi',\n '2.0 mi',\n '1.1 mi',\n '1.7 mi',\n '2.8 mi',\n '1.2 mi',\n '1.3 mi',\n '4.0 mi',\n '1.1 mi',\n '1.8 mi',\n '1.0 mi',\n '2.8 mi',\n '5.3 mi',\n '0.6 mi',\n '1 ft',\n '3.1 mi',\n '2.5 mi',\n '2.2 mi',\n '0.4 mi',\n '1.5 mi',\n '1.7 mi',\n '9.5 mi',\n '1.6 mi',\n '2.4 mi',\n '1.1 mi',\n '3.5 mi',\n '0.7 mi',\n '1.4 mi',\n '2.7 mi',\n '1.2 mi',\n '2.3 mi',\n '1.0 mi',\n '4.4 mi',\n '1.6 mi',\n '1.6 mi',\n '1.1 mi',\n '1.1 mi',\n '3.9 mi',\n '2.4 mi',\n '3.0 mi',\n '1.1 mi',\n '0.6 mi',\n '1.4 mi',\n '5.3 mi',\n '2.3 mi',\n '1.8 mi',\n '2.8 mi',\n '2.4 mi',\n '1.4 mi',\n '2.1 mi',\n '4.4 mi',\n '4.9 mi',\n '2.0 mi',\n '1.8 mi',\n '0.8 mi',\n '5.5 mi',\n '4.0 mi',\n '2.7 mi',\n '1.6 mi',\n '0.8 mi',\n '0.9 mi',\n '1.0 mi',\n '0.9 mi',\n '0.9 mi',\n '7.1 mi',\n '3.1 mi',\n '1.3 mi',\n '1.6 mi',\n '0.7 mi',\n '0.6 mi',\n '3.4 mi',\n '0.9 mi',\n '1.2 mi',\n '1.2 mi',\n '1.0 mi',\n '1.2 mi',\n '2.4 mi',\n '3.1 mi',\n '0.9 mi',\n '1.1 mi',\n '2.7 mi',\n '1.7 mi',\n '2.7 mi',\n '10 ft',\n '1.3 mi',\n '9.3 mi',\n '4.0 mi',\n '4.2 mi',\n '1.4 mi',\n '1.4 mi',\n '1 ft',\n '0.8 mi',\n '5.8 mi',\n '1.0 mi',\n '7.5 mi',\n '3.3 mi',\n '0.6 mi',\n '1.1 mi',\n '1.5 mi',\n '2.8 mi',\n '3.0 mi',\n '0.7 mi',\n '0.8 mi',\n '3.5 mi',\n '2.5 mi',\n '0.5 mi',\n '2.3 mi',\n '5.9 mi',\n '0.9 mi',\n '1.0 mi',\n '3.2 mi',\n '2.6 mi',\n '0.9 mi',\n '5.4 mi',\n '2.4 mi',\n '2.0 mi',\n '1.6 mi',\n '0.1 mi',\n '0.5 mi',\n '1.9 mi',\n '1.4 mi',\n '226 ft',\n '2.3 mi',\n '2.8 mi',\n '1.0 mi',\n '1.2 mi',\n '3.8 mi',\n '0.9 mi',\n '1.3 mi',\n '2.0 mi',\n '2.0 mi',\n '2.2 mi',\n '1.1 mi',\n '2.0 mi',\n '2.2 mi',\n '3.1 mi',\n '0.8 mi',\n '2.9 mi',\n '2.6 mi',\n '3.8 mi',\n '1.8 mi',\n '2.0 mi',\n '0.8 mi',\n '4.4 mi',\n '4.4 mi',\n '0.5 mi',\n '4.5 mi',\n '3.6 mi',\n '2.9 mi',\n '0.9 mi',\n '1.1 mi',\n '1.3 mi',\n '1.4 mi',\n '1.7 mi',\n '0.6 mi',\n '3.2 mi',\n '3.7 mi',\n '5.1 mi',\n '2.2 mi',\n '2.4 mi',\n '1 ft',\n '0.7 mi',\n '3.3 mi',\n '1.4 mi',\n '6.6 mi',\n '3.7 mi',\n '2.8 mi',\n '4.1 mi',\n '0.9 mi',\n '0.9 mi',\n '1.6 mi',\n '1.6 mi',\n '3.1 mi',\n '1.0 mi',\n '1.1 mi',\n '1.9 mi',\n '4.1 mi',\n '1.7 mi',\n '1 ft',\n '1.6 mi',\n '1.4 mi',\n '2.0 mi',\n '0.9 mi',\n '3.6 mi',\n '1.3 mi',\n '1.1 mi',\n '3.3 mi',\n '3.0 mi',\n '3.0 mi',\n '1.2 mi',\n '2.5 mi',\n '2.9 mi',\n '8.5 mi',\n '4.3 mi',\n '3.9 mi',\n '1.0 mi',\n '1.3 mi',\n '2.0 mi',\n '0.4 mi',\n '1.5 mi',\n '1.3 mi',\n '0.2 mi',\n '3.1 mi',\n '6.3 mi',\n '1.6 mi',\n '4.4 mi',\n '0.9 mi',\n '2.5 mi',\n '6.7 mi',\n '2.6 mi',\n '5.1 mi',\n '0.5 mi',\n '9.2 mi',\n '0.4 mi',\n '1.5 mi',\n '0.9 mi',\n '0.8 mi',\n '0.8 mi',\n '0.7 mi',\n '1.3 mi',\n '1.7 mi',\n '4.1 mi',\n '0.6 mi',\n '1.5 mi',\n '2.3 mi',\n '1.0 mi',\n '0.7 mi',\n '5.3 mi',\n '1.0 mi',\n '2.2 mi',\n '1.1 mi',\n '4.7 mi',\n '1.4 mi',\n '2.5 mi',\n '1.0 mi',\n '1.8 mi',\n '1.3 mi',\n '2.1 mi',\n '0.9 mi',\n '1.0 mi',\n '0.9 mi',\n '0.9 mi',\n '2.4 mi',\n '3.0 mi',\n '4.9 mi',\n '1.3 mi',\n '2.2 mi',\n '3.1 mi',\n '1.7 mi',\n '6.7 mi',\n '1.7 mi',\n '3.5 mi',\n '7.3 mi',\n '1.0 mi',\n '0.8 mi',\n '1.3 mi',\n '1.2 mi',\n '3.8 mi',\n '0.6 mi',\n '1.7 mi',\n '1.4 mi',\n '1.0 mi',\n '2.2 mi',\n '0.9 mi',\n '2.0 mi',\n '0.7 mi',\n '1.6 mi',\n '3.2 mi',\n '7.3 mi',\n '1.8 mi',\n '0.8 mi',\n '1.3 mi',\n '0.7 mi',\n '1 ft',\n '2.7 mi',\n '4.2 mi',\n '3.5 mi',\n '1.0 mi',\n '2.5 mi',\n '7.6 mi',\n '1.0 mi',\n '3.6 mi',\n '2.0 mi',\n '0.4 mi',\n '0.9 mi',\n '1.3 mi',\n '1.1 mi',\n '0.6 mi',\n '2.5 mi',\n '0.7 mi',\n '1.1 mi',\n '6.9 mi',\n '2.9 mi',\n '2.2 mi',\n '1.9 mi',\n '0.6 mi',\n '0.6 mi',\n '0.9 mi',\n '2.2 mi',\n '1.7 mi',\n '1.6 mi',\n '4.7 mi',\n '5.3 mi',\n '4.2 mi',\n '2.2 mi',\n '2.1 mi',\n '1.6 mi',\n '0.8 mi',\n '2.5 mi',\n '2.0 mi',\n '1.1 mi',\n '1.4 mi',\n '1.9 mi',\n '2.7 mi',\n '1.0 mi',\n '3.7 mi',\n '0.8 mi',\n '1.2 mi',\n '3.8 mi',\n '0.8 mi',\n '2.4 mi',\n '3.6 mi',\n '0.3 mi',\n '0.9 mi',\n '1.5 mi',\n '4.0 mi',\n '7.1 mi',\n '3.3 mi',\n '3.0 mi',\n '0.8 mi',\n '0.2 mi',\n '2.8 mi',\n '1.2 mi',\n '0.8 mi',\n '0.6 mi',\n '1.4 mi',\n '5.0 mi',\n '5.3 mi',\n '1.0 mi',\n '1.5 mi',\n '3.8 mi',\n '1.2 mi',\n '1.1 mi',\n '1.9 mi',\n '2.3 mi',\n '1.3 mi',\n '1.1 mi',\n '3.5 mi',\n '1.4 mi',\n '1.2 mi',\n '4.0 mi',\n '1.4 mi',\n '2.7 mi',\n '2.2 mi',\n '1.4 mi',\n '3.3 mi',\n '1.4 mi',\n '4.8 mi',\n '1.0 mi',\n '1.0 mi',\n '1.3 mi',\n '0.2 mi',\n '2.7 mi',\n '0.7 mi',\n '1.4 mi',\n '4.8 mi',\n '1 ft',\n '0.8 mi',\n '6.7 mi',\n '1.1 mi',\n '1.2 mi',\n '2.7 mi',\n '4.1 mi',\n '0.8 mi',\n '3.0 mi',\n '0.5 mi',\n '1.7 mi',\n '1.3 mi',\n '1.5 mi',\n '3.5 mi',\n '0.7 mi',\n '1.1 mi',\n '2.7 mi',\n '0.6 mi',\n '1.0 mi',\n '0.7 mi',\n '1.0 mi',\n '3.0 mi',\n '0.6 mi',\n '1.1 mi',\n '0.6 mi',\n '1.4 mi',\n '2.8 mi',\n '1.7 mi',\n '4.7 mi',\n '0.7 mi',\n '1.2 mi',\n '1.2 mi',\n '1.2 mi',\n '1.0 mi',\n '3.0 mi',\n '3.1 mi',\n '2.3 mi',\n '2.1 mi',\n '6.5 mi',\n '2.5 mi',\n '1.8 mi',\n '0.5 mi',\n '0.4 mi',\n '1.2 mi',\n '0.2 mi',\n '2.9 mi',\n '0.7 mi',\n '1.6 mi',\n '7.0 mi',\n '1.7 mi',\n '1.0 mi',\n '0.9 mi',\n '1.9 mi',\n '6.2 mi',\n '3.2 mi',\n '0.6 mi',\n '2.9 mi',\n '2.9 mi',\n '1.0 mi',\n '0.9 mi',\n '2.0 mi',\n '0.8 mi',\n '0.7 mi',\n '2.3 mi',\n '0.8 mi',\n '3.4 mi',\n '0.7 mi',\n '0.6 mi',\n '4.1 mi',\n '1.7 mi',\n '3.1 mi',\n '1.2 mi',\n '1.3 mi',\n '0.7 mi',\n '1.9 mi',\n '2.3 mi',\n '9.8 mi',\n '3.7 mi',\n '3.2 mi',\n '1.4 mi',\n '0.6 mi',\n '1.8 mi',\n '1.4 mi',\n '0.9 mi',\n '0.7 mi',\n '3.6 mi',\n '3.2 mi',\n '1.4 mi',\n '2.3 mi',\n '3.0 mi',\n '2.4 mi',\n '0.8 mi',\n '2.3 mi',\n '1.1 mi',\n '0.6 mi',\n '1.7 mi',\n '6.5 mi',\n '1.6 mi',\n '1.0 mi',\n '0.7 mi',\n '1.3 mi',\n '2.3 mi',\n '2.7 mi',\n '1.5 mi',\n '7 ft',\n '1.6 mi',\n '0.9 mi',\n '0.8 mi',\n '0.6 mi',\n '1.8 mi',\n '1.3 mi',\n '2.2 mi',\n '0.7 mi',\n '4.0 mi',\n '0.7 mi',\n '2.8 mi',\n '0.4 mi',\n '0.3 mi',\n '2.2 mi',\n '2.0 mi',\n '0.6 mi',\n '0.2 mi',\n '4.3 mi',\n '1.4 mi',\n '1.8 mi',\n '9.5 mi',\n '1.3 mi',\n '1.1 mi',\n '1.3 mi',\n '0.4 mi',\n '2.7 mi',\n '1.0 mi',\n '3.5 mi',\n '2.6 mi',\n '4.2 mi',\n '4.7 mi',\n '3.8 mi',\n '2.3 mi',\n '2.8 mi',\n '0.5 mi',\n '2.3 mi',\n '4.8 mi',\n '1 ft',\n '5.7 mi',\n '1.6 mi',\n '2.8 mi',\n '3.3 mi',\n '0.8 mi',\n '3.2 mi',\n '2.2 mi',\n '1.9 mi',\n '1.9 mi',\n '1.6 mi',\n '2.1 mi',\n '1.9 mi',\n '3.1 mi',\n '4.8 mi',\n '1.0 mi',\n '0.9 mi',\n '2.1 mi',\n '3.3 mi',\n '3.1 mi',\n '4.2 mi',\n '9.2 mi',\n '1.0 mi',\n '0.6 mi',\n '4.4 mi',\n '1.1 mi',\n '3.7 mi',\n '2.2 mi',\n '1.0 mi',\n '2.7 mi',\n '1.8 mi',\n '0.7 mi',\n '0.8 mi',\n '2.0 mi',\n '1.2 mi',\n '1.2 mi',\n '0.4 mi',\n '1.8 mi',\n '1.8 mi',\n '1.1 mi',\n '5.5 mi',\n '2.4 mi',\n '3.3 mi',\n '2.0 mi',\n '1.3 mi',\n '1.7 mi',\n '1.2 mi',\n '6.7 mi',\n '0.7 mi',\n '2.2 mi',\n '2.0 mi',\n '0.8 mi',\n '0.7 mi',\n '2.9 mi',\n '1.9 mi',\n '2.2 mi',\n '0.7 mi',\n '0.6 mi',\n '3.4 mi',\n '2.3 mi',\n '0.8 mi',\n '6.3 mi',\n '1.4 mi',\n '0.8 mi',\n '3.7 mi',\n '2.3 mi',\n '1 ft',\n '3.1 mi',\n '5.1 mi',\n '2.7 mi',\n '2.7 mi',\n '1.0 mi',\n '1.0 mi',\n '2.9 mi',\n '2.0 mi',\n '0.9 mi',\n '4.0 mi',\n '6.4 mi',\n '1.5 mi',\n '4.7 mi',\n '2.6 mi',\n '1.3 mi',\n '0.7 mi',\n '1.9 mi',\n '2.1 mi',\n '4.7 mi',\n '1.0 mi',\n '5.8 mi',\n '1.2 mi',\n '7.5 mi',\n '1.4 mi',\n '2.5 mi',\n '1.5 mi',\n '0.5 mi',\n '2.1 mi',\n '1.6 mi',\n '1.2 mi',\n '5.9 mi',\n '5.5 mi',\n '1.6 mi',\n '1.1 mi',\n '0.8 mi',\n '3.6 mi',\n '0.7 mi',\n '2.3 mi',\n '4.4 mi',\n '4.0 mi',\n '3.2 mi',\n '0.9 mi',\n '4.3 mi',\n '3.8 mi',\n '0.1 mi',\n '0.8 mi',\n '1.3 mi',\n '0.3 mi',\n '3.5 mi',\n '1.3 mi',\n '5.2 mi',\n '0.8 mi',\n '5.1 mi',\n '3.7 mi',\n '0.8 mi',\n '2.1 mi',\n '5.9 mi',\n '1.7 mi',\n '3.5 mi',\n '0.4 mi',\n '1.4 mi',\n '1 ft',\n '0.8 mi',\n '2.2 mi',\n '0.4 mi',\n '0.6 mi',\n '1.7 mi',\n '3.9 mi',\n '1.5 mi',\n '2.0 mi',\n '1.6 mi',\n '0.5 mi',\n '1.4 mi',\n '1.8 mi',\n '1.8 mi',\n '1.9 mi',\n '2.9 mi',\n '1.9 mi',\n '1.2 mi',\n '0.4 mi',\n '1.3 mi',\n '4.9 mi',\n '0.4 mi',\n '0.6 mi',\n '1.9 mi',\n '1.0 mi',\n '0.8 mi',\n '1.1 mi',\n '5.1 mi',\n '0.5 mi',\n '0.9 mi',\n '0.9 mi',\n '2.0 mi',\n '1 ft',\n '1.5 mi',\n '3.6 mi',\n '6.2 mi',\n '1.5 mi',\n '1.8 mi',\n '8.8 mi',\n '2.0 mi',\n '0.7 mi',\n '1.3 mi',\n '0.7 mi',\n '0.5 mi',\n '0.3 mi',\n '1.6 mi',\n '3.5 mi',\n '4.7 mi',\n '1.1 mi',\n '0.9 mi',\n '1.4 mi',\n '0.9 mi',\n '1.6 mi',\n '1.1 mi',\n '0.9 mi',\n '1.0 mi',\n '1.3 mi',\n '1.5 mi',\n '3.2 mi',\n '1.9 mi',\n '4.9 mi',\n '0.5 mi',\n '1.0 mi',\n '1.1 mi',\n '0.6 mi',\n '3.5 mi',\n '1.6 mi',\n '1.3 mi',\n '0.4 mi',\n '1.6 mi',\n '3.1 mi',\n '1.9 mi',\n '0.7 mi',\n '4.1 mi',\n '2.5 mi',\n '1.2 mi',\n '3.1 mi',\n '2.5 mi',\n '3.2 mi',\n '1.1 mi',\n '5.4 mi',\n '0.8 mi',\n '1.4 mi',\n '1.1 mi',\n '0.9 mi',\n '1.0 mi',\n '1.1 mi',\n '1.1 mi',\n '0.8 mi',\n '0.9 mi',\n '1.3 mi',\n '5.0 mi',\n '1.5 mi',\n '4.8 mi',\n '1.0 mi',\n '0.2 mi',\n '2.1 mi',\n '5.1 mi',\n '3.7 mi',\n '2.9 mi',\n '1.6 mi',\n '1.7 mi',\n '1.0 mi',\n '1.0 mi',\n '0.9 mi',\n '141 ft',\n '3.6 mi',\n '1.5 mi',\n '2.5 mi',\n '3.4 mi',\n '1.0 mi',\n '3.2 mi',\n '0.8 mi',\n '1.4 mi',\n '4.3 mi',\n '0.9 mi',\n '0.4 mi',\n '0.4 mi',\n '0.6 mi',\n '0.9 mi',\n '1.2 mi',\n '1.7 mi',\n '3.2 mi',\n '0.5 mi',\n '2.5 mi',\n '1.1 mi',\n '1.0 mi',\n '2.6 mi',\n '2.6 mi',\n '1.5 mi',\n '2.3 mi',\n '0.8 mi',\n '0.8 mi',\n '2.5 mi',\n '1.2 mi',\n '0.6 mi',\n '1.3 mi',\n '1.3 mi',\n '1.1 mi',\n '2.8 mi',\n '3.3 mi',\n '1.8 mi',\n '1.1 mi',\n '0.9 mi',\n '1.7 mi',\n '2.2 mi',\n '1.1 mi',\n '1.9 mi',\n '1.6 mi',\n '1.2 mi',\n '2.0 mi',\n '1.9 mi',\n '5.0 mi',\n '2.4 mi',\n '2.9 mi',\n '7.2 mi',\n '2.9 mi',\n '3.9 mi',\n '1.4 mi',\n '1.6 mi',\n '2.5 mi',\n '8.8 mi',\n '1.2 mi',\n '1.4 mi',\n '2.2 mi',\n '0.8 mi',\n '1.8 mi',\n '1.7 mi',\n '1.7 mi',\n '5.3 mi',\n '2.6 mi',\n '6.0 mi',\n '1.2 mi',\n '2.7 mi',\n '1.1 mi',\n '2.0 mi',\n '0.5 mi',\n '1.6 mi',\n '4.6 mi',\n '3.0 mi',\n '0.9 mi',\n '0.6 mi',\n '1.5 mi',\n '3.6 mi',\n '1.6 mi',\n '6.6 mi',\n '3.0 mi',\n '8.5 mi',\n '3.8 mi',\n '6.1 mi',\n '1.3 mi',\n '5.6 mi',\n '1.7 mi',\n '2.1 mi',\n '2.2 mi',\n '0.7 mi',\n '4.2 mi',\n '2.4 mi',\n '0.6 mi',\n '0.4 mi',\n '1.1 mi',\n '1.7 mi',\n '1.1 mi',\n '2.3 mi',\n '3.2 mi',\n '1.6 mi',\n '2.2 mi',\n '3.5 mi',\n '2.4 mi',\n '1.5 mi',\n '4.6 mi',\n '1.1 mi',\n '1.1 mi',\n '1.6 mi',\n '0.7 mi',\n '1.4 mi',\n '0.5 mi',\n '4.2 mi',\n '4.7 mi',\n '2.6 mi',\n '0.6 mi',\n '1.2 mi',\n '1.9 mi',\n '0.5 mi',\n '6.3 mi',\n '2.0 mi',\n '1.1 mi',\n '0.6 mi',\n '5.0 mi',\n '2.6 mi',\n '1.3 mi',\n '0.7 mi',\n '3.3 mi',\n '1.1 mi',\n '3.6 mi',\n '2.3 mi',\n '1.5 mi',\n '0.8 mi',\n '1.9 mi',\n '4.7 mi',\n '5.9 mi',\n '0.7 mi',\n '0.6 mi',\n '4.2 mi',\n '2.9 mi',\n '0.9 mi',\n '3.9 mi',\n '0.4 mi',\n '0.6 mi',\n '1.8 mi',\n '0.5 mi',\n '1.2 mi',\n '1.8 mi',\n '3.5 mi',\n '2.3 mi',\n '2.6 mi',\n '3.3 mi',\n '1.6 mi',\n '0.9 mi',\n '0.4 mi',\n '5.1 mi',\n '1.3 mi',\n '1.2 mi',\n '1.9 mi',\n '2.9 mi',\n '6.5 mi',\n '2.3 mi',\n '6.4 mi',\n '0.8 mi',\n '4.8 mi',\n '3.1 mi',\n '3.2 mi',\n '0.9 mi',\n '2.0 mi',\n '1.2 mi',\n '1.8 mi',\n '1.7 mi',\n '2.0 mi',\n '3.1 mi',\n '0.5 mi',\n '4.9 mi',\n '3.1 mi',\n ...]"
     },
     "execution_count": 16,
     "metadata": {},
     "output_type": "execute_result"
    }
   ],
   "source": [
    "distance"
   ],
   "metadata": {
    "collapsed": false
   }
  },
  {
   "cell_type": "code",
   "execution_count": null,
   "outputs": [],
   "source": [
    "duration"
   ],
   "metadata": {
    "collapsed": false
   }
  },
  {
   "cell_type": "code",
   "execution_count": 17,
   "outputs": [],
   "source": [
    "last = len(df)\n",
    "df = df.drop(df.index[last-1])"
   ],
   "metadata": {
    "collapsed": false
   }
  },
  {
   "cell_type": "code",
   "execution_count": 18,
   "outputs": [
    {
     "data": {
      "text/plain": "                             key  fare_amount          pickup_datetime  \\\n0    2009-06-15 17:26:21.0000001          4.5  2009-06-15 17:26:21 UTC   \n1   2011-08-18 00:35:00.00000049          5.7  2011-08-18 00:35:00 UTC   \n2    2012-04-21 04:30:42.0000001          7.7  2012-04-21 04:30:42 UTC   \n3  2010-03-09 07:51:00.000000135          5.3  2010-03-09 07:51:00 UTC   \n4    2011-01-06 09:50:45.0000002         12.1  2011-01-06 09:50:45 UTC   \n\n   pickup_longitude  pickup_latitude  dropoff_longitude  dropoff_latitude  \\\n0        -73.844311        40.721319         -73.841610         40.712278   \n1        -73.982738        40.761270         -73.991242         40.750562   \n2        -73.987130        40.733143         -73.991567         40.758092   \n3        -73.968095        40.768008         -73.956655         40.783762   \n4        -74.000964        40.731630         -73.972892         40.758233   \n\n   passenger_count  Distance (miles)  Driving distance (miles)  \\\n0                1          0.639764                       0.9   \n1                2          0.863167                       0.9   \n2                1          1.737223                       2.4   \n3                1          1.241710                       1.2   \n4                1          2.353742                       2.8   \n\n   Driving duration  \n0               5.0  \n1               7.0  \n2              18.0  \n3               5.0  \n4              17.0  ",
      "text/html": "<div>\n<style scoped>\n    .dataframe tbody tr th:only-of-type {\n        vertical-align: middle;\n    }\n\n    .dataframe tbody tr th {\n        vertical-align: top;\n    }\n\n    .dataframe thead th {\n        text-align: right;\n    }\n</style>\n<table border=\"1\" class=\"dataframe\">\n  <thead>\n    <tr style=\"text-align: right;\">\n      <th></th>\n      <th>key</th>\n      <th>fare_amount</th>\n      <th>pickup_datetime</th>\n      <th>pickup_longitude</th>\n      <th>pickup_latitude</th>\n      <th>dropoff_longitude</th>\n      <th>dropoff_latitude</th>\n      <th>passenger_count</th>\n      <th>Distance (miles)</th>\n      <th>Driving distance (miles)</th>\n      <th>Driving duration</th>\n    </tr>\n  </thead>\n  <tbody>\n    <tr>\n      <th>0</th>\n      <td>2009-06-15 17:26:21.0000001</td>\n      <td>4.5</td>\n      <td>2009-06-15 17:26:21 UTC</td>\n      <td>-73.844311</td>\n      <td>40.721319</td>\n      <td>-73.841610</td>\n      <td>40.712278</td>\n      <td>1</td>\n      <td>0.639764</td>\n      <td>0.9</td>\n      <td>5.0</td>\n    </tr>\n    <tr>\n      <th>1</th>\n      <td>2011-08-18 00:35:00.00000049</td>\n      <td>5.7</td>\n      <td>2011-08-18 00:35:00 UTC</td>\n      <td>-73.982738</td>\n      <td>40.761270</td>\n      <td>-73.991242</td>\n      <td>40.750562</td>\n      <td>2</td>\n      <td>0.863167</td>\n      <td>0.9</td>\n      <td>7.0</td>\n    </tr>\n    <tr>\n      <th>2</th>\n      <td>2012-04-21 04:30:42.0000001</td>\n      <td>7.7</td>\n      <td>2012-04-21 04:30:42 UTC</td>\n      <td>-73.987130</td>\n      <td>40.733143</td>\n      <td>-73.991567</td>\n      <td>40.758092</td>\n      <td>1</td>\n      <td>1.737223</td>\n      <td>2.4</td>\n      <td>18.0</td>\n    </tr>\n    <tr>\n      <th>3</th>\n      <td>2010-03-09 07:51:00.000000135</td>\n      <td>5.3</td>\n      <td>2010-03-09 07:51:00 UTC</td>\n      <td>-73.968095</td>\n      <td>40.768008</td>\n      <td>-73.956655</td>\n      <td>40.783762</td>\n      <td>1</td>\n      <td>1.241710</td>\n      <td>1.2</td>\n      <td>5.0</td>\n    </tr>\n    <tr>\n      <th>4</th>\n      <td>2011-01-06 09:50:45.0000002</td>\n      <td>12.1</td>\n      <td>2011-01-06 09:50:45 UTC</td>\n      <td>-74.000964</td>\n      <td>40.731630</td>\n      <td>-73.972892</td>\n      <td>40.758233</td>\n      <td>1</td>\n      <td>2.353742</td>\n      <td>2.8</td>\n      <td>17.0</td>\n    </tr>\n  </tbody>\n</table>\n</div>"
     },
     "execution_count": 18,
     "metadata": {},
     "output_type": "execute_result"
    }
   ],
   "source": [
    "distance_cleaned = []\n",
    "duration_cleaned = []\n",
    "for i in range(len(distance)):\n",
    "    distance_clean = distance[i].replace(' mi', '').replace(' ft', '')\n",
    "    float_distance_clean = float(distance_clean)\n",
    "    distance_cleaned.append(float_distance_clean)\n",
    "    duration_clean = duration[i].replace(' mins', '').replace(' min', '')\n",
    "    float_duration_clean = float(duration_clean)\n",
    "    duration_cleaned.append(float_duration_clean)\n",
    "\n",
    "\n",
    "df['Driving distance (miles)'] = distance_cleaned\n",
    "df['Driving duration'] = duration_cleaned\n",
    "df.head()"
   ],
   "metadata": {
    "collapsed": false
   }
  },
  {
   "cell_type": "code",
   "execution_count": 20,
   "outputs": [],
   "source": [
    "df.to_csv('../../DATA/PREPROCESSING/prepro_01a_geo_gmap.csv', index=False)"
   ],
   "metadata": {
    "collapsed": false
   }
  },
  {
   "cell_type": "code",
   "execution_count": null,
   "outputs": [],
   "source": [],
   "metadata": {
    "collapsed": false
   }
  }
 ],
 "metadata": {
  "kernelspec": {
   "display_name": "Python 3",
   "language": "python",
   "name": "python3"
  },
  "language_info": {
   "codemirror_mode": {
    "name": "ipython",
    "version": 2
   },
   "file_extension": ".py",
   "mimetype": "text/x-python",
   "name": "python",
   "nbconvert_exporter": "python",
   "pygments_lexer": "ipython2",
   "version": "2.7.6"
  }
 },
 "nbformat": 4,
 "nbformat_minor": 0
}
