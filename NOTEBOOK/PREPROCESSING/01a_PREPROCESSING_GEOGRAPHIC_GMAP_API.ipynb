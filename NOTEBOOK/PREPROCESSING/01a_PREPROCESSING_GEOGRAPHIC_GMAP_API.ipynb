{
 "cells": [
  {
   "cell_type": "markdown",
   "source": [
    "# GOOGLE MAP API\n",
    "\n",
    "# IMPORT LIBS"
   ],
   "metadata": {
    "collapsed": false
   }
  },
  {
   "cell_type": "code",
   "execution_count": 1,
   "metadata": {
    "collapsed": true
   },
   "outputs": [],
   "source": [
    "import pandas as pd\n",
    "import json\n",
    "import requests\n",
    "import time"
   ]
  },
  {
   "cell_type": "markdown",
   "source": [
    "# OPEN DATASET"
   ],
   "metadata": {
    "collapsed": false
   }
  },
  {
   "cell_type": "code",
   "execution_count": 2,
   "outputs": [
    {
     "data": {
      "text/plain": "                                   key  fare_amount          pickup_datetime  \\\n0          2009-06-15 17:26:21.0000001          4.5  2009-06-15 17:26:21 UTC   \n1         2011-08-18 00:35:00.00000049          5.7  2011-08-18 00:35:00 UTC   \n2          2012-04-21 04:30:42.0000001          7.7  2012-04-21 04:30:42 UTC   \n3        2010-03-09 07:51:00.000000135          5.3  2010-03-09 07:51:00 UTC   \n4          2011-01-06 09:50:45.0000002         12.1  2011-01-06 09:50:45 UTC   \n...                                ...          ...                      ...   \n1789521    2014-11-17 13:51:02.0000002          4.0  2014-11-17 13:51:02 UTC   \n1789522    2013-02-25 17:51:28.0000004          7.0  2013-02-25 17:51:28 UTC   \n1789523    2013-07-12 22:03:41.0000006         10.5  2013-07-12 22:03:41 UTC   \n1789524    2009-01-17 09:35:37.0000002         10.9  2009-01-17 09:35:37 UTC   \n1789525  2010-01-16 15:46:00.000000153         12.9  2010-01-16 15:46:00 UTC   \n\n         pickup_longitude  pickup_latitude  dropoff_longitude  \\\n0              -73.844311        40.721319         -73.841610   \n1              -73.982738        40.761270         -73.991242   \n2              -73.987130        40.733143         -73.991567   \n3              -73.968095        40.768008         -73.956655   \n4              -74.000964        40.731630         -73.972892   \n...                   ...              ...                ...   \n1789521        -73.950787        40.770836         -73.951043   \n1789522        -73.983035        40.748276         -73.974725   \n1789523        -74.003482        40.743577         -73.976758   \n1789524        -73.971819        40.797243         -73.985921   \n1789525        -73.955140        40.779382         -73.914775   \n\n         dropoff_latitude  passenger_count  Distance (miles)  \n0               40.712278                1          0.639764  \n1               40.750562                2          0.863167  \n2               40.758092                1          1.737223  \n3               40.783762                1          1.241710  \n4               40.758233                1          2.353742  \n...                   ...              ...               ...  \n1789521         40.774543                1          0.256146  \n1789522         40.741978                1          0.615670  \n1789523         40.765265                1          2.050854  \n1789524         40.752459                3          3.177537  \n1789525         40.820602                2          3.545447  \n\n[1789526 rows x 9 columns]",
      "text/html": "<div>\n<style scoped>\n    .dataframe tbody tr th:only-of-type {\n        vertical-align: middle;\n    }\n\n    .dataframe tbody tr th {\n        vertical-align: top;\n    }\n\n    .dataframe thead th {\n        text-align: right;\n    }\n</style>\n<table border=\"1\" class=\"dataframe\">\n  <thead>\n    <tr style=\"text-align: right;\">\n      <th></th>\n      <th>key</th>\n      <th>fare_amount</th>\n      <th>pickup_datetime</th>\n      <th>pickup_longitude</th>\n      <th>pickup_latitude</th>\n      <th>dropoff_longitude</th>\n      <th>dropoff_latitude</th>\n      <th>passenger_count</th>\n      <th>Distance (miles)</th>\n    </tr>\n  </thead>\n  <tbody>\n    <tr>\n      <th>0</th>\n      <td>2009-06-15 17:26:21.0000001</td>\n      <td>4.5</td>\n      <td>2009-06-15 17:26:21 UTC</td>\n      <td>-73.844311</td>\n      <td>40.721319</td>\n      <td>-73.841610</td>\n      <td>40.712278</td>\n      <td>1</td>\n      <td>0.639764</td>\n    </tr>\n    <tr>\n      <th>1</th>\n      <td>2011-08-18 00:35:00.00000049</td>\n      <td>5.7</td>\n      <td>2011-08-18 00:35:00 UTC</td>\n      <td>-73.982738</td>\n      <td>40.761270</td>\n      <td>-73.991242</td>\n      <td>40.750562</td>\n      <td>2</td>\n      <td>0.863167</td>\n    </tr>\n    <tr>\n      <th>2</th>\n      <td>2012-04-21 04:30:42.0000001</td>\n      <td>7.7</td>\n      <td>2012-04-21 04:30:42 UTC</td>\n      <td>-73.987130</td>\n      <td>40.733143</td>\n      <td>-73.991567</td>\n      <td>40.758092</td>\n      <td>1</td>\n      <td>1.737223</td>\n    </tr>\n    <tr>\n      <th>3</th>\n      <td>2010-03-09 07:51:00.000000135</td>\n      <td>5.3</td>\n      <td>2010-03-09 07:51:00 UTC</td>\n      <td>-73.968095</td>\n      <td>40.768008</td>\n      <td>-73.956655</td>\n      <td>40.783762</td>\n      <td>1</td>\n      <td>1.241710</td>\n    </tr>\n    <tr>\n      <th>4</th>\n      <td>2011-01-06 09:50:45.0000002</td>\n      <td>12.1</td>\n      <td>2011-01-06 09:50:45 UTC</td>\n      <td>-74.000964</td>\n      <td>40.731630</td>\n      <td>-73.972892</td>\n      <td>40.758233</td>\n      <td>1</td>\n      <td>2.353742</td>\n    </tr>\n    <tr>\n      <th>...</th>\n      <td>...</td>\n      <td>...</td>\n      <td>...</td>\n      <td>...</td>\n      <td>...</td>\n      <td>...</td>\n      <td>...</td>\n      <td>...</td>\n      <td>...</td>\n    </tr>\n    <tr>\n      <th>1789521</th>\n      <td>2014-11-17 13:51:02.0000002</td>\n      <td>4.0</td>\n      <td>2014-11-17 13:51:02 UTC</td>\n      <td>-73.950787</td>\n      <td>40.770836</td>\n      <td>-73.951043</td>\n      <td>40.774543</td>\n      <td>1</td>\n      <td>0.256146</td>\n    </tr>\n    <tr>\n      <th>1789522</th>\n      <td>2013-02-25 17:51:28.0000004</td>\n      <td>7.0</td>\n      <td>2013-02-25 17:51:28 UTC</td>\n      <td>-73.983035</td>\n      <td>40.748276</td>\n      <td>-73.974725</td>\n      <td>40.741978</td>\n      <td>1</td>\n      <td>0.615670</td>\n    </tr>\n    <tr>\n      <th>1789523</th>\n      <td>2013-07-12 22:03:41.0000006</td>\n      <td>10.5</td>\n      <td>2013-07-12 22:03:41 UTC</td>\n      <td>-74.003482</td>\n      <td>40.743577</td>\n      <td>-73.976758</td>\n      <td>40.765265</td>\n      <td>1</td>\n      <td>2.050854</td>\n    </tr>\n    <tr>\n      <th>1789524</th>\n      <td>2009-01-17 09:35:37.0000002</td>\n      <td>10.9</td>\n      <td>2009-01-17 09:35:37 UTC</td>\n      <td>-73.971819</td>\n      <td>40.797243</td>\n      <td>-73.985921</td>\n      <td>40.752459</td>\n      <td>3</td>\n      <td>3.177537</td>\n    </tr>\n    <tr>\n      <th>1789525</th>\n      <td>2010-01-16 15:46:00.000000153</td>\n      <td>12.9</td>\n      <td>2010-01-16 15:46:00 UTC</td>\n      <td>-73.955140</td>\n      <td>40.779382</td>\n      <td>-73.914775</td>\n      <td>40.820602</td>\n      <td>2</td>\n      <td>3.545447</td>\n    </tr>\n  </tbody>\n</table>\n<p>1789526 rows × 9 columns</p>\n</div>"
     },
     "execution_count": 2,
     "metadata": {},
     "output_type": "execute_result"
    }
   ],
   "source": [
    "df = pd.read_csv('../../DATA/PREPROCESSING/prepro_01_geo.csv')\n",
    "df"
   ],
   "metadata": {
    "collapsed": false
   }
  },
  {
   "cell_type": "markdown",
   "source": [
    "# GET MY API KEY"
   ],
   "metadata": {
    "collapsed": false
   }
  },
  {
   "cell_type": "code",
   "execution_count": 5,
   "outputs": [],
   "source": [
    "def get_keys(path):\n",
    "    with open(path) as f:\n",
    "        return json.load(f)\n",
    "API_key = get_keys(\"../../ASSETS/GMAP/api_key.json\")\n",
    "google_key = list(API_key.values())[0]"
   ],
   "metadata": {
    "collapsed": false
   }
  },
  {
   "cell_type": "markdown",
   "source": [
    "# GET THE DRIVING AN DURATION DISTANCE AND INSERT INTO LIST"
   ],
   "metadata": {
    "collapsed": false
   }
  },
  {
   "cell_type": "code",
   "execution_count": 6,
   "outputs": [],
   "source": [
    "lat_origin = df['pickup_latitude'].tolist()\n",
    "long_origin = df['pickup_longitude'].tolist()\n",
    "lat_destination = df['dropoff_latitude'].tolist()\n",
    "long_destination = df['dropoff_longitude'].tolist()\n",
    "\n",
    "distance = []\n",
    "duration = []\n",
    "drop = []\n",
    "for i in range(len(long_destination)):\n",
    "    url = f\"https://maps.googleapis.com/maps/api/distancematrix/json?units=imperial&origins={lat_origin[i]},{long_origin[i]}&destinations={lat_destination[i]}%2C{long_destination[i]}&key={google_key}\"\n",
    "    print(url)\n",
    "    r=requests.get(url)\n",
    "    print(r)\n",
    "    data = r.json()\n",
    "    print(data)\n",
    "    try:\n",
    "        print(data['rows'][0]['elements'][0]['distance']['text'])\n",
    "        distance.append(data['rows'][0]['elements'][0]['distance']['text'])\n",
    "        print(data['rows'][0]['elements'][0]['duration']['text'])\n",
    "        duration.append(data['rows'][0]['elements'][0]['duration']['text'])\n",
    "    except:\n",
    "        drop.append([lat_origin[i], long_origin[i], lat_destination[i], long_destination[i]])\n",
    "        pass\n",
    "    time.sleep(0.5)"
   ],
   "metadata": {
    "collapsed": false
   }
  },
  {
   "cell_type": "markdown",
   "source": [
    "# CLEAN THE RESULT AND INSERT INTO DF"
   ],
   "metadata": {
    "collapsed": false
   }
  },
  {
   "cell_type": "code",
   "execution_count": 7,
   "outputs": [],
   "source": [
    "distance_cleaned = []\n",
    "duration_cleaned = []\n",
    "for i in range(len(distance)):\n",
    "    distance_clean = distance[i].replace(' mi', '').replace(' ft', '')\n",
    "    float_distance_clean = float(distance_clean)\n",
    "    distance_cleaned.append(float_distance_clean)\n",
    "    duration_clean = duration[i].replace(' mins', '').replace(' min', '')\n",
    "    float_duration_clean = float(duration_clean)\n",
    "    duration_cleaned.append(float_duration_clean)\n",
    "\n",
    "\n",
    "df['Driving distance (miles)'] = distance_cleaned\n",
    "df['Driving duration'] = duration_cleaned\n",
    "df.head()"
   ],
   "metadata": {
    "collapsed": false
   }
  },
  {
   "cell_type": "markdown",
   "source": [
    "# EXPORT DF"
   ],
   "metadata": {
    "collapsed": false
   }
  },
  {
   "cell_type": "code",
   "execution_count": 8,
   "outputs": [],
   "source": [
    "df.to_csv('../../DATA/PREPROCESSING/prepro_01a_geo_gmap.csv', index=False)"
   ],
   "metadata": {
    "collapsed": false
   }
  }
 ],
 "metadata": {
  "kernelspec": {
   "display_name": "Python 3",
   "language": "python",
   "name": "python3"
  },
  "language_info": {
   "codemirror_mode": {
    "name": "ipython",
    "version": 2
   },
   "file_extension": ".py",
   "mimetype": "text/x-python",
   "name": "python",
   "nbconvert_exporter": "python",
   "pygments_lexer": "ipython2",
   "version": "2.7.6"
  }
 },
 "nbformat": 4,
 "nbformat_minor": 0
}
