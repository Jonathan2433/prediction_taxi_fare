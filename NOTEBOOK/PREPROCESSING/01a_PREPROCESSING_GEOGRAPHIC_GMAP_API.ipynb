{
 "cells": [
  {
   "cell_type": "markdown",
   "source": [
    "# GOOGLE MAP API\n",
    "\n",
    "# IMPORT LIBS"
   ],
   "metadata": {
    "collapsed": false
   }
  },
  {
   "cell_type": "code",
   "execution_count": 46,
   "metadata": {
    "collapsed": true
   },
   "outputs": [],
   "source": [
    "import pandas as pd\n",
    "import json\n",
    "import requests"
   ]
  },
  {
   "cell_type": "markdown",
   "source": [
    "# OPEN DATASET"
   ],
   "metadata": {
    "collapsed": false
   }
  },
  {
   "cell_type": "code",
   "execution_count": 47,
   "outputs": [
    {
     "data": {
      "text/plain": "                                  key  fare_amount          pickup_datetime  \\\n0         2009-06-15 17:26:21.0000001          4.5  2009-06-15 17:26:21 UTC   \n1        2011-08-18 00:35:00.00000049          5.7  2011-08-18 00:35:00 UTC   \n2         2012-04-21 04:30:42.0000001          7.7  2012-04-21 04:30:42 UTC   \n3       2010-03-09 07:51:00.000000135          5.3  2010-03-09 07:51:00 UTC   \n4         2011-01-06 09:50:45.0000002         12.1  2011-01-06 09:50:45 UTC   \n...                               ...          ...                      ...   \n999995   2009-08-04 22:54:00.00000014          9.7  2009-08-04 22:54:00 UTC   \n999996   2011-07-23 13:31:00.00000038          4.5  2011-07-23 13:31:00 UTC   \n999997    2013-07-15 20:27:40.0000001          8.0  2013-07-15 20:27:40 UTC   \n999998    2013-11-12 08:32:30.0000005         19.5  2013-11-12 08:32:30 UTC   \n999999    2015-05-08 19:48:24.0000004          6.0  2015-05-08 19:48:24 UTC   \n\n        pickup_longitude  pickup_latitude  dropoff_longitude  \\\n0             -73.844311        40.721319         -73.841610   \n1             -73.982738        40.761270         -73.991242   \n2             -73.987130        40.733143         -73.991567   \n3             -73.968095        40.768008         -73.956655   \n4             -74.000964        40.731630         -73.972892   \n...                  ...              ...                ...   \n999995        -73.805007        40.681537         -73.805007   \n999996        -73.973657        40.784485         -73.980912   \n999997        -74.003624        40.742007         -73.981124   \n999998        -73.958898        40.780737         -73.996731   \n999999        -73.980072        40.767227         -73.968681   \n\n        dropoff_latitude  passenger_count  Distance  \n0              40.712278                1  1.029601  \n1              40.750562                2  1.389132  \n2              40.758092                1  2.795790  \n3              40.783762                1  1.998338  \n4              40.758233                1  3.787980  \n...                  ...              ...       ...  \n999995         40.681537                1  0.000000  \n999996         40.779282                1  0.841954  \n999997         40.750336                1  2.113427  \n999998         40.742683                2  5.297448  \n999999         40.763916                1  1.029640  \n\n[1000000 rows x 9 columns]",
      "text/html": "<div>\n<style scoped>\n    .dataframe tbody tr th:only-of-type {\n        vertical-align: middle;\n    }\n\n    .dataframe tbody tr th {\n        vertical-align: top;\n    }\n\n    .dataframe thead th {\n        text-align: right;\n    }\n</style>\n<table border=\"1\" class=\"dataframe\">\n  <thead>\n    <tr style=\"text-align: right;\">\n      <th></th>\n      <th>key</th>\n      <th>fare_amount</th>\n      <th>pickup_datetime</th>\n      <th>pickup_longitude</th>\n      <th>pickup_latitude</th>\n      <th>dropoff_longitude</th>\n      <th>dropoff_latitude</th>\n      <th>passenger_count</th>\n      <th>Distance</th>\n    </tr>\n  </thead>\n  <tbody>\n    <tr>\n      <th>0</th>\n      <td>2009-06-15 17:26:21.0000001</td>\n      <td>4.5</td>\n      <td>2009-06-15 17:26:21 UTC</td>\n      <td>-73.844311</td>\n      <td>40.721319</td>\n      <td>-73.841610</td>\n      <td>40.712278</td>\n      <td>1</td>\n      <td>1.029601</td>\n    </tr>\n    <tr>\n      <th>1</th>\n      <td>2011-08-18 00:35:00.00000049</td>\n      <td>5.7</td>\n      <td>2011-08-18 00:35:00 UTC</td>\n      <td>-73.982738</td>\n      <td>40.761270</td>\n      <td>-73.991242</td>\n      <td>40.750562</td>\n      <td>2</td>\n      <td>1.389132</td>\n    </tr>\n    <tr>\n      <th>2</th>\n      <td>2012-04-21 04:30:42.0000001</td>\n      <td>7.7</td>\n      <td>2012-04-21 04:30:42 UTC</td>\n      <td>-73.987130</td>\n      <td>40.733143</td>\n      <td>-73.991567</td>\n      <td>40.758092</td>\n      <td>1</td>\n      <td>2.795790</td>\n    </tr>\n    <tr>\n      <th>3</th>\n      <td>2010-03-09 07:51:00.000000135</td>\n      <td>5.3</td>\n      <td>2010-03-09 07:51:00 UTC</td>\n      <td>-73.968095</td>\n      <td>40.768008</td>\n      <td>-73.956655</td>\n      <td>40.783762</td>\n      <td>1</td>\n      <td>1.998338</td>\n    </tr>\n    <tr>\n      <th>4</th>\n      <td>2011-01-06 09:50:45.0000002</td>\n      <td>12.1</td>\n      <td>2011-01-06 09:50:45 UTC</td>\n      <td>-74.000964</td>\n      <td>40.731630</td>\n      <td>-73.972892</td>\n      <td>40.758233</td>\n      <td>1</td>\n      <td>3.787980</td>\n    </tr>\n    <tr>\n      <th>...</th>\n      <td>...</td>\n      <td>...</td>\n      <td>...</td>\n      <td>...</td>\n      <td>...</td>\n      <td>...</td>\n      <td>...</td>\n      <td>...</td>\n      <td>...</td>\n    </tr>\n    <tr>\n      <th>999995</th>\n      <td>2009-08-04 22:54:00.00000014</td>\n      <td>9.7</td>\n      <td>2009-08-04 22:54:00 UTC</td>\n      <td>-73.805007</td>\n      <td>40.681537</td>\n      <td>-73.805007</td>\n      <td>40.681537</td>\n      <td>1</td>\n      <td>0.000000</td>\n    </tr>\n    <tr>\n      <th>999996</th>\n      <td>2011-07-23 13:31:00.00000038</td>\n      <td>4.5</td>\n      <td>2011-07-23 13:31:00 UTC</td>\n      <td>-73.973657</td>\n      <td>40.784485</td>\n      <td>-73.980912</td>\n      <td>40.779282</td>\n      <td>1</td>\n      <td>0.841954</td>\n    </tr>\n    <tr>\n      <th>999997</th>\n      <td>2013-07-15 20:27:40.0000001</td>\n      <td>8.0</td>\n      <td>2013-07-15 20:27:40 UTC</td>\n      <td>-74.003624</td>\n      <td>40.742007</td>\n      <td>-73.981124</td>\n      <td>40.750336</td>\n      <td>1</td>\n      <td>2.113427</td>\n    </tr>\n    <tr>\n      <th>999998</th>\n      <td>2013-11-12 08:32:30.0000005</td>\n      <td>19.5</td>\n      <td>2013-11-12 08:32:30 UTC</td>\n      <td>-73.958898</td>\n      <td>40.780737</td>\n      <td>-73.996731</td>\n      <td>40.742683</td>\n      <td>2</td>\n      <td>5.297448</td>\n    </tr>\n    <tr>\n      <th>999999</th>\n      <td>2015-05-08 19:48:24.0000004</td>\n      <td>6.0</td>\n      <td>2015-05-08 19:48:24 UTC</td>\n      <td>-73.980072</td>\n      <td>40.767227</td>\n      <td>-73.968681</td>\n      <td>40.763916</td>\n      <td>1</td>\n      <td>1.029640</td>\n    </tr>\n  </tbody>\n</table>\n<p>1000000 rows × 9 columns</p>\n</div>"
     },
     "execution_count": 47,
     "metadata": {},
     "output_type": "execute_result"
    }
   ],
   "source": [
    "df = pd.read_csv('../../DATA/PREPROCESSING/prepro_01_geo.csv', nrows=1000000)\n",
    "df"
   ],
   "metadata": {
    "collapsed": false
   }
  },
  {
   "cell_type": "code",
   "execution_count": 48,
   "outputs": [],
   "source": [
    "def get_keys(path):\n",
    "    with open(path) as f:\n",
    "        return json.load(f)\n",
    "API_key = get_keys(\"../../ASSETS/GMAP/api_key.json\")\n",
    "google_key = list(API_key.values())[0]"
   ],
   "metadata": {
    "collapsed": false
   }
  },
  {
   "cell_type": "code",
   "execution_count": null,
   "outputs": [],
   "source": [
    "lat_origin = df['pickup_latitude'].tolist()\n",
    "long_origin = df['pickup_longitude'].tolist()\n",
    "lat_destination = df['dropoff_latitude'].tolist()\n",
    "long_destination = df['dropoff_longitude'].tolist()\n",
    "\n",
    "distance = []\n",
    "duration = []\n",
    "for i in range(len(long_destination)):\n",
    "    url = f\"https://maps.googleapis.com/maps/api/distancematrix/json?units=imperial&origins={lat_origin[i]},{long_origin[i]}&destinations={lat_destination[i]}%2C{long_destination[i]}&key={google_key}\"\n",
    "    r=requests.get(url)\n",
    "    data = r.json()\n",
    "    try:\n",
    "        distance.append(data['rows'][0]['elements'][0]['distance']['text'])\n",
    "        duration.append(data['rows'][0]['elements'][0]['duration']['text'])\n",
    "    except:\n",
    "        pass"
   ],
   "metadata": {
    "collapsed": false,
    "pycharm": {
     "is_executing": true
    }
   }
  },
  {
   "cell_type": "code",
   "execution_count": null,
   "outputs": [],
   "source": [
    "distance_cleaned = []\n",
    "duration_cleaned = []\n",
    "for i in range(len(distance)):\n",
    "    distance_clean = distance[i].replace(' mi', '').replace(' ft', '')\n",
    "    float_distance_clean = float(distance_clean)\n",
    "    distance_cleaned.append(float_distance_clean)\n",
    "    duration_clean = duration[i].replace(' mins', '').replace(' min', '')\n",
    "    float_duration_clean = float(duration_clean)\n",
    "    duration_cleaned.append(float_duration_clean)\n",
    "\n",
    "\n",
    "df['Driving distance (miles)'] = distance_cleaned\n",
    "df['Driving duration'] = duration_cleaned\n",
    "df.head()"
   ],
   "metadata": {
    "collapsed": false,
    "pycharm": {
     "is_executing": true
    }
   }
  },
  {
   "cell_type": "code",
   "execution_count": null,
   "outputs": [],
   "source": [
    "df.to_csv('../../DATA/PREPROCESSING/prepro_01a_geo_gmap.csv', index=False)"
   ],
   "metadata": {
    "collapsed": false,
    "pycharm": {
     "is_executing": true
    }
   }
  }
 ],
 "metadata": {
  "kernelspec": {
   "display_name": "Python 3",
   "language": "python",
   "name": "python3"
  },
  "language_info": {
   "codemirror_mode": {
    "name": "ipython",
    "version": 2
   },
   "file_extension": ".py",
   "mimetype": "text/x-python",
   "name": "python",
   "nbconvert_exporter": "python",
   "pygments_lexer": "ipython2",
   "version": "2.7.6"
  }
 },
 "nbformat": 4,
 "nbformat_minor": 0
}
