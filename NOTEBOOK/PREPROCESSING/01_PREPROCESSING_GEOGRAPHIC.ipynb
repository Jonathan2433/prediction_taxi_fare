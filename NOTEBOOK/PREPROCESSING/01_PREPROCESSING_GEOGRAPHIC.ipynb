{
 "cells": [
  {
   "cell_type": "markdown",
   "source": [
    "# GEOGRAPHIC PARTS\n",
    "# IMPORT LIBS"
   ],
   "metadata": {
    "collapsed": false
   }
  },
  {
   "cell_type": "code",
   "execution_count": 13,
   "metadata": {
    "collapsed": true
   },
   "outputs": [],
   "source": [
    "import pandas as pd\n",
    "import plotly.express as px\n",
    "import math\n",
    "import numpy as np\n",
    "import geopy.distance"
   ]
  },
  {
   "cell_type": "markdown",
   "source": [
    "# OPEN DATASET"
   ],
   "metadata": {
    "collapsed": false
   }
  },
  {
   "cell_type": "code",
   "execution_count": 14,
   "outputs": [
    {
     "data": {
      "text/plain": "                                   key  fare_amount          pickup_datetime  \\\n0          2009-06-15 17:26:21.0000001          4.5  2009-06-15 17:26:21 UTC   \n1          2010-01-05 16:52:16.0000002         16.9  2010-01-05 16:52:16 UTC   \n2         2011-08-18 00:35:00.00000049          5.7  2011-08-18 00:35:00 UTC   \n3          2012-04-21 04:30:42.0000001          7.7  2012-04-21 04:30:42 UTC   \n4        2010-03-09 07:51:00.000000135          5.3  2010-03-09 07:51:00 UTC   \n...                                ...          ...                      ...   \n1953457    2014-11-17 13:51:02.0000002          4.0  2014-11-17 13:51:02 UTC   \n1953458    2013-02-25 17:51:28.0000004          7.0  2013-02-25 17:51:28 UTC   \n1953459    2013-07-12 22:03:41.0000006         10.5  2013-07-12 22:03:41 UTC   \n1953460    2009-01-17 09:35:37.0000002         10.9  2009-01-17 09:35:37 UTC   \n1953461  2010-01-16 15:46:00.000000153         12.9  2010-01-16 15:46:00 UTC   \n\n         pickup_longitude  pickup_latitude  dropoff_longitude  \\\n0              -73.844311        40.721319         -73.841610   \n1              -74.016048        40.711303         -73.979268   \n2              -73.982738        40.761270         -73.991242   \n3              -73.987130        40.733143         -73.991567   \n4              -73.968095        40.768008         -73.956655   \n...                   ...              ...                ...   \n1953457        -73.950787        40.770836         -73.951043   \n1953458        -73.983035        40.748276         -73.974725   \n1953459        -74.003482        40.743577         -73.976758   \n1953460        -73.971819        40.797243         -73.985921   \n1953461        -73.955140        40.779382         -73.914775   \n\n         dropoff_latitude  passenger_count  \n0               40.712278                1  \n1               40.782004                1  \n2               40.750562                2  \n3               40.758092                1  \n4               40.783762                1  \n...                   ...              ...  \n1953457         40.774543                1  \n1953458         40.741978                1  \n1953459         40.765265                1  \n1953460         40.752459                3  \n1953461         40.820602                2  \n\n[1953462 rows x 8 columns]",
      "text/html": "<div>\n<style scoped>\n    .dataframe tbody tr th:only-of-type {\n        vertical-align: middle;\n    }\n\n    .dataframe tbody tr th {\n        vertical-align: top;\n    }\n\n    .dataframe thead th {\n        text-align: right;\n    }\n</style>\n<table border=\"1\" class=\"dataframe\">\n  <thead>\n    <tr style=\"text-align: right;\">\n      <th></th>\n      <th>key</th>\n      <th>fare_amount</th>\n      <th>pickup_datetime</th>\n      <th>pickup_longitude</th>\n      <th>pickup_latitude</th>\n      <th>dropoff_longitude</th>\n      <th>dropoff_latitude</th>\n      <th>passenger_count</th>\n    </tr>\n  </thead>\n  <tbody>\n    <tr>\n      <th>0</th>\n      <td>2009-06-15 17:26:21.0000001</td>\n      <td>4.5</td>\n      <td>2009-06-15 17:26:21 UTC</td>\n      <td>-73.844311</td>\n      <td>40.721319</td>\n      <td>-73.841610</td>\n      <td>40.712278</td>\n      <td>1</td>\n    </tr>\n    <tr>\n      <th>1</th>\n      <td>2010-01-05 16:52:16.0000002</td>\n      <td>16.9</td>\n      <td>2010-01-05 16:52:16 UTC</td>\n      <td>-74.016048</td>\n      <td>40.711303</td>\n      <td>-73.979268</td>\n      <td>40.782004</td>\n      <td>1</td>\n    </tr>\n    <tr>\n      <th>2</th>\n      <td>2011-08-18 00:35:00.00000049</td>\n      <td>5.7</td>\n      <td>2011-08-18 00:35:00 UTC</td>\n      <td>-73.982738</td>\n      <td>40.761270</td>\n      <td>-73.991242</td>\n      <td>40.750562</td>\n      <td>2</td>\n    </tr>\n    <tr>\n      <th>3</th>\n      <td>2012-04-21 04:30:42.0000001</td>\n      <td>7.7</td>\n      <td>2012-04-21 04:30:42 UTC</td>\n      <td>-73.987130</td>\n      <td>40.733143</td>\n      <td>-73.991567</td>\n      <td>40.758092</td>\n      <td>1</td>\n    </tr>\n    <tr>\n      <th>4</th>\n      <td>2010-03-09 07:51:00.000000135</td>\n      <td>5.3</td>\n      <td>2010-03-09 07:51:00 UTC</td>\n      <td>-73.968095</td>\n      <td>40.768008</td>\n      <td>-73.956655</td>\n      <td>40.783762</td>\n      <td>1</td>\n    </tr>\n    <tr>\n      <th>...</th>\n      <td>...</td>\n      <td>...</td>\n      <td>...</td>\n      <td>...</td>\n      <td>...</td>\n      <td>...</td>\n      <td>...</td>\n      <td>...</td>\n    </tr>\n    <tr>\n      <th>1953457</th>\n      <td>2014-11-17 13:51:02.0000002</td>\n      <td>4.0</td>\n      <td>2014-11-17 13:51:02 UTC</td>\n      <td>-73.950787</td>\n      <td>40.770836</td>\n      <td>-73.951043</td>\n      <td>40.774543</td>\n      <td>1</td>\n    </tr>\n    <tr>\n      <th>1953458</th>\n      <td>2013-02-25 17:51:28.0000004</td>\n      <td>7.0</td>\n      <td>2013-02-25 17:51:28 UTC</td>\n      <td>-73.983035</td>\n      <td>40.748276</td>\n      <td>-73.974725</td>\n      <td>40.741978</td>\n      <td>1</td>\n    </tr>\n    <tr>\n      <th>1953459</th>\n      <td>2013-07-12 22:03:41.0000006</td>\n      <td>10.5</td>\n      <td>2013-07-12 22:03:41 UTC</td>\n      <td>-74.003482</td>\n      <td>40.743577</td>\n      <td>-73.976758</td>\n      <td>40.765265</td>\n      <td>1</td>\n    </tr>\n    <tr>\n      <th>1953460</th>\n      <td>2009-01-17 09:35:37.0000002</td>\n      <td>10.9</td>\n      <td>2009-01-17 09:35:37 UTC</td>\n      <td>-73.971819</td>\n      <td>40.797243</td>\n      <td>-73.985921</td>\n      <td>40.752459</td>\n      <td>3</td>\n    </tr>\n    <tr>\n      <th>1953461</th>\n      <td>2010-01-16 15:46:00.000000153</td>\n      <td>12.9</td>\n      <td>2010-01-16 15:46:00 UTC</td>\n      <td>-73.955140</td>\n      <td>40.779382</td>\n      <td>-73.914775</td>\n      <td>40.820602</td>\n      <td>2</td>\n    </tr>\n  </tbody>\n</table>\n<p>1953462 rows × 8 columns</p>\n</div>"
     },
     "execution_count": 14,
     "metadata": {},
     "output_type": "execute_result"
    }
   ],
   "source": [
    "df = pd.read_csv('../../DATA/PREPROCESSING/prepro_00_dropna.csv')\n",
    "df"
   ],
   "metadata": {
    "collapsed": false
   }
  },
  {
   "cell_type": "markdown",
   "source": [
    "# DELETE ALL LATITUDE OUT OF RANGE"
   ],
   "metadata": {
    "collapsed": false
   }
  },
  {
   "cell_type": "code",
   "execution_count": 15,
   "outputs": [
    {
     "data": {
      "text/plain": "                                   key  fare_amount          pickup_datetime  \\\n0          2009-06-15 17:26:21.0000001          4.5  2009-06-15 17:26:21 UTC   \n1          2010-01-05 16:52:16.0000002         16.9  2010-01-05 16:52:16 UTC   \n2         2011-08-18 00:35:00.00000049          5.7  2011-08-18 00:35:00 UTC   \n3          2012-04-21 04:30:42.0000001          7.7  2012-04-21 04:30:42 UTC   \n4        2010-03-09 07:51:00.000000135          5.3  2010-03-09 07:51:00 UTC   \n...                                ...          ...                      ...   \n1953457    2014-11-17 13:51:02.0000002          4.0  2014-11-17 13:51:02 UTC   \n1953458    2013-02-25 17:51:28.0000004          7.0  2013-02-25 17:51:28 UTC   \n1953459    2013-07-12 22:03:41.0000006         10.5  2013-07-12 22:03:41 UTC   \n1953460    2009-01-17 09:35:37.0000002         10.9  2009-01-17 09:35:37 UTC   \n1953461  2010-01-16 15:46:00.000000153         12.9  2010-01-16 15:46:00 UTC   \n\n         pickup_longitude  pickup_latitude  dropoff_longitude  \\\n0              -73.844311        40.721319         -73.841610   \n1              -74.016048        40.711303         -73.979268   \n2              -73.982738        40.761270         -73.991242   \n3              -73.987130        40.733143         -73.991567   \n4              -73.968095        40.768008         -73.956655   \n...                   ...              ...                ...   \n1953457        -73.950787        40.770836         -73.951043   \n1953458        -73.983035        40.748276         -73.974725   \n1953459        -74.003482        40.743577         -73.976758   \n1953460        -73.971819        40.797243         -73.985921   \n1953461        -73.955140        40.779382         -73.914775   \n\n         dropoff_latitude  passenger_count  \n0               40.712278                1  \n1               40.782004                1  \n2               40.750562                2  \n3               40.758092                1  \n4               40.783762                1  \n...                   ...              ...  \n1953457         40.774543                1  \n1953458         40.741978                1  \n1953459         40.765265                1  \n1953460         40.752459                3  \n1953461         40.820602                2  \n\n[1951382 rows x 8 columns]",
      "text/html": "<div>\n<style scoped>\n    .dataframe tbody tr th:only-of-type {\n        vertical-align: middle;\n    }\n\n    .dataframe tbody tr th {\n        vertical-align: top;\n    }\n\n    .dataframe thead th {\n        text-align: right;\n    }\n</style>\n<table border=\"1\" class=\"dataframe\">\n  <thead>\n    <tr style=\"text-align: right;\">\n      <th></th>\n      <th>key</th>\n      <th>fare_amount</th>\n      <th>pickup_datetime</th>\n      <th>pickup_longitude</th>\n      <th>pickup_latitude</th>\n      <th>dropoff_longitude</th>\n      <th>dropoff_latitude</th>\n      <th>passenger_count</th>\n    </tr>\n  </thead>\n  <tbody>\n    <tr>\n      <th>0</th>\n      <td>2009-06-15 17:26:21.0000001</td>\n      <td>4.5</td>\n      <td>2009-06-15 17:26:21 UTC</td>\n      <td>-73.844311</td>\n      <td>40.721319</td>\n      <td>-73.841610</td>\n      <td>40.712278</td>\n      <td>1</td>\n    </tr>\n    <tr>\n      <th>1</th>\n      <td>2010-01-05 16:52:16.0000002</td>\n      <td>16.9</td>\n      <td>2010-01-05 16:52:16 UTC</td>\n      <td>-74.016048</td>\n      <td>40.711303</td>\n      <td>-73.979268</td>\n      <td>40.782004</td>\n      <td>1</td>\n    </tr>\n    <tr>\n      <th>2</th>\n      <td>2011-08-18 00:35:00.00000049</td>\n      <td>5.7</td>\n      <td>2011-08-18 00:35:00 UTC</td>\n      <td>-73.982738</td>\n      <td>40.761270</td>\n      <td>-73.991242</td>\n      <td>40.750562</td>\n      <td>2</td>\n    </tr>\n    <tr>\n      <th>3</th>\n      <td>2012-04-21 04:30:42.0000001</td>\n      <td>7.7</td>\n      <td>2012-04-21 04:30:42 UTC</td>\n      <td>-73.987130</td>\n      <td>40.733143</td>\n      <td>-73.991567</td>\n      <td>40.758092</td>\n      <td>1</td>\n    </tr>\n    <tr>\n      <th>4</th>\n      <td>2010-03-09 07:51:00.000000135</td>\n      <td>5.3</td>\n      <td>2010-03-09 07:51:00 UTC</td>\n      <td>-73.968095</td>\n      <td>40.768008</td>\n      <td>-73.956655</td>\n      <td>40.783762</td>\n      <td>1</td>\n    </tr>\n    <tr>\n      <th>...</th>\n      <td>...</td>\n      <td>...</td>\n      <td>...</td>\n      <td>...</td>\n      <td>...</td>\n      <td>...</td>\n      <td>...</td>\n      <td>...</td>\n    </tr>\n    <tr>\n      <th>1953457</th>\n      <td>2014-11-17 13:51:02.0000002</td>\n      <td>4.0</td>\n      <td>2014-11-17 13:51:02 UTC</td>\n      <td>-73.950787</td>\n      <td>40.770836</td>\n      <td>-73.951043</td>\n      <td>40.774543</td>\n      <td>1</td>\n    </tr>\n    <tr>\n      <th>1953458</th>\n      <td>2013-02-25 17:51:28.0000004</td>\n      <td>7.0</td>\n      <td>2013-02-25 17:51:28 UTC</td>\n      <td>-73.983035</td>\n      <td>40.748276</td>\n      <td>-73.974725</td>\n      <td>40.741978</td>\n      <td>1</td>\n    </tr>\n    <tr>\n      <th>1953459</th>\n      <td>2013-07-12 22:03:41.0000006</td>\n      <td>10.5</td>\n      <td>2013-07-12 22:03:41 UTC</td>\n      <td>-74.003482</td>\n      <td>40.743577</td>\n      <td>-73.976758</td>\n      <td>40.765265</td>\n      <td>1</td>\n    </tr>\n    <tr>\n      <th>1953460</th>\n      <td>2009-01-17 09:35:37.0000002</td>\n      <td>10.9</td>\n      <td>2009-01-17 09:35:37 UTC</td>\n      <td>-73.971819</td>\n      <td>40.797243</td>\n      <td>-73.985921</td>\n      <td>40.752459</td>\n      <td>3</td>\n    </tr>\n    <tr>\n      <th>1953461</th>\n      <td>2010-01-16 15:46:00.000000153</td>\n      <td>12.9</td>\n      <td>2010-01-16 15:46:00 UTC</td>\n      <td>-73.955140</td>\n      <td>40.779382</td>\n      <td>-73.914775</td>\n      <td>40.820602</td>\n      <td>2</td>\n    </tr>\n  </tbody>\n</table>\n<p>1951382 rows × 8 columns</p>\n</div>"
     },
     "execution_count": 15,
     "metadata": {},
     "output_type": "execute_result"
    }
   ],
   "source": [
    "df = df.loc[(df['pickup_latitude'] >= 40 ) & (df['pickup_latitude'] <= 42 ) & (df['dropoff_latitude'] >= 40 ) & (df['dropoff_latitude'] <= 42 ) & (df['pickup_longitude'] >= -76 ) & (df['pickup_longitude'] <= -72 ) & (df['dropoff_longitude'] >= -76 ) & (df['dropoff_longitude'] <= -72 )]\n",
    "df"
   ],
   "metadata": {
    "collapsed": false
   }
  },
  {
   "cell_type": "markdown",
   "source": [
    "# CALCUL DISTANCE WITH GEOPY LIB"
   ],
   "metadata": {
    "collapsed": false
   }
  },
  {
   "cell_type": "code",
   "execution_count": 16,
   "outputs": [
    {
     "name": "stderr",
     "output_type": "stream",
     "text": [
      "C:\\Users\\Utilisateur\\AppData\\Local\\Temp\\ipykernel_30320\\1709050520.py:1: SettingWithCopyWarning:\n",
      "\n",
      "\n",
      "A value is trying to be set on a copy of a slice from a DataFrame.\n",
      "Try using .loc[row_indexer,col_indexer] = value instead\n",
      "\n",
      "See the caveats in the documentation: https://pandas.pydata.org/pandas-docs/stable/user_guide/indexing.html#returning-a-view-versus-a-copy\n",
      "\n"
     ]
    },
    {
     "data": {
      "text/plain": "                                   key  fare_amount          pickup_datetime  \\\n0          2009-06-15 17:26:21.0000001          4.5  2009-06-15 17:26:21 UTC   \n1          2010-01-05 16:52:16.0000002         16.9  2010-01-05 16:52:16 UTC   \n2         2011-08-18 00:35:00.00000049          5.7  2011-08-18 00:35:00 UTC   \n3          2012-04-21 04:30:42.0000001          7.7  2012-04-21 04:30:42 UTC   \n4        2010-03-09 07:51:00.000000135          5.3  2010-03-09 07:51:00 UTC   \n...                                ...          ...                      ...   \n1953457    2014-11-17 13:51:02.0000002          4.0  2014-11-17 13:51:02 UTC   \n1953458    2013-02-25 17:51:28.0000004          7.0  2013-02-25 17:51:28 UTC   \n1953459    2013-07-12 22:03:41.0000006         10.5  2013-07-12 22:03:41 UTC   \n1953460    2009-01-17 09:35:37.0000002         10.9  2009-01-17 09:35:37 UTC   \n1953461  2010-01-16 15:46:00.000000153         12.9  2010-01-16 15:46:00 UTC   \n\n         pickup_longitude  pickup_latitude  dropoff_longitude  \\\n0              -73.844311        40.721319         -73.841610   \n1              -74.016048        40.711303         -73.979268   \n2              -73.982738        40.761270         -73.991242   \n3              -73.987130        40.733143         -73.991567   \n4              -73.968095        40.768008         -73.956655   \n...                   ...              ...                ...   \n1953457        -73.950787        40.770836         -73.951043   \n1953458        -73.983035        40.748276         -73.974725   \n1953459        -74.003482        40.743577         -73.976758   \n1953460        -73.971819        40.797243         -73.985921   \n1953461        -73.955140        40.779382         -73.914775   \n\n         dropoff_latitude  passenger_count  Distance (miles)  \n0               40.712278                1          0.639764  \n1               40.782004                1          5.246511  \n2               40.750562                2          0.863167  \n3               40.758092                1          1.737223  \n4               40.783762                1          1.241710  \n...                   ...              ...               ...  \n1953457         40.774543                1          0.256146  \n1953458         40.741978                1          0.615670  \n1953459         40.765265                1          2.050854  \n1953460         40.752459                3          3.177537  \n1953461         40.820602                2          3.545447  \n\n[1951382 rows x 9 columns]",
      "text/html": "<div>\n<style scoped>\n    .dataframe tbody tr th:only-of-type {\n        vertical-align: middle;\n    }\n\n    .dataframe tbody tr th {\n        vertical-align: top;\n    }\n\n    .dataframe thead th {\n        text-align: right;\n    }\n</style>\n<table border=\"1\" class=\"dataframe\">\n  <thead>\n    <tr style=\"text-align: right;\">\n      <th></th>\n      <th>key</th>\n      <th>fare_amount</th>\n      <th>pickup_datetime</th>\n      <th>pickup_longitude</th>\n      <th>pickup_latitude</th>\n      <th>dropoff_longitude</th>\n      <th>dropoff_latitude</th>\n      <th>passenger_count</th>\n      <th>Distance (miles)</th>\n    </tr>\n  </thead>\n  <tbody>\n    <tr>\n      <th>0</th>\n      <td>2009-06-15 17:26:21.0000001</td>\n      <td>4.5</td>\n      <td>2009-06-15 17:26:21 UTC</td>\n      <td>-73.844311</td>\n      <td>40.721319</td>\n      <td>-73.841610</td>\n      <td>40.712278</td>\n      <td>1</td>\n      <td>0.639764</td>\n    </tr>\n    <tr>\n      <th>1</th>\n      <td>2010-01-05 16:52:16.0000002</td>\n      <td>16.9</td>\n      <td>2010-01-05 16:52:16 UTC</td>\n      <td>-74.016048</td>\n      <td>40.711303</td>\n      <td>-73.979268</td>\n      <td>40.782004</td>\n      <td>1</td>\n      <td>5.246511</td>\n    </tr>\n    <tr>\n      <th>2</th>\n      <td>2011-08-18 00:35:00.00000049</td>\n      <td>5.7</td>\n      <td>2011-08-18 00:35:00 UTC</td>\n      <td>-73.982738</td>\n      <td>40.761270</td>\n      <td>-73.991242</td>\n      <td>40.750562</td>\n      <td>2</td>\n      <td>0.863167</td>\n    </tr>\n    <tr>\n      <th>3</th>\n      <td>2012-04-21 04:30:42.0000001</td>\n      <td>7.7</td>\n      <td>2012-04-21 04:30:42 UTC</td>\n      <td>-73.987130</td>\n      <td>40.733143</td>\n      <td>-73.991567</td>\n      <td>40.758092</td>\n      <td>1</td>\n      <td>1.737223</td>\n    </tr>\n    <tr>\n      <th>4</th>\n      <td>2010-03-09 07:51:00.000000135</td>\n      <td>5.3</td>\n      <td>2010-03-09 07:51:00 UTC</td>\n      <td>-73.968095</td>\n      <td>40.768008</td>\n      <td>-73.956655</td>\n      <td>40.783762</td>\n      <td>1</td>\n      <td>1.241710</td>\n    </tr>\n    <tr>\n      <th>...</th>\n      <td>...</td>\n      <td>...</td>\n      <td>...</td>\n      <td>...</td>\n      <td>...</td>\n      <td>...</td>\n      <td>...</td>\n      <td>...</td>\n      <td>...</td>\n    </tr>\n    <tr>\n      <th>1953457</th>\n      <td>2014-11-17 13:51:02.0000002</td>\n      <td>4.0</td>\n      <td>2014-11-17 13:51:02 UTC</td>\n      <td>-73.950787</td>\n      <td>40.770836</td>\n      <td>-73.951043</td>\n      <td>40.774543</td>\n      <td>1</td>\n      <td>0.256146</td>\n    </tr>\n    <tr>\n      <th>1953458</th>\n      <td>2013-02-25 17:51:28.0000004</td>\n      <td>7.0</td>\n      <td>2013-02-25 17:51:28 UTC</td>\n      <td>-73.983035</td>\n      <td>40.748276</td>\n      <td>-73.974725</td>\n      <td>40.741978</td>\n      <td>1</td>\n      <td>0.615670</td>\n    </tr>\n    <tr>\n      <th>1953459</th>\n      <td>2013-07-12 22:03:41.0000006</td>\n      <td>10.5</td>\n      <td>2013-07-12 22:03:41 UTC</td>\n      <td>-74.003482</td>\n      <td>40.743577</td>\n      <td>-73.976758</td>\n      <td>40.765265</td>\n      <td>1</td>\n      <td>2.050854</td>\n    </tr>\n    <tr>\n      <th>1953460</th>\n      <td>2009-01-17 09:35:37.0000002</td>\n      <td>10.9</td>\n      <td>2009-01-17 09:35:37 UTC</td>\n      <td>-73.971819</td>\n      <td>40.797243</td>\n      <td>-73.985921</td>\n      <td>40.752459</td>\n      <td>3</td>\n      <td>3.177537</td>\n    </tr>\n    <tr>\n      <th>1953461</th>\n      <td>2010-01-16 15:46:00.000000153</td>\n      <td>12.9</td>\n      <td>2010-01-16 15:46:00 UTC</td>\n      <td>-73.955140</td>\n      <td>40.779382</td>\n      <td>-73.914775</td>\n      <td>40.820602</td>\n      <td>2</td>\n      <td>3.545447</td>\n    </tr>\n  </tbody>\n</table>\n<p>1951382 rows × 9 columns</p>\n</div>"
     },
     "execution_count": 16,
     "metadata": {},
     "output_type": "execute_result"
    }
   ],
   "source": [
    "df['Distance (miles)'] = df.apply(lambda row: geopy.distance.geodesic((row['pickup_latitude'], row['pickup_longitude']), (row['dropoff_latitude'], row['dropoff_longitude'])).miles, axis=1)\n",
    "\n",
    "df"
   ],
   "metadata": {
    "collapsed": false
   }
  },
  {
   "cell_type": "markdown",
   "source": [
    "On this plot, we can see too many drive with high distance but cheap price AND too many drive with cheap distance but high price.\n",
    "So, we gonna limit this by adding a price by kmfeature and try to drpo rows with price by km useless"
   ],
   "metadata": {
    "collapsed": false
   }
  },
  {
   "cell_type": "markdown",
   "source": [
    "# VISUALISATION OF OUTLIERS\n",
    "## DISPLAY DISTANCE DISTRIBUTION"
   ],
   "metadata": {
    "collapsed": false
   }
  },
  {
   "cell_type": "code",
   "execution_count": 17,
   "outputs": [
    {
     "ename": "ValueError",
     "evalue": "Value of 'y' is not the name of a column in 'data_frame'. Expected one of ['key', 'fare_amount', 'pickup_datetime', 'pickup_longitude', 'pickup_latitude', 'dropoff_longitude', 'dropoff_latitude', 'passenger_count', 'Distance (miles)'] but received: Distance",
     "output_type": "error",
     "traceback": [
      "\u001B[1;31m---------------------------------------------------------------------------\u001B[0m",
      "\u001B[1;31mValueError\u001B[0m                                Traceback (most recent call last)",
      "Cell \u001B[1;32mIn[17], line 1\u001B[0m\n\u001B[1;32m----> 1\u001B[0m fig \u001B[38;5;241m=\u001B[39m \u001B[43mpx\u001B[49m\u001B[38;5;241;43m.\u001B[39;49m\u001B[43mviolin\u001B[49m\u001B[43m(\u001B[49m\u001B[43mdf\u001B[49m\u001B[43m,\u001B[49m\u001B[43m \u001B[49m\u001B[43my\u001B[49m\u001B[38;5;241;43m=\u001B[39;49m\u001B[38;5;124;43m\"\u001B[39;49m\u001B[38;5;124;43mDistance\u001B[39;49m\u001B[38;5;124;43m\"\u001B[39;49m\u001B[43m,\u001B[49m\u001B[43m \u001B[49m\u001B[43mbox\u001B[49m\u001B[38;5;241;43m=\u001B[39;49m\u001B[38;5;28;43;01mTrue\u001B[39;49;00m\u001B[43m,\u001B[49m\n\u001B[0;32m      2\u001B[0m \u001B[43m                \u001B[49m\u001B[38;5;66;43;03m# points=\"all\",\u001B[39;49;00m\n\u001B[0;32m      3\u001B[0m \u001B[43m                \u001B[49m\u001B[38;5;66;43;03m# hover_data=df.columns,\u001B[39;49;00m\n\u001B[0;32m      4\u001B[0m \u001B[43m                \u001B[49m\u001B[43mtitle\u001B[49m\u001B[38;5;241;43m=\u001B[39;49m\u001B[38;5;124;43m'\u001B[39;49m\u001B[38;5;124;43mViolin plot of Distance distribution\u001B[39;49m\u001B[38;5;124;43m'\u001B[39;49m\n\u001B[0;32m      5\u001B[0m \u001B[43m                \u001B[49m\u001B[43m)\u001B[49m\n\u001B[0;32m      6\u001B[0m fig\u001B[38;5;241m.\u001B[39mshow()\n",
      "File \u001B[1;32m~\\.conda\\envs\\DataScience\\lib\\site-packages\\plotly\\express\\_chart_types.py:608\u001B[0m, in \u001B[0;36mviolin\u001B[1;34m(data_frame, x, y, color, facet_row, facet_col, facet_col_wrap, facet_row_spacing, facet_col_spacing, hover_name, hover_data, custom_data, animation_frame, animation_group, category_orders, labels, color_discrete_sequence, color_discrete_map, orientation, violinmode, log_x, log_y, range_x, range_y, points, box, title, template, width, height)\u001B[0m\n\u001B[0;32m    572\u001B[0m \u001B[38;5;28;01mdef\u001B[39;00m \u001B[38;5;21mviolin\u001B[39m(\n\u001B[0;32m    573\u001B[0m     data_frame\u001B[38;5;241m=\u001B[39m\u001B[38;5;28;01mNone\u001B[39;00m,\n\u001B[0;32m    574\u001B[0m     x\u001B[38;5;241m=\u001B[39m\u001B[38;5;28;01mNone\u001B[39;00m,\n\u001B[1;32m   (...)\u001B[0m\n\u001B[0;32m    602\u001B[0m     height\u001B[38;5;241m=\u001B[39m\u001B[38;5;28;01mNone\u001B[39;00m,\n\u001B[0;32m    603\u001B[0m ) \u001B[38;5;241m-\u001B[39m\u001B[38;5;241m>\u001B[39m go\u001B[38;5;241m.\u001B[39mFigure:\n\u001B[0;32m    604\u001B[0m \u001B[38;5;250m    \u001B[39m\u001B[38;5;124;03m\"\"\"\u001B[39;00m\n\u001B[0;32m    605\u001B[0m \u001B[38;5;124;03m    In a violin plot, rows of `data_frame` are grouped together into a\u001B[39;00m\n\u001B[0;32m    606\u001B[0m \u001B[38;5;124;03m    curved mark to visualize their distribution.\u001B[39;00m\n\u001B[0;32m    607\u001B[0m \u001B[38;5;124;03m    \"\"\"\u001B[39;00m\n\u001B[1;32m--> 608\u001B[0m     \u001B[38;5;28;01mreturn\u001B[39;00m \u001B[43mmake_figure\u001B[49m\u001B[43m(\u001B[49m\n\u001B[0;32m    609\u001B[0m \u001B[43m        \u001B[49m\u001B[43margs\u001B[49m\u001B[38;5;241;43m=\u001B[39;49m\u001B[38;5;28;43mlocals\u001B[39;49m\u001B[43m(\u001B[49m\u001B[43m)\u001B[49m\u001B[43m,\u001B[49m\n\u001B[0;32m    610\u001B[0m \u001B[43m        \u001B[49m\u001B[43mconstructor\u001B[49m\u001B[38;5;241;43m=\u001B[39;49m\u001B[43mgo\u001B[49m\u001B[38;5;241;43m.\u001B[39;49m\u001B[43mViolin\u001B[49m\u001B[43m,\u001B[49m\n\u001B[0;32m    611\u001B[0m \u001B[43m        \u001B[49m\u001B[43mtrace_patch\u001B[49m\u001B[38;5;241;43m=\u001B[39;49m\u001B[38;5;28;43mdict\u001B[39;49m\u001B[43m(\u001B[49m\n\u001B[0;32m    612\u001B[0m \u001B[43m            \u001B[49m\u001B[43mpoints\u001B[49m\u001B[38;5;241;43m=\u001B[39;49m\u001B[43mpoints\u001B[49m\u001B[43m,\u001B[49m\n\u001B[0;32m    613\u001B[0m \u001B[43m            \u001B[49m\u001B[43mbox\u001B[49m\u001B[38;5;241;43m=\u001B[39;49m\u001B[38;5;28;43mdict\u001B[39;49m\u001B[43m(\u001B[49m\u001B[43mvisible\u001B[49m\u001B[38;5;241;43m=\u001B[39;49m\u001B[43mbox\u001B[49m\u001B[43m)\u001B[49m\u001B[43m,\u001B[49m\n\u001B[0;32m    614\u001B[0m \u001B[43m            \u001B[49m\u001B[43mscalegroup\u001B[49m\u001B[38;5;241;43m=\u001B[39;49m\u001B[38;5;28;43;01mTrue\u001B[39;49;00m\u001B[43m,\u001B[49m\n\u001B[0;32m    615\u001B[0m \u001B[43m            \u001B[49m\u001B[43mx0\u001B[49m\u001B[38;5;241;43m=\u001B[39;49m\u001B[38;5;124;43m\"\u001B[39;49m\u001B[38;5;124;43m \u001B[39;49m\u001B[38;5;124;43m\"\u001B[39;49m\u001B[43m,\u001B[49m\n\u001B[0;32m    616\u001B[0m \u001B[43m            \u001B[49m\u001B[43my0\u001B[49m\u001B[38;5;241;43m=\u001B[39;49m\u001B[38;5;124;43m\"\u001B[39;49m\u001B[38;5;124;43m \u001B[39;49m\u001B[38;5;124;43m\"\u001B[39;49m\u001B[43m,\u001B[49m\n\u001B[0;32m    617\u001B[0m \u001B[43m        \u001B[49m\u001B[43m)\u001B[49m\u001B[43m,\u001B[49m\n\u001B[0;32m    618\u001B[0m \u001B[43m        \u001B[49m\u001B[43mlayout_patch\u001B[49m\u001B[38;5;241;43m=\u001B[39;49m\u001B[38;5;28;43mdict\u001B[39;49m\u001B[43m(\u001B[49m\u001B[43mviolinmode\u001B[49m\u001B[38;5;241;43m=\u001B[39;49m\u001B[43mviolinmode\u001B[49m\u001B[43m)\u001B[49m\u001B[43m,\u001B[49m\n\u001B[0;32m    619\u001B[0m \u001B[43m    \u001B[49m\u001B[43m)\u001B[49m\n",
      "File \u001B[1;32m~\\.conda\\envs\\DataScience\\lib\\site-packages\\plotly\\express\\_core.py:1991\u001B[0m, in \u001B[0;36mmake_figure\u001B[1;34m(args, constructor, trace_patch, layout_patch)\u001B[0m\n\u001B[0;32m   1988\u001B[0m layout_patch \u001B[38;5;241m=\u001B[39m layout_patch \u001B[38;5;129;01mor\u001B[39;00m {}\n\u001B[0;32m   1989\u001B[0m apply_default_cascade(args)\n\u001B[1;32m-> 1991\u001B[0m args \u001B[38;5;241m=\u001B[39m \u001B[43mbuild_dataframe\u001B[49m\u001B[43m(\u001B[49m\u001B[43margs\u001B[49m\u001B[43m,\u001B[49m\u001B[43m \u001B[49m\u001B[43mconstructor\u001B[49m\u001B[43m)\u001B[49m\n\u001B[0;32m   1992\u001B[0m \u001B[38;5;28;01mif\u001B[39;00m constructor \u001B[38;5;129;01min\u001B[39;00m [go\u001B[38;5;241m.\u001B[39mTreemap, go\u001B[38;5;241m.\u001B[39mSunburst, go\u001B[38;5;241m.\u001B[39mIcicle] \u001B[38;5;129;01mand\u001B[39;00m args[\u001B[38;5;124m\"\u001B[39m\u001B[38;5;124mpath\u001B[39m\u001B[38;5;124m\"\u001B[39m] \u001B[38;5;129;01mis\u001B[39;00m \u001B[38;5;129;01mnot\u001B[39;00m \u001B[38;5;28;01mNone\u001B[39;00m:\n\u001B[0;32m   1993\u001B[0m     args \u001B[38;5;241m=\u001B[39m process_dataframe_hierarchy(args)\n",
      "File \u001B[1;32m~\\.conda\\envs\\DataScience\\lib\\site-packages\\plotly\\express\\_core.py:1406\u001B[0m, in \u001B[0;36mbuild_dataframe\u001B[1;34m(args, constructor)\u001B[0m\n\u001B[0;32m   1403\u001B[0m     args[\u001B[38;5;124m\"\u001B[39m\u001B[38;5;124mcolor\u001B[39m\u001B[38;5;124m\"\u001B[39m] \u001B[38;5;241m=\u001B[39m \u001B[38;5;28;01mNone\u001B[39;00m\n\u001B[0;32m   1404\u001B[0m \u001B[38;5;66;03m# now that things have been prepped, we do the systematic rewriting of `args`\u001B[39;00m\n\u001B[1;32m-> 1406\u001B[0m df_output, wide_id_vars \u001B[38;5;241m=\u001B[39m \u001B[43mprocess_args_into_dataframe\u001B[49m\u001B[43m(\u001B[49m\n\u001B[0;32m   1407\u001B[0m \u001B[43m    \u001B[49m\u001B[43margs\u001B[49m\u001B[43m,\u001B[49m\u001B[43m \u001B[49m\u001B[43mwide_mode\u001B[49m\u001B[43m,\u001B[49m\u001B[43m \u001B[49m\u001B[43mvar_name\u001B[49m\u001B[43m,\u001B[49m\u001B[43m \u001B[49m\u001B[43mvalue_name\u001B[49m\n\u001B[0;32m   1408\u001B[0m \u001B[43m\u001B[49m\u001B[43m)\u001B[49m\n\u001B[0;32m   1410\u001B[0m \u001B[38;5;66;03m# now that `df_output` exists and `args` contains only references, we complete\u001B[39;00m\n\u001B[0;32m   1411\u001B[0m \u001B[38;5;66;03m# the special-case and wide-mode handling by further rewriting args and/or mutating\u001B[39;00m\n\u001B[0;32m   1412\u001B[0m \u001B[38;5;66;03m# df_output\u001B[39;00m\n\u001B[0;32m   1414\u001B[0m count_name \u001B[38;5;241m=\u001B[39m _escape_col_name(df_output, \u001B[38;5;124m\"\u001B[39m\u001B[38;5;124mcount\u001B[39m\u001B[38;5;124m\"\u001B[39m, [var_name, value_name])\n",
      "File \u001B[1;32m~\\.conda\\envs\\DataScience\\lib\\site-packages\\plotly\\express\\_core.py:1208\u001B[0m, in \u001B[0;36mprocess_args_into_dataframe\u001B[1;34m(args, wide_mode, var_name, value_name)\u001B[0m\n\u001B[0;32m   1206\u001B[0m         \u001B[38;5;28;01mif\u001B[39;00m argument \u001B[38;5;241m==\u001B[39m \u001B[38;5;124m\"\u001B[39m\u001B[38;5;124mindex\u001B[39m\u001B[38;5;124m\"\u001B[39m:\n\u001B[0;32m   1207\u001B[0m             err_msg \u001B[38;5;241m+\u001B[39m\u001B[38;5;241m=\u001B[39m \u001B[38;5;124m\"\u001B[39m\u001B[38;5;130;01m\\n\u001B[39;00m\u001B[38;5;124m To use the index, pass it in directly as `df.index`.\u001B[39m\u001B[38;5;124m\"\u001B[39m\n\u001B[1;32m-> 1208\u001B[0m         \u001B[38;5;28;01mraise\u001B[39;00m \u001B[38;5;167;01mValueError\u001B[39;00m(err_msg)\n\u001B[0;32m   1209\u001B[0m \u001B[38;5;28;01melif\u001B[39;00m length \u001B[38;5;129;01mand\u001B[39;00m \u001B[38;5;28mlen\u001B[39m(df_input[argument]) \u001B[38;5;241m!=\u001B[39m length:\n\u001B[0;32m   1210\u001B[0m     \u001B[38;5;28;01mraise\u001B[39;00m \u001B[38;5;167;01mValueError\u001B[39;00m(\n\u001B[0;32m   1211\u001B[0m         \u001B[38;5;124m\"\u001B[39m\u001B[38;5;124mAll arguments should have the same length. \u001B[39m\u001B[38;5;124m\"\u001B[39m\n\u001B[0;32m   1212\u001B[0m         \u001B[38;5;124m\"\u001B[39m\u001B[38;5;124mThe length of column argument `df[\u001B[39m\u001B[38;5;132;01m%s\u001B[39;00m\u001B[38;5;124m]` is \u001B[39m\u001B[38;5;132;01m%d\u001B[39;00m\u001B[38;5;124m, whereas the \u001B[39m\u001B[38;5;124m\"\u001B[39m\n\u001B[1;32m   (...)\u001B[0m\n\u001B[0;32m   1219\u001B[0m         )\n\u001B[0;32m   1220\u001B[0m     )\n",
      "\u001B[1;31mValueError\u001B[0m: Value of 'y' is not the name of a column in 'data_frame'. Expected one of ['key', 'fare_amount', 'pickup_datetime', 'pickup_longitude', 'pickup_latitude', 'dropoff_longitude', 'dropoff_latitude', 'passenger_count', 'Distance (miles)'] but received: Distance"
     ]
    }
   ],
   "source": [
    "fig = px.violin(df, y=\"Distance\", box=True,\n",
    "                # points=\"all\",\n",
    "                # hover_data=df.columns,\n",
    "                title='Violin plot of Distance distribution'\n",
    "                )\n",
    "fig.show()"
   ],
   "metadata": {
    "collapsed": false
   }
  },
  {
   "cell_type": "markdown",
   "source": [
    "# Calcul D’Outliers :\n",
    "X < q1 - 1.5 x iqr X > q3 - 1.5 x iqr"
   ],
   "metadata": {
    "collapsed": false
   }
  },
  {
   "cell_type": "code",
   "execution_count": null,
   "outputs": [],
   "source": [
    "q1 = df['Distance'].quantile([.25])\n",
    "q1 = q1[0.25]\n",
    "q3 = df['Distance'].quantile([.75])\n",
    "q3 = q3[0.75]\n",
    "\n",
    "iqr = q3 - q1"
   ],
   "metadata": {
    "collapsed": false
   }
  },
  {
   "cell_type": "code",
   "execution_count": null,
   "outputs": [],
   "source": [
    "print(f\" IQR = {iqr}, q1 = {q1}, q3 = {q3}\")"
   ],
   "metadata": {
    "collapsed": false
   }
  },
  {
   "cell_type": "code",
   "execution_count": null,
   "outputs": [],
   "source": [
    "outliers_superieur = q3 + (1.5 * iqr)\n",
    "outliers_inferieur = q1 - (1.5 * iqr)\n",
    "\n",
    "print(f'Outliers Inférieur = {outliers_inferieur}')\n",
    "print(f'Outliers Supérieur = {outliers_superieur}')"
   ],
   "metadata": {
    "collapsed": false
   }
  },
  {
   "cell_type": "markdown",
   "source": [
    "# DROP OUTLIERS"
   ],
   "metadata": {
    "collapsed": false
   }
  },
  {
   "cell_type": "code",
   "execution_count": null,
   "outputs": [],
   "source": [
    "df = df.loc[(df['Distance'] <= outliers_superieur) & (df['Distance'] >= outliers_inferieur)]\n",
    "df"
   ],
   "metadata": {
    "collapsed": false
   }
  },
  {
   "cell_type": "markdown",
   "source": [
    "# DISPLAY NEW VIOLIN PLOT WITHOUT OUTLIERS"
   ],
   "metadata": {
    "collapsed": false
   }
  },
  {
   "cell_type": "code",
   "execution_count": null,
   "outputs": [],
   "source": [
    "fig = px.violin(df, y=\"Distance\", box=True,\n",
    "                # points=\"all\",\n",
    "                # hover_data=df.columns,\n",
    "                title='Violin plot of Distance distribution'\n",
    "                )\n",
    "fig.show()"
   ],
   "metadata": {
    "collapsed": false
   }
  },
  {
   "cell_type": "markdown",
   "source": [
    "# SCATTER PLOT OF FARE AMOUNT BY DISTANCE"
   ],
   "metadata": {
    "collapsed": false
   }
  },
  {
   "cell_type": "code",
   "execution_count": null,
   "outputs": [],
   "source": [
    "fig = px.scatter(df, x='Distance', y='fare_amount', color='passenger_count')\n",
    "fig.show()"
   ],
   "metadata": {
    "collapsed": false
   }
  },
  {
   "cell_type": "markdown",
   "source": [
    "# EXPORT CSV"
   ],
   "metadata": {
    "collapsed": false
   }
  },
  {
   "cell_type": "code",
   "execution_count": null,
   "outputs": [],
   "source": [
    "df.to_csv('../../DATA/PREPROCESSING/prepro_01_geo.csv', index=False)"
   ],
   "metadata": {
    "collapsed": false
   }
  }
 ],
 "metadata": {
  "kernelspec": {
   "display_name": "Python 3",
   "language": "python",
   "name": "python3"
  },
  "language_info": {
   "codemirror_mode": {
    "name": "ipython",
    "version": 2
   },
   "file_extension": ".py",
   "mimetype": "text/x-python",
   "name": "python",
   "nbconvert_exporter": "python",
   "pygments_lexer": "ipython2",
   "version": "2.7.6"
  }
 },
 "nbformat": 4,
 "nbformat_minor": 0
}
