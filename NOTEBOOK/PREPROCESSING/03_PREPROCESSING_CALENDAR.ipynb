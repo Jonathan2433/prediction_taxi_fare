{
 "cells": [
  {
   "cell_type": "markdown",
   "source": [
    "# IMPORT LIBS"
   ],
   "metadata": {
    "collapsed": false
   }
  },
  {
   "cell_type": "code",
   "execution_count": 19,
   "metadata": {
    "collapsed": true
   },
   "outputs": [],
   "source": [
    "import pandas as pd\n",
    "import plotly.express as px\n",
    "import math\n",
    "import numpy as np\n",
    "import geopy.distance"
   ]
  },
  {
   "cell_type": "markdown",
   "source": [
    "# OPEN DATASET"
   ],
   "metadata": {
    "collapsed": false
   }
  },
  {
   "cell_type": "code",
   "execution_count": 20,
   "outputs": [
    {
     "data": {
      "text/plain": "                                   key  fare_amount          pickup_datetime  \\\n0          2009-06-15 17:26:21.0000001          4.5  2009-06-15 17:26:21 UTC   \n1          2010-01-05 16:52:16.0000002         16.9  2010-01-05 16:52:16 UTC   \n2         2011-08-18 00:35:00.00000049          5.7  2011-08-18 00:35:00 UTC   \n3          2012-04-21 04:30:42.0000001          7.7  2012-04-21 04:30:42 UTC   \n4        2010-03-09 07:51:00.000000135          5.3  2010-03-09 07:51:00 UTC   \n...                                ...          ...                      ...   \n1953457    2014-11-17 13:51:02.0000002          4.0  2014-11-17 13:51:02 UTC   \n1953458    2013-02-25 17:51:28.0000004          7.0  2013-02-25 17:51:28 UTC   \n1953459    2013-07-12 22:03:41.0000006         10.5  2013-07-12 22:03:41 UTC   \n1953460    2009-01-17 09:35:37.0000002         10.9  2009-01-17 09:35:37 UTC   \n1953461  2010-01-16 15:46:00.000000153         12.9  2010-01-16 15:46:00 UTC   \n\n         pickup_longitude  pickup_latitude  dropoff_longitude  \\\n0              -73.844311        40.721319         -73.841610   \n1              -74.016048        40.711303         -73.979268   \n2              -73.982738        40.761270         -73.991242   \n3              -73.987130        40.733143         -73.991567   \n4              -73.968095        40.768008         -73.956655   \n...                   ...              ...                ...   \n1953457        -73.950787        40.770836         -73.951043   \n1953458        -73.983035        40.748276         -73.974725   \n1953459        -74.003482        40.743577         -73.976758   \n1953460        -73.971819        40.797243         -73.985921   \n1953461        -73.955140        40.779382         -73.914775   \n\n         dropoff_latitude  passenger_count  \n0               40.712278                1  \n1               40.782004                1  \n2               40.750562                2  \n3               40.758092                1  \n4               40.783762                1  \n...                   ...              ...  \n1953457         40.774543                1  \n1953458         40.741978                1  \n1953459         40.765265                1  \n1953460         40.752459                3  \n1953461         40.820602                2  \n\n[1953462 rows x 8 columns]",
      "text/html": "<div>\n<style scoped>\n    .dataframe tbody tr th:only-of-type {\n        vertical-align: middle;\n    }\n\n    .dataframe tbody tr th {\n        vertical-align: top;\n    }\n\n    .dataframe thead th {\n        text-align: right;\n    }\n</style>\n<table border=\"1\" class=\"dataframe\">\n  <thead>\n    <tr style=\"text-align: right;\">\n      <th></th>\n      <th>key</th>\n      <th>fare_amount</th>\n      <th>pickup_datetime</th>\n      <th>pickup_longitude</th>\n      <th>pickup_latitude</th>\n      <th>dropoff_longitude</th>\n      <th>dropoff_latitude</th>\n      <th>passenger_count</th>\n    </tr>\n  </thead>\n  <tbody>\n    <tr>\n      <th>0</th>\n      <td>2009-06-15 17:26:21.0000001</td>\n      <td>4.5</td>\n      <td>2009-06-15 17:26:21 UTC</td>\n      <td>-73.844311</td>\n      <td>40.721319</td>\n      <td>-73.841610</td>\n      <td>40.712278</td>\n      <td>1</td>\n    </tr>\n    <tr>\n      <th>1</th>\n      <td>2010-01-05 16:52:16.0000002</td>\n      <td>16.9</td>\n      <td>2010-01-05 16:52:16 UTC</td>\n      <td>-74.016048</td>\n      <td>40.711303</td>\n      <td>-73.979268</td>\n      <td>40.782004</td>\n      <td>1</td>\n    </tr>\n    <tr>\n      <th>2</th>\n      <td>2011-08-18 00:35:00.00000049</td>\n      <td>5.7</td>\n      <td>2011-08-18 00:35:00 UTC</td>\n      <td>-73.982738</td>\n      <td>40.761270</td>\n      <td>-73.991242</td>\n      <td>40.750562</td>\n      <td>2</td>\n    </tr>\n    <tr>\n      <th>3</th>\n      <td>2012-04-21 04:30:42.0000001</td>\n      <td>7.7</td>\n      <td>2012-04-21 04:30:42 UTC</td>\n      <td>-73.987130</td>\n      <td>40.733143</td>\n      <td>-73.991567</td>\n      <td>40.758092</td>\n      <td>1</td>\n    </tr>\n    <tr>\n      <th>4</th>\n      <td>2010-03-09 07:51:00.000000135</td>\n      <td>5.3</td>\n      <td>2010-03-09 07:51:00 UTC</td>\n      <td>-73.968095</td>\n      <td>40.768008</td>\n      <td>-73.956655</td>\n      <td>40.783762</td>\n      <td>1</td>\n    </tr>\n    <tr>\n      <th>...</th>\n      <td>...</td>\n      <td>...</td>\n      <td>...</td>\n      <td>...</td>\n      <td>...</td>\n      <td>...</td>\n      <td>...</td>\n      <td>...</td>\n    </tr>\n    <tr>\n      <th>1953457</th>\n      <td>2014-11-17 13:51:02.0000002</td>\n      <td>4.0</td>\n      <td>2014-11-17 13:51:02 UTC</td>\n      <td>-73.950787</td>\n      <td>40.770836</td>\n      <td>-73.951043</td>\n      <td>40.774543</td>\n      <td>1</td>\n    </tr>\n    <tr>\n      <th>1953458</th>\n      <td>2013-02-25 17:51:28.0000004</td>\n      <td>7.0</td>\n      <td>2013-02-25 17:51:28 UTC</td>\n      <td>-73.983035</td>\n      <td>40.748276</td>\n      <td>-73.974725</td>\n      <td>40.741978</td>\n      <td>1</td>\n    </tr>\n    <tr>\n      <th>1953459</th>\n      <td>2013-07-12 22:03:41.0000006</td>\n      <td>10.5</td>\n      <td>2013-07-12 22:03:41 UTC</td>\n      <td>-74.003482</td>\n      <td>40.743577</td>\n      <td>-73.976758</td>\n      <td>40.765265</td>\n      <td>1</td>\n    </tr>\n    <tr>\n      <th>1953460</th>\n      <td>2009-01-17 09:35:37.0000002</td>\n      <td>10.9</td>\n      <td>2009-01-17 09:35:37 UTC</td>\n      <td>-73.971819</td>\n      <td>40.797243</td>\n      <td>-73.985921</td>\n      <td>40.752459</td>\n      <td>3</td>\n    </tr>\n    <tr>\n      <th>1953461</th>\n      <td>2010-01-16 15:46:00.000000153</td>\n      <td>12.9</td>\n      <td>2010-01-16 15:46:00 UTC</td>\n      <td>-73.955140</td>\n      <td>40.779382</td>\n      <td>-73.914775</td>\n      <td>40.820602</td>\n      <td>2</td>\n    </tr>\n  </tbody>\n</table>\n<p>1953462 rows × 8 columns</p>\n</div>"
     },
     "execution_count": 20,
     "metadata": {},
     "output_type": "execute_result"
    }
   ],
   "source": [
    "df = pd.read_csv('../../DATA/PREPROCESSING/prepro_02_fare_amount.csv')\n",
    "df"
   ],
   "metadata": {
    "collapsed": false
   }
  },
  {
   "cell_type": "code",
   "execution_count": null,
   "outputs": [],
   "source": [
    "df.to_csv('../../DATA/PREPROCESSING/prepro_03_calendar.csv', index=False)"
   ],
   "metadata": {
    "collapsed": false
   }
  }
 ],
 "metadata": {
  "kernelspec": {
   "display_name": "Python 3",
   "language": "python",
   "name": "python3"
  },
  "language_info": {
   "codemirror_mode": {
    "name": "ipython",
    "version": 2
   },
   "file_extension": ".py",
   "mimetype": "text/x-python",
   "name": "python",
   "nbconvert_exporter": "python",
   "pygments_lexer": "ipython2",
   "version": "2.7.6"
  }
 },
 "nbformat": 4,
 "nbformat_minor": 0
}
